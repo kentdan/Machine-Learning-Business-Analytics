{
 "cells": [
  {
   "cell_type": "markdown",
   "metadata": {},
   "source": [
    "# MLBA homework1"
   ]
  },
  {
   "cell_type": "code",
   "execution_count": 1,
   "metadata": {},
   "outputs": [],
   "source": [
    "# Put the package you need to use here\n",
    "using Random"
   ]
  },
  {
   "cell_type": "markdown",
   "metadata": {},
   "source": [
    "## Q1 Inner Product"
   ]
  },
  {
   "cell_type": "markdown",
   "metadata": {},
   "source": [
    "Define a function on the below block, and name it \"Inner_Product\""
   ]
  },
  {
   "cell_type": "code",
   "execution_count": 2,
   "metadata": {},
   "outputs": [],
   "source": [
    "function f(x,y)\n",
    "           x'*y\n",
    "       end\n",
    "Inner_Product = f ;"
   ]
  },
  {
   "cell_type": "markdown",
   "metadata": {},
   "source": [
    "Run the below blocks to get marks"
   ]
  },
  {
   "cell_type": "code",
   "execution_count": 3,
   "metadata": {},
   "outputs": [
    {
     "name": "stdout",
     "output_type": "stream",
     "text": [
      "20\n"
     ]
    }
   ],
   "source": [
    "# Q1 Test 1\n",
    "Q1_1_v1 = [1, 2, 3]\n",
    "Q1_1_v2 = [1, 2, 5]\n",
    "println(Inner_Product(Q1_1_v1, Q1_1_v2))"
   ]
  },
  {
   "cell_type": "code",
   "execution_count": 4,
   "metadata": {},
   "outputs": [
    {
     "name": "stdout",
     "output_type": "stream",
     "text": [
      "19.008436000000003\n"
     ]
    }
   ],
   "source": [
    "# Q1 Test 2\n",
    "Q1_2_v1 = [1.82, -2.56, 3.64]\n",
    "Q1_2_v2 = [-1.43, -0.788, 5.3829]\n",
    "println(Inner_Product(Q1_2_v1, Q1_2_v2))"
   ]
  },
  {
   "cell_type": "code",
   "execution_count": 5,
   "metadata": {},
   "outputs": [
    {
     "ename": "LoadError",
     "evalue": "DimensionMismatch(\"matrix A has dimensions (3,1), vector B has length 3\")",
     "output_type": "error",
     "traceback": [
      "DimensionMismatch(\"matrix A has dimensions (3,1), vector B has length 3\")",
      "",
      "Stacktrace:",
      " [1] generic_matvecmul!(C::Vector{Int64}, tA::Char, A::Matrix{Int64}, B::Vector{Int64}, _add::LinearAlgebra.MulAddMul{true, true, Bool, Bool})",
      "   @ LinearAlgebra /Users/sabae/src/julia/usr/share/julia/stdlib/v1.7/LinearAlgebra/src/matmul.jl:713",
      " [2] mul!",
      "   @ /Users/sabae/src/julia/usr/share/julia/stdlib/v1.7/LinearAlgebra/src/matmul.jl:129 [inlined]",
      " [3] mul!",
      "   @ /Users/sabae/src/julia/usr/share/julia/stdlib/v1.7/LinearAlgebra/src/matmul.jl:275 [inlined]",
      " [4] *",
      "   @ /Users/sabae/src/julia/usr/share/julia/stdlib/v1.7/LinearAlgebra/src/matmul.jl:113 [inlined]",
      " [5] f(x::Matrix{Int64}, y::Vector{Int64})",
      "   @ Main ./In[2]:2",
      " [6] top-level scope",
      "   @ In[5]:4",
      " [7] eval",
      "   @ ./boot.jl:373 [inlined]",
      " [8] include_string(mapexpr::typeof(REPL.softscope), mod::Module, code::String, filename::String)",
      "   @ Base ./loading.jl:1196"
     ]
    }
   ],
   "source": [
    "#Q1 Test 3\n",
    "Q1_3_v1 = [1 3 5]\n",
    "Q1_3_v2 = [1, 3, 4]\n",
    "println(Inner_Product(Q1_3_v1, Q1_3_v2))"
   ]
  },
  {
   "cell_type": "code",
   "execution_count": 6,
   "metadata": {},
   "outputs": [
    {
     "name": "stdout",
     "output_type": "stream",
     "text": [
      "2.525657893403556\n"
     ]
    }
   ],
   "source": [
    "#Q1 Test 4\n",
    "Random.seed!(1314)\n",
    "Q1_4_v1 = rand(10)\n",
    "Q1_4_v2 = rand(10)\n",
    "println(Inner_Product(Q1_4_v1, Q1_4_v2))"
   ]
  },
  {
   "cell_type": "code",
   "execution_count": 7,
   "metadata": {},
   "outputs": [
    {
     "name": "stdout",
     "output_type": "stream",
     "text": [
      "2.510400216244033e7\n"
     ]
    }
   ],
   "source": [
    "# Q1 Test 5\n",
    "Random.seed!(9487)\n",
    "Q1_5_v1 = rand(10000)*100\n",
    "Q1_5_v2 = rand(10000)*100\n",
    "println(Inner_Product(Q1_5_v1, Q1_5_v2))"
   ]
  },
  {
   "cell_type": "markdown",
   "metadata": {},
   "source": [
    "## Q2 Exception Handling"
   ]
  },
  {
   "cell_type": "markdown",
   "metadata": {},
   "source": [
    "Define a function on the below block, and name it \"Strict_inner_Product\""
   ]
  },
  {
   "cell_type": "code",
   "execution_count": 8,
   "metadata": {},
   "outputs": [],
   "source": [
    "function g(x,y)\n",
    "    if(size(x) != size(y))\n",
    "        dx = size(x)\n",
    "        dy = size(y)\n",
    "        @warn  \" $dx vector can’t do inner product with a $dy vector!\"\n",
    "        return 0\n",
    "    else\n",
    "    x'*y\n",
    "    end\n",
    "end\n",
    "Strict_inner_Product = g;"
   ]
  },
  {
   "cell_type": "markdown",
   "metadata": {},
   "source": [
    "Run the below blocks to get marks"
   ]
  },
  {
   "cell_type": "code",
   "execution_count": 9,
   "metadata": {},
   "outputs": [
    {
     "name": "stdout",
     "output_type": "stream",
     "text": [
      "20\n"
     ]
    }
   ],
   "source": [
    "# Q2 Test 1\n",
    "Q2_1_v1 = [1, 2, 3]\n",
    "Q2_1_v2 = [1, 2, 5]\n",
    "println(Strict_inner_Product(Q2_1_v1, Q2_1_v2))"
   ]
  },
  {
   "cell_type": "code",
   "execution_count": 10,
   "metadata": {},
   "outputs": [
    {
     "name": "stdout",
     "output_type": "stream",
     "text": [
      "0\n"
     ]
    },
    {
     "name": "stderr",
     "output_type": "stream",
     "text": [
      "┌ Warning:  (3,) vector can’t do inner product with a (4,) vector!\n",
      "└ @ Main In[8]:5\n"
     ]
    }
   ],
   "source": [
    "# Q2 Test 2\n",
    "Q2_2_v1 = [1, 2, 3]\n",
    "Q2_2_v2 = [1, 2, 5, 8]\n",
    "println(Strict_inner_Product(Q2_2_v1, Q2_2_v2))"
   ]
  },
  {
   "cell_type": "code",
   "execution_count": 11,
   "metadata": {},
   "outputs": [
    {
     "name": "stdout",
     "output_type": "stream",
     "text": [
      "2.4901545835740273e6\n"
     ]
    }
   ],
   "source": [
    "# Q2 Test 3\n",
    "Random.seed!(2468)\n",
    "Q2_3_v1 = rand(1000)*100\n",
    "Q2_3_v2 = rand(1000)*100\n",
    "println(Strict_inner_Product(Q2_3_v1, Q2_3_v2))"
   ]
  },
  {
   "cell_type": "code",
   "execution_count": 12,
   "metadata": {},
   "outputs": [
    {
     "name": "stdout",
     "output_type": "stream",
     "text": [
      "0\n"
     ]
    },
    {
     "name": "stderr",
     "output_type": "stream",
     "text": [
      "┌ Warning:  (1, 5) vector can’t do inner product with a (4,) vector!\n",
      "└ @ Main In[8]:5\n"
     ]
    }
   ],
   "source": [
    "# Q2 Test 4\n",
    "Q2_4_v1 = [1 2 3 4 5]\n",
    "Q2_4_v2 = [3, 4, 5, 6]\n",
    "println(Strict_inner_Product(Q2_4_v1, Q2_4_v2))"
   ]
  },
  {
   "cell_type": "code",
   "execution_count": 13,
   "metadata": {},
   "outputs": [
    {
     "name": "stdout",
     "output_type": "stream",
     "text": [
      "0\n"
     ]
    },
    {
     "name": "stderr",
     "output_type": "stream",
     "text": [
      "┌ Warning:  (100,) vector can’t do inner product with a (1, 1001) vector!\n",
      "└ @ Main In[8]:5\n"
     ]
    }
   ],
   "source": [
    "# Q2 Test 5\n",
    "Q2_5_v1 = rand(100)\n",
    "Q2_5_v2 = rand(1001)'\n",
    "println(Strict_inner_Product(Q2_5_v1, Q2_5_v2))"
   ]
  },
  {
   "cell_type": "markdown",
   "metadata": {},
   "source": [
    "## Q3 Advanced Exception Handling"
   ]
  },
  {
   "cell_type": "markdown",
   "metadata": {},
   "source": [
    "Define a function on the below block, and name it \"Identify_Wrong_Datatype\""
   ]
  },
  {
   "cell_type": "code",
   "execution_count": 14,
   "metadata": {},
   "outputs": [],
   "source": [
    "function h(x,y)\n",
    "    if (typeof(x) != typeof(y))\n",
    "        #println(\"Warning! 3*1 vector can’t do inner product with a 4*1 vector!\")\n",
    "        tx = typeof(x)\n",
    "        ty = typeof(y)\n",
    "        @warn  \" $tx can’t do inner product with $ty !\"\n",
    "        return 0\n",
    "    elseif (typeof(x) ==String &&  typeof(y)== String)\n",
    "        tx = typeof(x)\n",
    "        ty = typeof(y)\n",
    "            @warn  \" $tx can’t do inner product with $ty !\"\n",
    "    else\n",
    "    x'*y\n",
    "    end\n",
    "end\n",
    "Identify_Wrong_Datatype = h;"
   ]
  },
  {
   "cell_type": "markdown",
   "metadata": {},
   "source": [
    "Run the below blocks to get marks"
   ]
  },
  {
   "cell_type": "code",
   "execution_count": 15,
   "metadata": {},
   "outputs": [
    {
     "name": "stdout",
     "output_type": "stream",
     "text": [
      "20\n"
     ]
    }
   ],
   "source": [
    "# Q3 Test 1\n",
    "Q3_1_v1 = [1, 2, 3]\n",
    "Q3_1_v2 = [1, 2, 5]\n",
    "println(Identify_Wrong_Datatype(Q3_1_v1, Q3_1_v2))"
   ]
  },
  {
   "cell_type": "code",
   "execution_count": 16,
   "metadata": {},
   "outputs": [
    {
     "name": "stdout",
     "output_type": "stream",
     "text": [
      "0\n"
     ]
    },
    {
     "name": "stderr",
     "output_type": "stream",
     "text": [
      "┌ Warning:  Vector{Int64} can’t do inner product with String !\n",
      "└ @ Main In[14]:6\n"
     ]
    }
   ],
   "source": [
    "# Q3 Test 2\n",
    "Q3_2_v1 = [1, 2, 3]\n",
    "Q3_2_v2 = \"[1, 2, 5]\"\n",
    "println(Identify_Wrong_Datatype(Q3_2_v1, Q3_2_v2))"
   ]
  },
  {
   "cell_type": "code",
   "execution_count": 17,
   "metadata": {},
   "outputs": [
    {
     "name": "stdout",
     "output_type": "stream",
     "text": [
      "0\n"
     ]
    },
    {
     "name": "stderr",
     "output_type": "stream",
     "text": [
      "┌ Warning:  String can’t do inner product with Vector{Int64} !\n",
      "└ @ Main In[14]:6\n"
     ]
    }
   ],
   "source": [
    "# Q3 Test 3\n",
    "Q3_3_v1 = \"[1, 2, 3]\"\n",
    "Q3_3_v2 = [1, 2, 5]\n",
    "println(Identify_Wrong_Datatype(Q3_3_v1, Q3_3_v2))"
   ]
  },
  {
   "cell_type": "code",
   "execution_count": 18,
   "metadata": {},
   "outputs": [
    {
     "name": "stdout",
     "output_type": "stream",
     "text": [
      "nothing\n"
     ]
    },
    {
     "name": "stderr",
     "output_type": "stream",
     "text": [
      "┌ Warning:  String can’t do inner product with String !\n",
      "└ @ Main In[14]:11\n"
     ]
    }
   ],
   "source": [
    "# Q3 Test 4\n",
    "Q3_4_v1 = \"[1, 2, 3]\"\n",
    "Q3_4_v2 = \"[1, 2, 5]\"\n",
    "println(Identify_Wrong_Datatype(Q3_4_v1, Q3_4_v2))"
   ]
  },
  {
   "cell_type": "code",
   "execution_count": 19,
   "metadata": {},
   "outputs": [
    {
     "name": "stdout",
     "output_type": "stream",
     "text": [
      "0\n"
     ]
    },
    {
     "name": "stderr",
     "output_type": "stream",
     "text": [
      "┌ Warning:  Vector{Int64} can’t do inner product with Tuple{Int64, Int64, Int64} !\n",
      "└ @ Main In[14]:6\n"
     ]
    }
   ],
   "source": [
    "# Q3 Test 5\n",
    "Q3_5_v1 = [1, 2, 3]\n",
    "Q3_5_v2 = (1, 3, 4)\n",
    "println(Identify_Wrong_Datatype(Q3_5_v1, Q3_5_v2))"
   ]
  },
  {
   "cell_type": "markdown",
   "metadata": {},
   "source": [
    "## Q4 Eugene’s calculator"
   ]
  },
  {
   "cell_type": "markdown",
   "metadata": {},
   "source": [
    "Define a function on the below block, and name it \"Happy_Birthday\""
   ]
  },
  {
   "cell_type": "code",
   "execution_count": 20,
   "metadata": {},
   "outputs": [
    {
     "data": {
      "text/plain": [
       "Happy_Birthday (generic function with 1 method)"
      ]
     },
     "execution_count": 20,
     "metadata": {},
     "output_type": "execute_result"
    }
   ],
   "source": [
    "using Pkg\n",
    "using Distributions\n",
    "function Happy_Birthday(n,a)\n",
    "    gd = Normal(0,10) #var is σ^2 so var = 100 can be written as σ = 10\n",
    "    rrnd= map(x->round.(x), rand(gd,n,)) #rounding\n",
    "    rrnd_int = convert(Vector{Int64}, rrnd) #convert to vector & integer\n",
    "    println(rrnd_int)\n",
    "    add = '+'\n",
    "    sub = '-'\n",
    "    mul = '*'\n",
    "    div = '/'\n",
    "    if length(a) > length(rrnd_int)\n",
    "        @warn  \" too many operands\"\n",
    "    else\n",
    "        if a[1] == add\n",
    "            a1 = rrnd_int[1] + rrnd_int[2]\n",
    "        elseif a[1] == sub\n",
    "            a1 = rrnd_int[1] - rrnd_int[2]\n",
    "        elseif a[1] == mul\n",
    "            a1 = rrnd_int[1] * rrnd_int[2]\n",
    "        elseif a[1] == div\n",
    "            a1 = rrnd_int[1] / rrnd_int[2]\n",
    "        else\n",
    "        println(\"too long I dont know what loop to choose yet\")\n",
    "    end\n",
    "    end\n",
    "end"
   ]
  },
  {
   "cell_type": "markdown",
   "metadata": {},
   "source": [
    "Run the below blocks to get marks"
   ]
  },
  {
   "cell_type": "code",
   "execution_count": 21,
   "metadata": {},
   "outputs": [
    {
     "name": "stdout",
     "output_type": "stream",
     "text": [
      "[-8, -3]\n",
      "-11\n"
     ]
    }
   ],
   "source": [
    "# Q4 Test 1\n",
    "Random.seed!(4129889)\n",
    "Q4_1_integer = 2\n",
    "Q4_1_operand = ['+']\n",
    "println(Happy_Birthday(Q4_1_integer, Q4_1_operand))"
   ]
  },
  {
   "cell_type": "code",
   "execution_count": 22,
   "metadata": {},
   "outputs": [
    {
     "name": "stdout",
     "output_type": "stream",
     "text": [
      "[24, 3, 17]\n",
      "27\n"
     ]
    }
   ],
   "source": [
    "# Q4 Test 2\n",
    "Random.seed!(800092000)\n",
    "Q4_2_integer = 3\n",
    "Q4_2_operand = ['+', '-']\n",
    "println(Happy_Birthday(Q4_2_integer, Q4_2_operand))"
   ]
  },
  {
   "cell_type": "code",
   "execution_count": 23,
   "metadata": {},
   "outputs": [
    {
     "name": "stdout",
     "output_type": "stream",
     "text": [
      "[11, -8, -5, -4]\n",
      "3\n"
     ]
    }
   ],
   "source": [
    "# Q4 Test 3\n",
    "Random.seed!(870887)\n",
    "Q4_3_integer = 4\n",
    "Q4_3_operand = ['+', '-', '*']\n",
    "println(Happy_Birthday(Q4_3_integer, Q4_3_operand))"
   ]
  },
  {
   "cell_type": "code",
   "execution_count": 24,
   "metadata": {},
   "outputs": [
    {
     "name": "stdout",
     "output_type": "stream",
     "text": [
      "[-1, 6, 9, 22, -15]\n",
      "5\n"
     ]
    }
   ],
   "source": [
    "# Q4 Test 4\n",
    "Random.seed!(7414666)\n",
    "Q4_4_integer = 5\n",
    "Q4_4_operand = ['+', '-', '*', '/']\n",
    "println(Happy_Birthday(Q4_4_integer, Q4_4_operand))"
   ]
  },
  {
   "cell_type": "code",
   "execution_count": 25,
   "metadata": {},
   "outputs": [
    {
     "name": "stdout",
     "output_type": "stream",
     "text": [
      "[5, -1, -3, -9, -10, -2, 12, -4, 18, 6, -9, -13]\n",
      "4\n"
     ]
    }
   ],
   "source": [
    "# Q4 Test 5\n",
    "Random.seed!(9481)\n",
    "Q4_5_integer = 12\n",
    "Q4_5_operand = ['+', '-', '*', '/', '/', '*', '+', '*', '-', '/', '+']\n",
    "println(Happy_Birthday(Q4_5_integer, Q4_5_operand))"
   ]
  },
  {
   "cell_type": "markdown",
   "metadata": {},
   "source": [
    "## Q5 Sunny’s Crazy Idea"
   ]
  },
  {
   "cell_type": "markdown",
   "metadata": {},
   "source": [
    "Define a function on the below block, and name it \"Account_Manager\""
   ]
  },
  {
   "cell_type": "code",
   "execution_count": 26,
   "metadata": {},
   "outputs": [
    {
     "data": {
      "text/plain": [
       "Account_Manager (generic function with 1 method)"
      ]
     },
     "execution_count": 26,
     "metadata": {},
     "output_type": "execute_result"
    }
   ],
   "source": [
    "function Account_Manager(n,q,p)\n",
    "    if length(q) < length(p)\n",
    "        y = length(p) - length(q)\n",
    "        gd = Normal(0,10) #var is σ^2 so var = 100 can be written as σ = 10\n",
    "        rrnd= map(x->round.(x), rand(gd,y,)) #rounding\n",
    "        rrnd_int = convert(Vector{Int64}, rrnd)  #convert to vector & integer and back to previous\n",
    "        println(rrnd_int)\n",
    "        println(\"ignore negative I've square it  \")\n",
    "        plast = last(p)\n",
    "        p2 =setdiff(p, plast)\n",
    "        b = (q' * p2 ) #dot product without the NA\n",
    "        c = ((rrnd_int)[1]) # convert into scalar\n",
    "        c_sq = c^2 #remove negative\n",
    "        c_sqrt = sqrt(c_sq) #back to previous value\n",
    "        c1 = c_sqrt * plast #remanding missing value dot product\n",
    "        d = b + c1 #remanding missing value dot product\n",
    "    elseif length(q) > length(p)\n",
    "        y = length(q) - length(p)\n",
    "        gd = Normal(0,10) #var is σ^2 so var = 100 can be written as σ = 10\n",
    "        rrnd= map(x->round.(x), rand(gd,y,)) #rounding\n",
    "        rrnd_int = convert(Vector{Int64} , rrnd) #convert to vector & integer\n",
    "        println(rrnd_int)\n",
    "        println(\"ignore negative I've square it  \")\n",
    "        qlast = last(q)\n",
    "        q2 =setdiff(q, qlast) #because there is repeat of 1 in q 4 it didnt work\n",
    "        b = (q2' * p ) #dot product without the NA\n",
    "        c = ((rrnd_int)[1]) # convert into scalar\n",
    "        c_sq = c^2 #remove negative\n",
    "        c_sqrt = sqrt(c_sq)\n",
    "        c1 = c_sqrt * qlast\n",
    "        d = b + c1\n",
    "    else\n",
    "        b = q' * p\n",
    "    println(b)\n",
    "    end\n",
    "end"
   ]
  },
  {
   "cell_type": "markdown",
   "metadata": {},
   "source": [
    "Run the below blocks to get marks"
   ]
  },
  {
   "cell_type": "code",
   "execution_count": 27,
   "metadata": {},
   "outputs": [
    {
     "name": "stdout",
     "output_type": "stream",
     "text": [
      "110\n",
      "nothing\n"
     ]
    }
   ],
   "source": [
    "# Q5 Test 1\n",
    "Q5_1_name = [\"Sunny\", \"Hsin\", \"Eric\"]\n",
    "Q5_1_quantity = [0, 1, 1]\n",
    "Q5_1_price = [1, 10, 100]\n",
    "println(Account_Manager(Q5_1_name, Q5_1_quantity, Q5_1_price))"
   ]
  },
  {
   "cell_type": "code",
   "execution_count": 28,
   "metadata": {},
   "outputs": [
    {
     "name": "stdout",
     "output_type": "stream",
     "text": [
      "[1]\n",
      "ignore negative I've square it  \n",
      "1660.0\n"
     ]
    }
   ],
   "source": [
    "# Q5 Test 2\n",
    "Q5_2_name = [\"Sunny\", \"Hsin\", \"Eric\", \"Breakfast\", \"Dinner\", \"Concert\"]\n",
    "Q5_2_quantity = [0, 1, 1, 10, 20]\n",
    "Q5_2_price = [1, 10, 100, 5, 50, 500]\n",
    "println(Account_Manager(Q5_2_name, Q5_2_quantity, Q5_2_price))"
   ]
  },
  {
   "cell_type": "code",
   "execution_count": 29,
   "metadata": {},
   "outputs": [
    {
     "name": "stdout",
     "output_type": "stream",
     "text": [
      "[10]\n",
      "ignore negative I've square it  \n"
     ]
    },
    {
     "ename": "LoadError",
     "evalue": "DimensionMismatch(\"first array has length 4 which does not match the length of the second, 5.\")",
     "output_type": "error",
     "traceback": [
      "DimensionMismatch(\"first array has length 4 which does not match the length of the second, 5.\")",
      "",
      "Stacktrace:",
      " [1] dot(x::Vector{Int64}, y::Vector{Int64})",
      "   @ LinearAlgebra /Users/sabae/src/julia/usr/share/julia/stdlib/v1.7/LinearAlgebra/src/generic.jl:910",
      " [2] *",
      "   @ /Users/sabae/src/julia/usr/share/julia/stdlib/v1.7/LinearAlgebra/src/adjtrans.jl:291 [inlined]",
      " [3] Account_Manager(n::Vector{String}, q::Vector{Int64}, p::Vector{Int64})",
      "   @ Main ./In[26]:26",
      " [4] top-level scope",
      "   @ In[29]:5",
      " [5] eval",
      "   @ ./boot.jl:373 [inlined]",
      " [6] include_string(mapexpr::typeof(REPL.softscope), mod::Module, code::String, filename::String)",
      "   @ Base ./loading.jl:1196"
     ]
    }
   ],
   "source": [
    "# Q5 Test 3\n",
    "Q5_3_name = [\"Sunny\", \"Hsin\", \"Eric\", \"Breakfast\", \"Dinner\", \"Concert\"]\n",
    "Q5_3_quantity = [0, 1, 1, 10, 20, 50]\n",
    "Q5_3_price = [1, 10, 100, 5, 50]\n",
    "println(Account_Manager(Q5_3_name, Q5_3_quantity, Q5_3_price))"
   ]
  },
  {
   "cell_type": "code",
   "execution_count": 30,
   "metadata": {},
   "outputs": [
    {
     "name": "stdout",
     "output_type": "stream",
     "text": [
      "1160\n",
      "nothing\n"
     ]
    }
   ],
   "source": [
    "# Q5 Test 4\n",
    "Q5_4_name = [\"Sunny\", \"Hsin\", \"Eric\", \"Breakfast\", \"Dinner\", \"Concert\"]\n",
    "Q5_4_quantity = [0, 1, 1, 10, 20]\n",
    "Q5_4_price = [1, 10, 100, 5, 50]\n",
    "println(Account_Manager(Q5_4_name, Q5_4_quantity, Q5_4_price))"
   ]
  },
  {
   "cell_type": "code",
   "execution_count": 31,
   "metadata": {},
   "outputs": [
    {
     "name": "stdout",
     "output_type": "stream",
     "text": [
      "160\n",
      "nothing\n"
     ]
    }
   ],
   "source": [
    "# Q5 Test 5\n",
    "Q5_5_name = [\"Sunny\", \"Hsin\", \"Eric\", \"Breakfast\", \"Dinner\", \"Concert\"]\n",
    "Q5_5_quantity = [0, 1, 1, 10]\n",
    "Q5_5_price = [1, 10, 100, 5]\n",
    "println(Account_Manager(Q5_5_name, Q5_5_quantity, Q5_5_price))"
   ]
  },
  {
   "cell_type": "code",
   "execution_count": null,
   "metadata": {},
   "outputs": [],
   "source": []
  }
 ],
 "metadata": {
  "kernelspec": {
   "display_name": "Julia nteract 1.7.0-rc1",
   "language": "julia",
   "name": "julia-nteract-1.7"
  },
  "language_info": {
   "file_extension": ".jl",
   "mimetype": "application/julia",
   "name": "julia",
   "version": "1.7.0"
  }
 },
 "nbformat": 4,
 "nbformat_minor": 4
}
