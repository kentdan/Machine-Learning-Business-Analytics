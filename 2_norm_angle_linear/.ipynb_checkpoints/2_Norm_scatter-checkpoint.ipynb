{
 "cells": [
  {
   "cell_type": "code",
   "execution_count": 1,
   "id": "4f2d2ab9",
   "metadata": {},
   "outputs": [],
   "source": [
    "using Plots\n",
    "using Random\n",
    "using Statistics\n",
    "using LinearAlgebra\n",
    "using Distances"
   ]
  },
  {
   "cell_type": "markdown",
   "id": "71df776a",
   "metadata": {},
   "source": [
    "Q1 (Chelsea’srestaurant)Chelsea is a Michelin chef and he has a restaurant located at the city of Taipei. To run her Michelin restaurant, she needs 100 magic ingredients. For simplicity, her names this 100 ingredients from 1 to 100. Each ingredient corresponds to several properties, including price, quality (freshness) level, and nutrition level. And there are 100 customers in this market, with their location recorded in latitude and longitude on a 2-dimensional grid. The latitude and longitude of the customers are in the following array respectively."
   ]
  },
  {
   "cell_type": "markdown",
   "id": "93a1a6e4",
   "metadata": {},
   "source": [
    "Chelsea's restaurant locates at (latitude, longitude) = (0.2, 0). (red dot/trace 4)"
   ]
  },
  {
   "cell_type": "code",
   "execution_count": 2,
   "id": "5b803557",
   "metadata": {},
   "outputs": [
    {
     "data": {
      "text/plain": [
       "kmeans (generic function with 1 method)"
      ]
     },
     "execution_count": 2,
     "metadata": {},
     "output_type": "execute_result"
    }
   ],
   "source": [
    "function kmeans(x, k; maxiters = 100, tol = 1e-5)\n",
    "\tN = length(x) #number point of cluster\n",
    "\tn = length(x[1]) # the dimention\n",
    "\tdistances = zeros(N)  # used to store the distance of each\n",
    "\treps = [zeros(n) for j=1:k]  # used to store representatives.\n",
    "\t# 'assignment' is an array of N integers between 1 and k.\n",
    "\tassignment = [ rand(1:k) for i in 1:N ] # The initial assignment is chosen randomly.\n",
    "\tJprevious = Inf  # used in stopping condition\n",
    "\tfor iter = 1:maxiters\n",
    "    \t# Cluster j representative is average of points in cluster j.\n",
    "\t\tfor j = 1:k\n",
    "        group = [i for i=1:N if assignment[i] == j]\n",
    "        reps[j] = sum(x[group]) / length(group);\n",
    "    end;\n",
    "    # For each x[i], find distance to the nearest representative\n",
    "\t# and its group index.\n",
    "\tfor i=1:N\n",
    "\t(distances[i], assignment[i]) =\n",
    "\tfindmin([norm(x[i] - reps[j]) for j = 1:k])\n",
    "\tend;\n",
    "\t# Compute clustering objective.\n",
    "\tJ = norm(distances)^2 / N\n",
    "\t# Show progress and terminate if J stopped decreasing.\n",
    "\tprintln(\"Iteration \", iter, \": Jclust = \", J, \".\")\n",
    "\tif iter>1&&abs(J-Jprevious)<tol*J\n",
    "\treturn assignment, reps\n",
    "\tend\n",
    "\tJprevious = J\n",
    "\tend\n",
    "end"
   ]
  },
  {
   "cell_type": "code",
   "execution_count": 3,
   "id": "5614e4dc",
   "metadata": {},
   "outputs": [
    {
     "data": {
      "image/svg+xml": [
       "<?xml version=\"1.0\" encoding=\"utf-8\"?>\n",
       "<svg xmlns=\"http://www.w3.org/2000/svg\" xmlns:xlink=\"http://www.w3.org/1999/xlink\" width=\"500\" height=\"500\" viewBox=\"0 0 2000 2000\">\n",
       "<defs>\n",
       "  <clipPath id=\"clip080\">\n",
       "    <rect x=\"0\" y=\"0\" width=\"2000\" height=\"2000\"/>\n",
       "  </clipPath>\n",
       "</defs>\n",
       "<path clip-path=\"url(#clip080)\" d=\"\n",
       "M0 2000 L2000 2000 L2000 0 L0 0  Z\n",
       "  \" fill=\"#ffffff\" fill-rule=\"evenodd\" fill-opacity=\"1\"/>\n",
       "<defs>\n",
       "  <clipPath id=\"clip081\">\n",
       "    <rect x=\"400\" y=\"200\" width=\"1401\" height=\"1401\"/>\n",
       "  </clipPath>\n",
       "</defs>\n",
       "<path clip-path=\"url(#clip080)\" d=\"\n",
       "M220.098 1865.17 L1952.76 1865.17 L1952.76 47.2441 L220.098 47.2441  Z\n",
       "  \" fill=\"#ffffff\" fill-rule=\"evenodd\" fill-opacity=\"1\"/>\n",
       "<defs>\n",
       "  <clipPath id=\"clip082\">\n",
       "    <rect x=\"220\" y=\"47\" width=\"1734\" height=\"1819\"/>\n",
       "  </clipPath>\n",
       "</defs>\n",
       "<polyline clip-path=\"url(#clip080)\" style=\"stroke:#000000; stroke-linecap:butt; stroke-linejoin:round; stroke-width:4; stroke-opacity:1; fill:none\" points=\"\n",
       "  220.098,1865.17 1952.76,1865.17 \n",
       "  \"/>\n",
       "<polyline clip-path=\"url(#clip080)\" style=\"stroke:#000000; stroke-linecap:butt; stroke-linejoin:round; stroke-width:4; stroke-opacity:1; fill:none\" points=\"\n",
       "  220.098,1865.17 220.098,1846.27 \n",
       "  \"/>\n",
       "<polyline clip-path=\"url(#clip080)\" style=\"stroke:#000000; stroke-linecap:butt; stroke-linejoin:round; stroke-width:4; stroke-opacity:1; fill:none\" points=\"\n",
       "  653.262,1865.17 653.262,1846.27 \n",
       "  \"/>\n",
       "<polyline clip-path=\"url(#clip080)\" style=\"stroke:#000000; stroke-linecap:butt; stroke-linejoin:round; stroke-width:4; stroke-opacity:1; fill:none\" points=\"\n",
       "  1086.43,1865.17 1086.43,1846.27 \n",
       "  \"/>\n",
       "<polyline clip-path=\"url(#clip080)\" style=\"stroke:#000000; stroke-linecap:butt; stroke-linejoin:round; stroke-width:4; stroke-opacity:1; fill:none\" points=\"\n",
       "  1519.59,1865.17 1519.59,1846.27 \n",
       "  \"/>\n",
       "<polyline clip-path=\"url(#clip080)\" style=\"stroke:#000000; stroke-linecap:butt; stroke-linejoin:round; stroke-width:4; stroke-opacity:1; fill:none\" points=\"\n",
       "  1952.76,1865.17 1952.76,1846.27 \n",
       "  \"/>\n",
       "<path clip-path=\"url(#clip080)\" d=\"M152.043 1905.81 L181.718 1905.81 L181.718 1909.75 L152.043 1909.75 L152.043 1905.81 Z\" fill=\"#000000\" fill-rule=\"evenodd\" fill-opacity=\"1\" /><path clip-path=\"url(#clip080)\" d=\"M201.811 1891.16 Q198.2 1891.16 196.371 1894.72 Q194.566 1898.27 194.566 1905.39 Q194.566 1912.5 196.371 1916.07 Q198.2 1919.61 201.811 1919.61 Q205.445 1919.61 207.251 1916.07 Q209.079 1912.5 209.079 1905.39 Q209.079 1898.27 207.251 1894.72 Q205.445 1891.16 201.811 1891.16 M201.811 1887.45 Q207.621 1887.45 210.677 1892.06 Q213.755 1896.64 213.755 1905.39 Q213.755 1914.12 210.677 1918.73 Q207.621 1923.31 201.811 1923.31 Q196.001 1923.31 192.922 1918.73 Q189.867 1914.12 189.867 1905.39 Q189.867 1896.64 192.922 1892.06 Q196.001 1887.45 201.811 1887.45 Z\" fill=\"#000000\" fill-rule=\"evenodd\" fill-opacity=\"1\" /><path clip-path=\"url(#clip080)\" d=\"M221.973 1916.76 L226.857 1916.76 L226.857 1922.64 L221.973 1922.64 L221.973 1916.76 Z\" fill=\"#000000\" fill-rule=\"evenodd\" fill-opacity=\"1\" /><path clip-path=\"url(#clip080)\" d=\"M241.07 1918.7 L257.389 1918.7 L257.389 1922.64 L235.445 1922.64 L235.445 1918.7 Q238.107 1915.95 242.69 1911.32 Q247.297 1906.67 248.477 1905.33 Q250.723 1902.8 251.602 1901.07 Q252.505 1899.31 252.505 1897.62 Q252.505 1894.86 250.561 1893.13 Q248.639 1891.39 245.538 1891.39 Q243.338 1891.39 240.885 1892.15 Q238.454 1892.92 235.676 1894.47 L235.676 1889.75 Q238.501 1888.61 240.954 1888.03 Q243.408 1887.45 245.445 1887.45 Q250.815 1887.45 254.01 1890.14 Q257.204 1892.83 257.204 1897.32 Q257.204 1899.45 256.394 1901.37 Q255.607 1903.26 253.5 1905.86 Q252.922 1906.53 249.82 1909.75 Q246.718 1912.94 241.07 1918.7 Z\" fill=\"#000000\" fill-rule=\"evenodd\" fill-opacity=\"1\" /><path clip-path=\"url(#clip080)\" d=\"M267.25 1888.08 L285.607 1888.08 L285.607 1892.02 L271.533 1892.02 L271.533 1900.49 Q272.551 1900.14 273.57 1899.98 Q274.588 1899.79 275.607 1899.79 Q281.394 1899.79 284.773 1902.96 Q288.153 1906.14 288.153 1911.55 Q288.153 1917.13 284.681 1920.23 Q281.209 1923.31 274.889 1923.31 Q272.713 1923.31 270.445 1922.94 Q268.199 1922.57 265.792 1921.83 L265.792 1917.13 Q267.875 1918.26 270.098 1918.82 Q272.32 1919.38 274.797 1919.38 Q278.801 1919.38 281.139 1917.27 Q283.477 1915.16 283.477 1911.55 Q283.477 1907.94 281.139 1905.83 Q278.801 1903.73 274.797 1903.73 Q272.922 1903.73 271.047 1904.14 Q269.195 1904.56 267.25 1905.44 L267.25 1888.08 Z\" fill=\"#000000\" fill-rule=\"evenodd\" fill-opacity=\"1\" /><path clip-path=\"url(#clip080)\" d=\"M615.566 1891.16 Q611.955 1891.16 610.126 1894.72 Q608.32 1898.27 608.32 1905.39 Q608.32 1912.5 610.126 1916.07 Q611.955 1919.61 615.566 1919.61 Q619.2 1919.61 621.006 1916.07 Q622.834 1912.5 622.834 1905.39 Q622.834 1898.27 621.006 1894.72 Q619.2 1891.16 615.566 1891.16 M615.566 1887.45 Q621.376 1887.45 624.432 1892.06 Q627.51 1896.64 627.51 1905.39 Q627.51 1914.12 624.432 1918.73 Q621.376 1923.31 615.566 1923.31 Q609.756 1923.31 606.677 1918.73 Q603.621 1914.12 603.621 1905.39 Q603.621 1896.64 606.677 1892.06 Q609.756 1887.45 615.566 1887.45 Z\" fill=\"#000000\" fill-rule=\"evenodd\" fill-opacity=\"1\" /><path clip-path=\"url(#clip080)\" d=\"M635.728 1916.76 L640.612 1916.76 L640.612 1922.64 L635.728 1922.64 L635.728 1916.76 Z\" fill=\"#000000\" fill-rule=\"evenodd\" fill-opacity=\"1\" /><path clip-path=\"url(#clip080)\" d=\"M660.797 1891.16 Q657.186 1891.16 655.357 1894.72 Q653.552 1898.27 653.552 1905.39 Q653.552 1912.5 655.357 1916.07 Q657.186 1919.61 660.797 1919.61 Q664.431 1919.61 666.237 1916.07 Q668.066 1912.5 668.066 1905.39 Q668.066 1898.27 666.237 1894.72 Q664.431 1891.16 660.797 1891.16 M660.797 1887.45 Q666.607 1887.45 669.663 1892.06 Q672.741 1896.64 672.741 1905.39 Q672.741 1914.12 669.663 1918.73 Q666.607 1923.31 660.797 1923.31 Q654.987 1923.31 651.908 1918.73 Q648.853 1914.12 648.853 1905.39 Q648.853 1896.64 651.908 1892.06 Q654.987 1887.45 660.797 1887.45 Z\" fill=\"#000000\" fill-rule=\"evenodd\" fill-opacity=\"1\" /><path clip-path=\"url(#clip080)\" d=\"M690.959 1891.16 Q687.348 1891.16 685.519 1894.72 Q683.714 1898.27 683.714 1905.39 Q683.714 1912.5 685.519 1916.07 Q687.348 1919.61 690.959 1919.61 Q694.593 1919.61 696.399 1916.07 Q698.227 1912.5 698.227 1905.39 Q698.227 1898.27 696.399 1894.72 Q694.593 1891.16 690.959 1891.16 M690.959 1887.45 Q696.769 1887.45 699.825 1892.06 Q702.903 1896.64 702.903 1905.39 Q702.903 1914.12 699.825 1918.73 Q696.769 1923.31 690.959 1923.31 Q685.149 1923.31 682.07 1918.73 Q679.015 1914.12 679.015 1905.39 Q679.015 1896.64 682.07 1892.06 Q685.149 1887.45 690.959 1887.45 Z\" fill=\"#000000\" fill-rule=\"evenodd\" fill-opacity=\"1\" /><path clip-path=\"url(#clip080)\" d=\"M1049.23 1891.16 Q1045.62 1891.16 1043.79 1894.72 Q1041.98 1898.27 1041.98 1905.39 Q1041.98 1912.5 1043.79 1916.07 Q1045.62 1919.61 1049.23 1919.61 Q1052.86 1919.61 1054.67 1916.07 Q1056.5 1912.5 1056.5 1905.39 Q1056.5 1898.27 1054.67 1894.72 Q1052.86 1891.16 1049.23 1891.16 M1049.23 1887.45 Q1055.04 1887.45 1058.09 1892.06 Q1061.17 1896.64 1061.17 1905.39 Q1061.17 1914.12 1058.09 1918.73 Q1055.04 1923.31 1049.23 1923.31 Q1043.42 1923.31 1040.34 1918.73 Q1037.28 1914.12 1037.28 1905.39 Q1037.28 1896.64 1040.34 1892.06 Q1043.42 1887.45 1049.23 1887.45 Z\" fill=\"#000000\" fill-rule=\"evenodd\" fill-opacity=\"1\" /><path clip-path=\"url(#clip080)\" d=\"M1069.39 1916.76 L1074.27 1916.76 L1074.27 1922.64 L1069.39 1922.64 L1069.39 1916.76 Z\" fill=\"#000000\" fill-rule=\"evenodd\" fill-opacity=\"1\" /><path clip-path=\"url(#clip080)\" d=\"M1088.49 1918.7 L1104.81 1918.7 L1104.81 1922.64 L1082.86 1922.64 L1082.86 1918.7 Q1085.52 1915.95 1090.11 1911.32 Q1094.71 1906.67 1095.89 1905.33 Q1098.14 1902.8 1099.02 1901.07 Q1099.92 1899.31 1099.92 1897.62 Q1099.92 1894.86 1097.98 1893.13 Q1096.06 1891.39 1092.95 1891.39 Q1090.76 1891.39 1088.3 1892.15 Q1085.87 1892.92 1083.09 1894.47 L1083.09 1889.75 Q1085.92 1888.61 1088.37 1888.03 Q1090.83 1887.45 1092.86 1887.45 Q1098.23 1887.45 1101.43 1890.14 Q1104.62 1892.83 1104.62 1897.32 Q1104.62 1899.45 1103.81 1901.37 Q1103.02 1903.26 1100.92 1905.86 Q1100.34 1906.53 1097.24 1909.75 Q1094.14 1912.94 1088.49 1918.7 Z\" fill=\"#000000\" fill-rule=\"evenodd\" fill-opacity=\"1\" /><path clip-path=\"url(#clip080)\" d=\"M1114.67 1888.08 L1133.02 1888.08 L1133.02 1892.02 L1118.95 1892.02 L1118.95 1900.49 Q1119.97 1900.14 1120.99 1899.98 Q1122.01 1899.79 1123.02 1899.79 Q1128.81 1899.79 1132.19 1902.96 Q1135.57 1906.14 1135.57 1911.55 Q1135.57 1917.13 1132.1 1920.23 Q1128.63 1923.31 1122.31 1923.31 Q1120.13 1923.31 1117.86 1922.94 Q1115.62 1922.57 1113.21 1921.83 L1113.21 1917.13 Q1115.29 1918.26 1117.51 1918.82 Q1119.74 1919.38 1122.21 1919.38 Q1126.22 1919.38 1128.56 1917.27 Q1130.89 1915.16 1130.89 1911.55 Q1130.89 1907.94 1128.56 1905.83 Q1126.22 1903.73 1122.21 1903.73 Q1120.34 1903.73 1118.46 1904.14 Q1116.61 1904.56 1114.67 1905.44 L1114.67 1888.08 Z\" fill=\"#000000\" fill-rule=\"evenodd\" fill-opacity=\"1\" /><path clip-path=\"url(#clip080)\" d=\"M1481.89 1891.16 Q1478.28 1891.16 1476.46 1894.72 Q1474.65 1898.27 1474.65 1905.39 Q1474.65 1912.5 1476.46 1916.07 Q1478.28 1919.61 1481.89 1919.61 Q1485.53 1919.61 1487.33 1916.07 Q1489.16 1912.5 1489.16 1905.39 Q1489.16 1898.27 1487.33 1894.72 Q1485.53 1891.16 1481.89 1891.16 M1481.89 1887.45 Q1487.7 1887.45 1490.76 1892.06 Q1493.84 1896.64 1493.84 1905.39 Q1493.84 1914.12 1490.76 1918.73 Q1487.7 1923.31 1481.89 1923.31 Q1476.08 1923.31 1473.01 1918.73 Q1469.95 1914.12 1469.95 1905.39 Q1469.95 1896.64 1473.01 1892.06 Q1476.08 1887.45 1481.89 1887.45 Z\" fill=\"#000000\" fill-rule=\"evenodd\" fill-opacity=\"1\" /><path clip-path=\"url(#clip080)\" d=\"M1502.06 1916.76 L1506.94 1916.76 L1506.94 1922.64 L1502.06 1922.64 L1502.06 1916.76 Z\" fill=\"#000000\" fill-rule=\"evenodd\" fill-opacity=\"1\" /><path clip-path=\"url(#clip080)\" d=\"M1517.17 1888.08 L1535.53 1888.08 L1535.53 1892.02 L1521.45 1892.02 L1521.45 1900.49 Q1522.47 1900.14 1523.49 1899.98 Q1524.51 1899.79 1525.53 1899.79 Q1531.32 1899.79 1534.7 1902.96 Q1538.08 1906.14 1538.08 1911.55 Q1538.08 1917.13 1534.6 1920.23 Q1531.13 1923.31 1524.81 1923.31 Q1522.64 1923.31 1520.37 1922.94 Q1518.12 1922.57 1515.71 1921.83 L1515.71 1917.13 Q1517.8 1918.26 1520.02 1918.82 Q1522.24 1919.38 1524.72 1919.38 Q1528.72 1919.38 1531.06 1917.27 Q1533.4 1915.16 1533.4 1911.55 Q1533.4 1907.94 1531.06 1905.83 Q1528.72 1903.73 1524.72 1903.73 Q1522.84 1903.73 1520.97 1904.14 Q1519.12 1904.56 1517.17 1905.44 L1517.17 1888.08 Z\" fill=\"#000000\" fill-rule=\"evenodd\" fill-opacity=\"1\" /><path clip-path=\"url(#clip080)\" d=\"M1557.29 1891.16 Q1553.68 1891.16 1551.85 1894.72 Q1550.04 1898.27 1550.04 1905.39 Q1550.04 1912.5 1551.85 1916.07 Q1553.68 1919.61 1557.29 1919.61 Q1560.92 1919.61 1562.73 1916.07 Q1564.56 1912.5 1564.56 1905.39 Q1564.56 1898.27 1562.73 1894.72 Q1560.92 1891.16 1557.29 1891.16 M1557.29 1887.45 Q1563.1 1887.45 1566.15 1892.06 Q1569.23 1896.64 1569.23 1905.39 Q1569.23 1914.12 1566.15 1918.73 Q1563.1 1923.31 1557.29 1923.31 Q1551.48 1923.31 1548.4 1918.73 Q1545.34 1914.12 1545.34 1905.39 Q1545.34 1896.64 1548.4 1892.06 Q1551.48 1887.45 1557.29 1887.45 Z\" fill=\"#000000\" fill-rule=\"evenodd\" fill-opacity=\"1\" /><path clip-path=\"url(#clip080)\" d=\"M1915.56 1891.16 Q1911.95 1891.16 1910.12 1894.72 Q1908.31 1898.27 1908.31 1905.39 Q1908.31 1912.5 1910.12 1916.07 Q1911.95 1919.61 1915.56 1919.61 Q1919.19 1919.61 1921 1916.07 Q1922.83 1912.5 1922.83 1905.39 Q1922.83 1898.27 1921 1894.72 Q1919.19 1891.16 1915.56 1891.16 M1915.56 1887.45 Q1921.37 1887.45 1924.42 1892.06 Q1927.5 1896.64 1927.5 1905.39 Q1927.5 1914.12 1924.42 1918.73 Q1921.37 1923.31 1915.56 1923.31 Q1909.75 1923.31 1906.67 1918.73 Q1903.61 1914.12 1903.61 1905.39 Q1903.61 1896.64 1906.67 1892.06 Q1909.75 1887.45 1915.56 1887.45 Z\" fill=\"#000000\" fill-rule=\"evenodd\" fill-opacity=\"1\" /><path clip-path=\"url(#clip080)\" d=\"M1935.72 1916.76 L1940.6 1916.76 L1940.6 1922.64 L1935.72 1922.64 L1935.72 1916.76 Z\" fill=\"#000000\" fill-rule=\"evenodd\" fill-opacity=\"1\" /><path clip-path=\"url(#clip080)\" d=\"M1949.61 1888.08 L1971.83 1888.08 L1971.83 1890.07 L1959.28 1922.64 L1954.4 1922.64 L1966.2 1892.02 L1949.61 1892.02 L1949.61 1888.08 Z\" fill=\"#000000\" fill-rule=\"evenodd\" fill-opacity=\"1\" /><path clip-path=\"url(#clip080)\" d=\"M1981 1888.08 L1999.35 1888.08 L1999.35 1892.02 L1985.28 1892.02 L1985.28 1900.49 Q1986.3 1900.14 1987.32 1899.98 Q1988.33 1899.79 1989.35 1899.79 Q1995.14 1899.79 1998.52 1902.96 Q2001.9 1906.14 2001.9 1911.55 Q2001.9 1917.13 1998.43 1920.23 Q1994.95 1923.31 1988.64 1923.31 Q1986.46 1923.31 1984.19 1922.94 Q1981.95 1922.57 1979.54 1921.83 L1979.54 1917.13 Q1981.62 1918.26 1983.84 1918.82 Q1986.07 1919.38 1988.54 1919.38 Q1992.55 1919.38 1994.89 1917.27 Q1997.22 1915.16 1997.22 1911.55 Q1997.22 1907.94 1994.89 1905.83 Q1992.55 1903.73 1988.54 1903.73 Q1986.67 1903.73 1984.79 1904.14 Q1982.94 1904.56 1981 1905.44 L1981 1888.08 Z\" fill=\"#000000\" fill-rule=\"evenodd\" fill-opacity=\"1\" /><polyline clip-path=\"url(#clip080)\" style=\"stroke:#000000; stroke-linecap:butt; stroke-linejoin:round; stroke-width:4; stroke-opacity:1; fill:none\" points=\"\n",
       "  220.098,1865.17 220.098,47.2441 \n",
       "  \"/>\n",
       "<polyline clip-path=\"url(#clip080)\" style=\"stroke:#000000; stroke-linecap:butt; stroke-linejoin:round; stroke-width:4; stroke-opacity:1; fill:none\" points=\"\n",
       "  220.098,1605.46 238.996,1605.46 \n",
       "  \"/>\n",
       "<polyline clip-path=\"url(#clip080)\" style=\"stroke:#000000; stroke-linecap:butt; stroke-linejoin:round; stroke-width:4; stroke-opacity:1; fill:none\" points=\"\n",
       "  220.098,1280.84 238.996,1280.84 \n",
       "  \"/>\n",
       "<polyline clip-path=\"url(#clip080)\" style=\"stroke:#000000; stroke-linecap:butt; stroke-linejoin:round; stroke-width:4; stroke-opacity:1; fill:none\" points=\"\n",
       "  220.098,956.206 238.996,956.206 \n",
       "  \"/>\n",
       "<polyline clip-path=\"url(#clip080)\" style=\"stroke:#000000; stroke-linecap:butt; stroke-linejoin:round; stroke-width:4; stroke-opacity:1; fill:none\" points=\"\n",
       "  220.098,631.577 238.996,631.577 \n",
       "  \"/>\n",
       "<polyline clip-path=\"url(#clip080)\" style=\"stroke:#000000; stroke-linecap:butt; stroke-linejoin:round; stroke-width:4; stroke-opacity:1; fill:none\" points=\"\n",
       "  220.098,306.947 238.996,306.947 \n",
       "  \"/>\n",
       "<path clip-path=\"url(#clip080)\" d=\"M52.9921 1605.92 L82.6679 1605.92 L82.6679 1609.85 L52.9921 1609.85 L52.9921 1605.92 Z\" fill=\"#000000\" fill-rule=\"evenodd\" fill-opacity=\"1\" /><path clip-path=\"url(#clip080)\" d=\"M102.76 1591.26 Q99.1493 1591.26 97.3206 1594.83 Q95.515 1598.37 95.515 1605.5 Q95.515 1612.61 97.3206 1616.17 Q99.1493 1619.71 102.76 1619.71 Q106.395 1619.71 108.2 1616.17 Q110.029 1612.61 110.029 1605.5 Q110.029 1598.37 108.2 1594.83 Q106.395 1591.26 102.76 1591.26 M102.76 1587.56 Q108.571 1587.56 111.626 1592.17 Q114.705 1596.75 114.705 1605.5 Q114.705 1614.23 111.626 1618.83 Q108.571 1623.42 102.76 1623.42 Q96.9502 1623.42 93.8715 1618.83 Q90.816 1614.23 90.816 1605.5 Q90.816 1596.75 93.8715 1592.17 Q96.9502 1587.56 102.76 1587.56 Z\" fill=\"#000000\" fill-rule=\"evenodd\" fill-opacity=\"1\" /><path clip-path=\"url(#clip080)\" d=\"M122.922 1616.86 L127.807 1616.86 L127.807 1622.74 L122.922 1622.74 L122.922 1616.86 Z\" fill=\"#000000\" fill-rule=\"evenodd\" fill-opacity=\"1\" /><path clip-path=\"url(#clip080)\" d=\"M138.038 1588.18 L156.394 1588.18 L156.394 1592.12 L142.32 1592.12 L142.32 1600.59 Q143.339 1600.24 144.357 1600.08 Q145.376 1599.9 146.394 1599.9 Q152.181 1599.9 155.561 1603.07 Q158.941 1606.24 158.941 1611.66 Q158.941 1617.24 155.468 1620.34 Q151.996 1623.42 145.677 1623.42 Q143.501 1623.42 141.232 1623.05 Q138.987 1622.68 136.58 1621.93 L136.58 1617.24 Q138.663 1618.37 140.885 1618.93 Q143.107 1619.48 145.584 1619.48 Q149.589 1619.48 151.927 1617.37 Q154.265 1615.27 154.265 1611.66 Q154.265 1608.05 151.927 1605.94 Q149.589 1603.83 145.584 1603.83 Q143.709 1603.83 141.834 1604.25 Q139.982 1604.67 138.038 1605.55 L138.038 1588.18 Z\" fill=\"#000000\" fill-rule=\"evenodd\" fill-opacity=\"1\" /><path clip-path=\"url(#clip080)\" d=\"M178.153 1591.26 Q174.542 1591.26 172.714 1594.83 Q170.908 1598.37 170.908 1605.5 Q170.908 1612.61 172.714 1616.17 Q174.542 1619.71 178.153 1619.71 Q181.788 1619.71 183.593 1616.17 Q185.422 1612.61 185.422 1605.5 Q185.422 1598.37 183.593 1594.83 Q181.788 1591.26 178.153 1591.26 M178.153 1587.56 Q183.964 1587.56 187.019 1592.17 Q190.098 1596.75 190.098 1605.5 Q190.098 1614.23 187.019 1618.83 Q183.964 1623.42 178.153 1623.42 Q172.343 1623.42 169.265 1618.83 Q166.209 1614.23 166.209 1605.5 Q166.209 1596.75 169.265 1592.17 Q172.343 1587.56 178.153 1587.56 Z\" fill=\"#000000\" fill-rule=\"evenodd\" fill-opacity=\"1\" /><path clip-path=\"url(#clip080)\" d=\"M53.9875 1281.29 L83.6633 1281.29 L83.6633 1285.22 L53.9875 1285.22 L53.9875 1281.29 Z\" fill=\"#000000\" fill-rule=\"evenodd\" fill-opacity=\"1\" /><path clip-path=\"url(#clip080)\" d=\"M103.756 1266.63 Q100.145 1266.63 98.316 1270.2 Q96.5104 1273.74 96.5104 1280.87 Q96.5104 1287.98 98.316 1291.54 Q100.145 1295.08 103.756 1295.08 Q107.39 1295.08 109.196 1291.54 Q111.024 1287.98 111.024 1280.87 Q111.024 1273.74 109.196 1270.2 Q107.39 1266.63 103.756 1266.63 M103.756 1262.93 Q109.566 1262.93 112.621 1267.54 Q115.7 1272.12 115.7 1280.87 Q115.7 1289.6 112.621 1294.2 Q109.566 1298.79 103.756 1298.79 Q97.9456 1298.79 94.8669 1294.2 Q91.8114 1289.6 91.8114 1280.87 Q91.8114 1272.12 94.8669 1267.54 Q97.9456 1262.93 103.756 1262.93 Z\" fill=\"#000000\" fill-rule=\"evenodd\" fill-opacity=\"1\" /><path clip-path=\"url(#clip080)\" d=\"M123.918 1292.24 L128.802 1292.24 L128.802 1298.12 L123.918 1298.12 L123.918 1292.24 Z\" fill=\"#000000\" fill-rule=\"evenodd\" fill-opacity=\"1\" /><path clip-path=\"url(#clip080)\" d=\"M143.015 1294.18 L159.334 1294.18 L159.334 1298.12 L137.39 1298.12 L137.39 1294.18 Q140.052 1291.43 144.635 1286.8 Q149.242 1282.14 150.422 1280.8 Q152.668 1278.28 153.547 1276.54 Q154.45 1274.78 154.45 1273.09 Q154.45 1270.34 152.505 1268.6 Q150.584 1266.87 147.482 1266.87 Q145.283 1266.87 142.83 1267.63 Q140.399 1268.39 137.621 1269.94 L137.621 1265.22 Q140.445 1264.09 142.899 1263.51 Q145.353 1262.93 147.39 1262.93 Q152.76 1262.93 155.955 1265.62 Q159.149 1268.3 159.149 1272.79 Q159.149 1274.92 158.339 1276.84 Q157.552 1278.74 155.445 1281.33 Q154.867 1282 151.765 1285.22 Q148.663 1288.42 143.015 1294.18 Z\" fill=\"#000000\" fill-rule=\"evenodd\" fill-opacity=\"1\" /><path clip-path=\"url(#clip080)\" d=\"M169.195 1263.56 L187.552 1263.56 L187.552 1267.49 L173.478 1267.49 L173.478 1275.96 Q174.496 1275.62 175.515 1275.45 Q176.533 1275.27 177.552 1275.27 Q183.339 1275.27 186.718 1278.44 Q190.098 1281.61 190.098 1287.03 Q190.098 1292.61 186.626 1295.71 Q183.153 1298.79 176.834 1298.79 Q174.658 1298.79 172.39 1298.42 Q170.144 1298.05 167.737 1297.31 L167.737 1292.61 Q169.82 1293.74 172.042 1294.3 Q174.265 1294.85 176.741 1294.85 Q180.746 1294.85 183.084 1292.74 Q185.422 1290.64 185.422 1287.03 Q185.422 1283.42 183.084 1281.31 Q180.746 1279.2 176.741 1279.2 Q174.866 1279.2 172.991 1279.62 Q171.14 1280.04 169.195 1280.92 L169.195 1263.56 Z\" fill=\"#000000\" fill-rule=\"evenodd\" fill-opacity=\"1\" /><path clip-path=\"url(#clip080)\" d=\"M102.76 942.005 Q99.1493 942.005 97.3206 945.569 Q95.515 949.111 95.515 956.241 Q95.515 963.347 97.3206 966.912 Q99.1493 970.454 102.76 970.454 Q106.395 970.454 108.2 966.912 Q110.029 963.347 110.029 956.241 Q110.029 949.111 108.2 945.569 Q106.395 942.005 102.76 942.005 M102.76 938.301 Q108.571 938.301 111.626 942.907 Q114.705 947.491 114.705 956.241 Q114.705 964.968 111.626 969.574 Q108.571 974.157 102.76 974.157 Q96.9502 974.157 93.8715 969.574 Q90.816 964.968 90.816 956.241 Q90.816 947.491 93.8715 942.907 Q96.9502 938.301 102.76 938.301 Z\" fill=\"#000000\" fill-rule=\"evenodd\" fill-opacity=\"1\" /><path clip-path=\"url(#clip080)\" d=\"M122.922 967.606 L127.807 967.606 L127.807 973.486 L122.922 973.486 L122.922 967.606 Z\" fill=\"#000000\" fill-rule=\"evenodd\" fill-opacity=\"1\" /><path clip-path=\"url(#clip080)\" d=\"M147.992 942.005 Q144.381 942.005 142.552 945.569 Q140.746 949.111 140.746 956.241 Q140.746 963.347 142.552 966.912 Q144.381 970.454 147.992 970.454 Q151.626 970.454 153.431 966.912 Q155.26 963.347 155.26 956.241 Q155.26 949.111 153.431 945.569 Q151.626 942.005 147.992 942.005 M147.992 938.301 Q153.802 938.301 156.857 942.907 Q159.936 947.491 159.936 956.241 Q159.936 964.968 156.857 969.574 Q153.802 974.157 147.992 974.157 Q142.181 974.157 139.103 969.574 Q136.047 964.968 136.047 956.241 Q136.047 947.491 139.103 942.907 Q142.181 938.301 147.992 938.301 Z\" fill=\"#000000\" fill-rule=\"evenodd\" fill-opacity=\"1\" /><path clip-path=\"url(#clip080)\" d=\"M178.153 942.005 Q174.542 942.005 172.714 945.569 Q170.908 949.111 170.908 956.241 Q170.908 963.347 172.714 966.912 Q174.542 970.454 178.153 970.454 Q181.788 970.454 183.593 966.912 Q185.422 963.347 185.422 956.241 Q185.422 949.111 183.593 945.569 Q181.788 942.005 178.153 942.005 M178.153 938.301 Q183.964 938.301 187.019 942.907 Q190.098 947.491 190.098 956.241 Q190.098 964.968 187.019 969.574 Q183.964 974.157 178.153 974.157 Q172.343 974.157 169.265 969.574 Q166.209 964.968 166.209 956.241 Q166.209 947.491 169.265 942.907 Q172.343 938.301 178.153 938.301 Z\" fill=\"#000000\" fill-rule=\"evenodd\" fill-opacity=\"1\" /><path clip-path=\"url(#clip080)\" d=\"M103.756 617.375 Q100.145 617.375 98.316 620.94 Q96.5104 624.482 96.5104 631.611 Q96.5104 638.718 98.316 642.283 Q100.145 645.824 103.756 645.824 Q107.39 645.824 109.196 642.283 Q111.024 638.718 111.024 631.611 Q111.024 624.482 109.196 620.94 Q107.39 617.375 103.756 617.375 M103.756 613.672 Q109.566 613.672 112.621 618.278 Q115.7 622.862 115.7 631.611 Q115.7 640.338 112.621 644.945 Q109.566 649.528 103.756 649.528 Q97.9456 649.528 94.8669 644.945 Q91.8114 640.338 91.8114 631.611 Q91.8114 622.862 94.8669 618.278 Q97.9456 613.672 103.756 613.672 Z\" fill=\"#000000\" fill-rule=\"evenodd\" fill-opacity=\"1\" /><path clip-path=\"url(#clip080)\" d=\"M123.918 642.977 L128.802 642.977 L128.802 648.857 L123.918 648.857 L123.918 642.977 Z\" fill=\"#000000\" fill-rule=\"evenodd\" fill-opacity=\"1\" /><path clip-path=\"url(#clip080)\" d=\"M143.015 644.922 L159.334 644.922 L159.334 648.857 L137.39 648.857 L137.39 644.922 Q140.052 642.167 144.635 637.537 Q149.242 632.885 150.422 631.542 Q152.668 629.019 153.547 627.283 Q154.45 625.524 154.45 623.834 Q154.45 621.079 152.505 619.343 Q150.584 617.607 147.482 617.607 Q145.283 617.607 142.83 618.371 Q140.399 619.135 137.621 620.686 L137.621 615.963 Q140.445 614.829 142.899 614.25 Q145.353 613.672 147.39 613.672 Q152.76 613.672 155.955 616.357 Q159.149 619.042 159.149 623.533 Q159.149 625.662 158.339 627.584 Q157.552 629.482 155.445 632.074 Q154.867 632.746 151.765 635.963 Q148.663 639.158 143.015 644.922 Z\" fill=\"#000000\" fill-rule=\"evenodd\" fill-opacity=\"1\" /><path clip-path=\"url(#clip080)\" d=\"M169.195 614.297 L187.552 614.297 L187.552 618.232 L173.478 618.232 L173.478 626.704 Q174.496 626.357 175.515 626.195 Q176.533 626.01 177.552 626.01 Q183.339 626.01 186.718 629.181 Q190.098 632.352 190.098 637.769 Q190.098 643.348 186.626 646.449 Q183.153 649.528 176.834 649.528 Q174.658 649.528 172.39 649.158 Q170.144 648.787 167.737 648.047 L167.737 643.348 Q169.82 644.482 172.042 645.037 Q174.265 645.593 176.741 645.593 Q180.746 645.593 183.084 643.486 Q185.422 641.38 185.422 637.769 Q185.422 634.158 183.084 632.051 Q180.746 629.945 176.741 629.945 Q174.866 629.945 172.991 630.361 Q171.14 630.778 169.195 631.658 L169.195 614.297 Z\" fill=\"#000000\" fill-rule=\"evenodd\" fill-opacity=\"1\" /><path clip-path=\"url(#clip080)\" d=\"M102.76 292.746 Q99.1493 292.746 97.3206 296.311 Q95.515 299.853 95.515 306.982 Q95.515 314.089 97.3206 317.653 Q99.1493 321.195 102.76 321.195 Q106.395 321.195 108.2 317.653 Q110.029 314.089 110.029 306.982 Q110.029 299.853 108.2 296.311 Q106.395 292.746 102.76 292.746 M102.76 289.042 Q108.571 289.042 111.626 293.649 Q114.705 298.232 114.705 306.982 Q114.705 315.709 111.626 320.315 Q108.571 324.899 102.76 324.899 Q96.9502 324.899 93.8715 320.315 Q90.816 315.709 90.816 306.982 Q90.816 298.232 93.8715 293.649 Q96.9502 289.042 102.76 289.042 Z\" fill=\"#000000\" fill-rule=\"evenodd\" fill-opacity=\"1\" /><path clip-path=\"url(#clip080)\" d=\"M122.922 318.348 L127.807 318.348 L127.807 324.227 L122.922 324.227 L122.922 318.348 Z\" fill=\"#000000\" fill-rule=\"evenodd\" fill-opacity=\"1\" /><path clip-path=\"url(#clip080)\" d=\"M138.038 289.667 L156.394 289.667 L156.394 293.603 L142.32 293.603 L142.32 302.075 Q143.339 301.728 144.357 301.566 Q145.376 301.38 146.394 301.38 Q152.181 301.38 155.561 304.552 Q158.941 307.723 158.941 313.14 Q158.941 318.718 155.468 321.82 Q151.996 324.899 145.677 324.899 Q143.501 324.899 141.232 324.528 Q138.987 324.158 136.58 323.417 L136.58 318.718 Q138.663 319.853 140.885 320.408 Q143.107 320.964 145.584 320.964 Q149.589 320.964 151.927 318.857 Q154.265 316.751 154.265 313.14 Q154.265 309.528 151.927 307.422 Q149.589 305.316 145.584 305.316 Q143.709 305.316 141.834 305.732 Q139.982 306.149 138.038 307.029 L138.038 289.667 Z\" fill=\"#000000\" fill-rule=\"evenodd\" fill-opacity=\"1\" /><path clip-path=\"url(#clip080)\" d=\"M178.153 292.746 Q174.542 292.746 172.714 296.311 Q170.908 299.853 170.908 306.982 Q170.908 314.089 172.714 317.653 Q174.542 321.195 178.153 321.195 Q181.788 321.195 183.593 317.653 Q185.422 314.089 185.422 306.982 Q185.422 299.853 183.593 296.311 Q181.788 292.746 178.153 292.746 M178.153 289.042 Q183.964 289.042 187.019 293.649 Q190.098 298.232 190.098 306.982 Q190.098 315.709 187.019 320.315 Q183.964 324.899 178.153 324.899 Q172.343 324.899 169.265 320.315 Q166.209 315.709 166.209 306.982 Q166.209 298.232 169.265 293.649 Q172.343 289.042 178.153 289.042 Z\" fill=\"#000000\" fill-rule=\"evenodd\" fill-opacity=\"1\" /><circle clip-path=\"url(#clip082)\" cx=\"763.812\" cy=\"1397.62\" r=\"14\" fill=\"#009af9\" fill-rule=\"evenodd\" fill-opacity=\"1\" stroke=\"#000000\" stroke-opacity=\"1\" stroke-width=\"4\"/>\n",
       "<circle clip-path=\"url(#clip082)\" cx=\"680.57\" cy=\"1062.38\" r=\"14\" fill=\"#009af9\" fill-rule=\"evenodd\" fill-opacity=\"1\" stroke=\"#000000\" stroke-opacity=\"1\" stroke-width=\"4\"/>\n",
       "<circle clip-path=\"url(#clip082)\" cx=\"1181.48\" cy=\"1339.55\" r=\"14\" fill=\"#009af9\" fill-rule=\"evenodd\" fill-opacity=\"1\" stroke=\"#000000\" stroke-opacity=\"1\" stroke-width=\"4\"/>\n",
       "<circle clip-path=\"url(#clip082)\" cx=\"504.555\" cy=\"1322.59\" r=\"14\" fill=\"#009af9\" fill-rule=\"evenodd\" fill-opacity=\"1\" stroke=\"#000000\" stroke-opacity=\"1\" stroke-width=\"4\"/>\n",
       "<circle clip-path=\"url(#clip082)\" cx=\"632.488\" cy=\"1125.53\" r=\"14\" fill=\"#009af9\" fill-rule=\"evenodd\" fill-opacity=\"1\" stroke=\"#000000\" stroke-opacity=\"1\" stroke-width=\"4\"/>\n",
       "<circle clip-path=\"url(#clip082)\" cx=\"303.116\" cy=\"1083.13\" r=\"14\" fill=\"#009af9\" fill-rule=\"evenodd\" fill-opacity=\"1\" stroke=\"#000000\" stroke-opacity=\"1\" stroke-width=\"4\"/>\n",
       "<circle clip-path=\"url(#clip082)\" cx=\"634.262\" cy=\"1145.26\" r=\"14\" fill=\"#009af9\" fill-rule=\"evenodd\" fill-opacity=\"1\" stroke=\"#000000\" stroke-opacity=\"1\" stroke-width=\"4\"/>\n",
       "<circle clip-path=\"url(#clip082)\" cx=\"726.535\" cy=\"1431.73\" r=\"14\" fill=\"#009af9\" fill-rule=\"evenodd\" fill-opacity=\"1\" stroke=\"#000000\" stroke-opacity=\"1\" stroke-width=\"4\"/>\n",
       "<circle clip-path=\"url(#clip082)\" cx=\"652.596\" cy=\"987.858\" r=\"14\" fill=\"#009af9\" fill-rule=\"evenodd\" fill-opacity=\"1\" stroke=\"#000000\" stroke-opacity=\"1\" stroke-width=\"4\"/>\n",
       "<circle clip-path=\"url(#clip082)\" cx=\"737.034\" cy=\"1284.64\" r=\"14\" fill=\"#009af9\" fill-rule=\"evenodd\" fill-opacity=\"1\" stroke=\"#000000\" stroke-opacity=\"1\" stroke-width=\"4\"/>\n",
       "<circle clip-path=\"url(#clip082)\" cx=\"792.82\" cy=\"1198.1\" r=\"14\" fill=\"#009af9\" fill-rule=\"evenodd\" fill-opacity=\"1\" stroke=\"#000000\" stroke-opacity=\"1\" stroke-width=\"4\"/>\n",
       "<circle clip-path=\"url(#clip082)\" cx=\"671.761\" cy=\"1574.14\" r=\"14\" fill=\"#009af9\" fill-rule=\"evenodd\" fill-opacity=\"1\" stroke=\"#000000\" stroke-opacity=\"1\" stroke-width=\"4\"/>\n",
       "<circle clip-path=\"url(#clip082)\" cx=\"376.631\" cy=\"1159.24\" r=\"14\" fill=\"#009af9\" fill-rule=\"evenodd\" fill-opacity=\"1\" stroke=\"#000000\" stroke-opacity=\"1\" stroke-width=\"4\"/>\n",
       "<circle clip-path=\"url(#clip082)\" cx=\"733.324\" cy=\"1352.38\" r=\"14\" fill=\"#009af9\" fill-rule=\"evenodd\" fill-opacity=\"1\" stroke=\"#000000\" stroke-opacity=\"1\" stroke-width=\"4\"/>\n",
       "<circle clip-path=\"url(#clip082)\" cx=\"455.622\" cy=\"992.255\" r=\"14\" fill=\"#009af9\" fill-rule=\"evenodd\" fill-opacity=\"1\" stroke=\"#000000\" stroke-opacity=\"1\" stroke-width=\"4\"/>\n",
       "<circle clip-path=\"url(#clip082)\" cx=\"940.793\" cy=\"1185.41\" r=\"14\" fill=\"#009af9\" fill-rule=\"evenodd\" fill-opacity=\"1\" stroke=\"#000000\" stroke-opacity=\"1\" stroke-width=\"4\"/>\n",
       "<circle clip-path=\"url(#clip082)\" cx=\"392.321\" cy=\"1334.1\" r=\"14\" fill=\"#009af9\" fill-rule=\"evenodd\" fill-opacity=\"1\" stroke=\"#000000\" stroke-opacity=\"1\" stroke-width=\"4\"/>\n",
       "<circle clip-path=\"url(#clip082)\" cx=\"803.27\" cy=\"1011.95\" r=\"14\" fill=\"#009af9\" fill-rule=\"evenodd\" fill-opacity=\"1\" stroke=\"#000000\" stroke-opacity=\"1\" stroke-width=\"4\"/>\n",
       "<circle clip-path=\"url(#clip082)\" cx=\"741.97\" cy=\"1138.39\" r=\"14\" fill=\"#009af9\" fill-rule=\"evenodd\" fill-opacity=\"1\" stroke=\"#000000\" stroke-opacity=\"1\" stroke-width=\"4\"/>\n",
       "<circle clip-path=\"url(#clip082)\" cx=\"659.183\" cy=\"1235.89\" r=\"14\" fill=\"#009af9\" fill-rule=\"evenodd\" fill-opacity=\"1\" stroke=\"#000000\" stroke-opacity=\"1\" stroke-width=\"4\"/>\n",
       "<circle clip-path=\"url(#clip082)\" cx=\"739.842\" cy=\"1307.88\" r=\"14\" fill=\"#009af9\" fill-rule=\"evenodd\" fill-opacity=\"1\" stroke=\"#000000\" stroke-opacity=\"1\" stroke-width=\"4\"/>\n",
       "<circle clip-path=\"url(#clip082)\" cx=\"670.564\" cy=\"1131.85\" r=\"14\" fill=\"#009af9\" fill-rule=\"evenodd\" fill-opacity=\"1\" stroke=\"#000000\" stroke-opacity=\"1\" stroke-width=\"4\"/>\n",
       "<circle clip-path=\"url(#clip082)\" cx=\"620.297\" cy=\"1201.06\" r=\"14\" fill=\"#009af9\" fill-rule=\"evenodd\" fill-opacity=\"1\" stroke=\"#000000\" stroke-opacity=\"1\" stroke-width=\"4\"/>\n",
       "<circle clip-path=\"url(#clip082)\" cx=\"575.904\" cy=\"1381.25\" r=\"14\" fill=\"#009af9\" fill-rule=\"evenodd\" fill-opacity=\"1\" stroke=\"#000000\" stroke-opacity=\"1\" stroke-width=\"4\"/>\n",
       "<circle clip-path=\"url(#clip082)\" cx=\"355.493\" cy=\"1392.26\" r=\"14\" fill=\"#009af9\" fill-rule=\"evenodd\" fill-opacity=\"1\" stroke=\"#000000\" stroke-opacity=\"1\" stroke-width=\"4\"/>\n",
       "<circle clip-path=\"url(#clip082)\" cx=\"724.681\" cy=\"1007.73\" r=\"14\" fill=\"#009af9\" fill-rule=\"evenodd\" fill-opacity=\"1\" stroke=\"#000000\" stroke-opacity=\"1\" stroke-width=\"4\"/>\n",
       "<circle clip-path=\"url(#clip082)\" cx=\"732.844\" cy=\"1345.08\" r=\"14\" fill=\"#009af9\" fill-rule=\"evenodd\" fill-opacity=\"1\" stroke=\"#000000\" stroke-opacity=\"1\" stroke-width=\"4\"/>\n",
       "<circle clip-path=\"url(#clip082)\" cx=\"433.624\" cy=\"1051.92\" r=\"14\" fill=\"#009af9\" fill-rule=\"evenodd\" fill-opacity=\"1\" stroke=\"#000000\" stroke-opacity=\"1\" stroke-width=\"4\"/>\n",
       "<circle clip-path=\"url(#clip082)\" cx=\"491.147\" cy=\"1248.92\" r=\"14\" fill=\"#009af9\" fill-rule=\"evenodd\" fill-opacity=\"1\" stroke=\"#000000\" stroke-opacity=\"1\" stroke-width=\"4\"/>\n",
       "<circle clip-path=\"url(#clip082)\" cx=\"612.387\" cy=\"1362.12\" r=\"14\" fill=\"#009af9\" fill-rule=\"evenodd\" fill-opacity=\"1\" stroke=\"#000000\" stroke-opacity=\"1\" stroke-width=\"4\"/>\n",
       "<circle clip-path=\"url(#clip082)\" cx=\"1300.73\" cy=\"243.85\" r=\"14\" fill=\"#009af9\" fill-rule=\"evenodd\" fill-opacity=\"1\" stroke=\"#000000\" stroke-opacity=\"1\" stroke-width=\"4\"/>\n",
       "<circle clip-path=\"url(#clip082)\" cx=\"1241.98\" cy=\"295.794\" r=\"14\" fill=\"#009af9\" fill-rule=\"evenodd\" fill-opacity=\"1\" stroke=\"#000000\" stroke-opacity=\"1\" stroke-width=\"4\"/>\n",
       "<circle clip-path=\"url(#clip082)\" cx=\"1558.69\" cy=\"395.922\" r=\"14\" fill=\"#009af9\" fill-rule=\"evenodd\" fill-opacity=\"1\" stroke=\"#000000\" stroke-opacity=\"1\" stroke-width=\"4\"/>\n",
       "<circle clip-path=\"url(#clip082)\" cx=\"1534.5\" cy=\"318.442\" r=\"14\" fill=\"#009af9\" fill-rule=\"evenodd\" fill-opacity=\"1\" stroke=\"#000000\" stroke-opacity=\"1\" stroke-width=\"4\"/>\n",
       "<circle clip-path=\"url(#clip082)\" cx=\"1517.84\" cy=\"294.177\" r=\"14\" fill=\"#009af9\" fill-rule=\"evenodd\" fill-opacity=\"1\" stroke=\"#000000\" stroke-opacity=\"1\" stroke-width=\"4\"/>\n",
       "<circle clip-path=\"url(#clip082)\" cx=\"1391.32\" cy=\"441.775\" r=\"14\" fill=\"#009af9\" fill-rule=\"evenodd\" fill-opacity=\"1\" stroke=\"#000000\" stroke-opacity=\"1\" stroke-width=\"4\"/>\n",
       "<circle clip-path=\"url(#clip082)\" cx=\"1719.75\" cy=\"347.849\" r=\"14\" fill=\"#009af9\" fill-rule=\"evenodd\" fill-opacity=\"1\" stroke=\"#000000\" stroke-opacity=\"1\" stroke-width=\"4\"/>\n",
       "<circle clip-path=\"url(#clip082)\" cx=\"1839.43\" cy=\"273.803\" r=\"14\" fill=\"#009af9\" fill-rule=\"evenodd\" fill-opacity=\"1\" stroke=\"#000000\" stroke-opacity=\"1\" stroke-width=\"4\"/>\n",
       "<circle clip-path=\"url(#clip082)\" cx=\"1231.78\" cy=\"226.047\" r=\"14\" fill=\"#009af9\" fill-rule=\"evenodd\" fill-opacity=\"1\" stroke=\"#000000\" stroke-opacity=\"1\" stroke-width=\"4\"/>\n",
       "<circle clip-path=\"url(#clip082)\" cx=\"1469.23\" cy=\"337.789\" r=\"14\" fill=\"#009af9\" fill-rule=\"evenodd\" fill-opacity=\"1\" stroke=\"#000000\" stroke-opacity=\"1\" stroke-width=\"4\"/>\n",
       "<circle clip-path=\"url(#clip082)\" cx=\"1367.08\" cy=\"246.232\" r=\"14\" fill=\"#009af9\" fill-rule=\"evenodd\" fill-opacity=\"1\" stroke=\"#000000\" stroke-opacity=\"1\" stroke-width=\"4\"/>\n",
       "<circle clip-path=\"url(#clip082)\" cx=\"1443.29\" cy=\"367.89\" r=\"14\" fill=\"#009af9\" fill-rule=\"evenodd\" fill-opacity=\"1\" stroke=\"#000000\" stroke-opacity=\"1\" stroke-width=\"4\"/>\n",
       "<circle clip-path=\"url(#clip082)\" cx=\"1906.8\" cy=\"326.018\" r=\"14\" fill=\"#009af9\" fill-rule=\"evenodd\" fill-opacity=\"1\" stroke=\"#000000\" stroke-opacity=\"1\" stroke-width=\"4\"/>\n",
       "<circle clip-path=\"url(#clip082)\" cx=\"1635.33\" cy=\"401.343\" r=\"14\" fill=\"#009af9\" fill-rule=\"evenodd\" fill-opacity=\"1\" stroke=\"#000000\" stroke-opacity=\"1\" stroke-width=\"4\"/>\n",
       "<circle clip-path=\"url(#clip082)\" cx=\"1565.94\" cy=\"166.798\" r=\"14\" fill=\"#009af9\" fill-rule=\"evenodd\" fill-opacity=\"1\" stroke=\"#000000\" stroke-opacity=\"1\" stroke-width=\"4\"/>\n",
       "<circle clip-path=\"url(#clip082)\" cx=\"1700.28\" cy=\"189.257\" r=\"14\" fill=\"#009af9\" fill-rule=\"evenodd\" fill-opacity=\"1\" stroke=\"#000000\" stroke-opacity=\"1\" stroke-width=\"4\"/>\n",
       "<circle clip-path=\"url(#clip082)\" cx=\"1614.54\" cy=\"364.434\" r=\"14\" fill=\"#009af9\" fill-rule=\"evenodd\" fill-opacity=\"1\" stroke=\"#000000\" stroke-opacity=\"1\" stroke-width=\"4\"/>\n",
       "<circle clip-path=\"url(#clip082)\" cx=\"1692.16\" cy=\"159.569\" r=\"14\" fill=\"#009af9\" fill-rule=\"evenodd\" fill-opacity=\"1\" stroke=\"#000000\" stroke-opacity=\"1\" stroke-width=\"4\"/>\n",
       "<circle clip-path=\"url(#clip082)\" cx=\"1357.75\" cy=\"140.594\" r=\"14\" fill=\"#009af9\" fill-rule=\"evenodd\" fill-opacity=\"1\" stroke=\"#000000\" stroke-opacity=\"1\" stroke-width=\"4\"/>\n",
       "<circle clip-path=\"url(#clip082)\" cx=\"1619.85\" cy=\"239.13\" r=\"14\" fill=\"#009af9\" fill-rule=\"evenodd\" fill-opacity=\"1\" stroke=\"#000000\" stroke-opacity=\"1\" stroke-width=\"4\"/>\n",
       "<circle clip-path=\"url(#clip082)\" cx=\"1187.17\" cy=\"498.816\" r=\"14\" fill=\"#009af9\" fill-rule=\"evenodd\" fill-opacity=\"1\" stroke=\"#000000\" stroke-opacity=\"1\" stroke-width=\"4\"/>\n",
       "<circle clip-path=\"url(#clip082)\" cx=\"1513.41\" cy=\"181.548\" r=\"14\" fill=\"#009af9\" fill-rule=\"evenodd\" fill-opacity=\"1\" stroke=\"#000000\" stroke-opacity=\"1\" stroke-width=\"4\"/>\n",
       "<circle clip-path=\"url(#clip082)\" cx=\"1492.51\" cy=\"296.249\" r=\"14\" fill=\"#009af9\" fill-rule=\"evenodd\" fill-opacity=\"1\" stroke=\"#000000\" stroke-opacity=\"1\" stroke-width=\"4\"/>\n",
       "<circle clip-path=\"url(#clip082)\" cx=\"1424.62\" cy=\"369.457\" r=\"14\" fill=\"#009af9\" fill-rule=\"evenodd\" fill-opacity=\"1\" stroke=\"#000000\" stroke-opacity=\"1\" stroke-width=\"4\"/>\n",
       "<circle clip-path=\"url(#clip082)\" cx=\"1566.58\" cy=\"206.284\" r=\"14\" fill=\"#009af9\" fill-rule=\"evenodd\" fill-opacity=\"1\" stroke=\"#000000\" stroke-opacity=\"1\" stroke-width=\"4\"/>\n",
       "<circle clip-path=\"url(#clip082)\" cx=\"1423.75\" cy=\"205.257\" r=\"14\" fill=\"#009af9\" fill-rule=\"evenodd\" fill-opacity=\"1\" stroke=\"#000000\" stroke-opacity=\"1\" stroke-width=\"4\"/>\n",
       "<circle clip-path=\"url(#clip082)\" cx=\"1375.75\" cy=\"89.5839\" r=\"14\" fill=\"#009af9\" fill-rule=\"evenodd\" fill-opacity=\"1\" stroke=\"#000000\" stroke-opacity=\"1\" stroke-width=\"4\"/>\n",
       "<circle clip-path=\"url(#clip082)\" cx=\"1590.8\" cy=\"417.67\" r=\"14\" fill=\"#009af9\" fill-rule=\"evenodd\" fill-opacity=\"1\" stroke=\"#000000\" stroke-opacity=\"1\" stroke-width=\"4\"/>\n",
       "<circle clip-path=\"url(#clip082)\" cx=\"1539.58\" cy=\"155.89\" r=\"14\" fill=\"#009af9\" fill-rule=\"evenodd\" fill-opacity=\"1\" stroke=\"#000000\" stroke-opacity=\"1\" stroke-width=\"4\"/>\n",
       "<circle clip-path=\"url(#clip082)\" cx=\"1206.38\" cy=\"1702.87\" r=\"14\" fill=\"#009af9\" fill-rule=\"evenodd\" fill-opacity=\"1\" stroke=\"#000000\" stroke-opacity=\"1\" stroke-width=\"4\"/>\n",
       "<circle clip-path=\"url(#clip082)\" cx=\"1319.03\" cy=\"1416.35\" r=\"14\" fill=\"#009af9\" fill-rule=\"evenodd\" fill-opacity=\"1\" stroke=\"#000000\" stroke-opacity=\"1\" stroke-width=\"4\"/>\n",
       "<circle clip-path=\"url(#clip082)\" cx=\"1462.09\" cy=\"1589.38\" r=\"14\" fill=\"#009af9\" fill-rule=\"evenodd\" fill-opacity=\"1\" stroke=\"#000000\" stroke-opacity=\"1\" stroke-width=\"4\"/>\n",
       "<circle clip-path=\"url(#clip082)\" cx=\"1248.4\" cy=\"1490.75\" r=\"14\" fill=\"#009af9\" fill-rule=\"evenodd\" fill-opacity=\"1\" stroke=\"#000000\" stroke-opacity=\"1\" stroke-width=\"4\"/>\n",
       "<circle clip-path=\"url(#clip082)\" cx=\"1586\" cy=\"1632.83\" r=\"14\" fill=\"#009af9\" fill-rule=\"evenodd\" fill-opacity=\"1\" stroke=\"#000000\" stroke-opacity=\"1\" stroke-width=\"4\"/>\n",
       "<circle clip-path=\"url(#clip082)\" cx=\"1614.66\" cy=\"1590.83\" r=\"14\" fill=\"#009af9\" fill-rule=\"evenodd\" fill-opacity=\"1\" stroke=\"#000000\" stroke-opacity=\"1\" stroke-width=\"4\"/>\n",
       "<circle clip-path=\"url(#clip082)\" cx=\"1624.33\" cy=\"1604.06\" r=\"14\" fill=\"#009af9\" fill-rule=\"evenodd\" fill-opacity=\"1\" stroke=\"#000000\" stroke-opacity=\"1\" stroke-width=\"4\"/>\n",
       "<circle clip-path=\"url(#clip082)\" cx=\"1601.94\" cy=\"1495.43\" r=\"14\" fill=\"#009af9\" fill-rule=\"evenodd\" fill-opacity=\"1\" stroke=\"#000000\" stroke-opacity=\"1\" stroke-width=\"4\"/>\n",
       "<circle clip-path=\"url(#clip082)\" cx=\"1707.62\" cy=\"1574.15\" r=\"14\" fill=\"#009af9\" fill-rule=\"evenodd\" fill-opacity=\"1\" stroke=\"#000000\" stroke-opacity=\"1\" stroke-width=\"4\"/>\n",
       "<circle clip-path=\"url(#clip082)\" cx=\"1230.94\" cy=\"1771.68\" r=\"14\" fill=\"#009af9\" fill-rule=\"evenodd\" fill-opacity=\"1\" stroke=\"#000000\" stroke-opacity=\"1\" stroke-width=\"4\"/>\n",
       "<circle clip-path=\"url(#clip082)\" cx=\"1513.42\" cy=\"1597.89\" r=\"14\" fill=\"#009af9\" fill-rule=\"evenodd\" fill-opacity=\"1\" stroke=\"#000000\" stroke-opacity=\"1\" stroke-width=\"4\"/>\n",
       "<circle clip-path=\"url(#clip082)\" cx=\"1190.81\" cy=\"1813.94\" r=\"14\" fill=\"#009af9\" fill-rule=\"evenodd\" fill-opacity=\"1\" stroke=\"#000000\" stroke-opacity=\"1\" stroke-width=\"4\"/>\n",
       "<circle clip-path=\"url(#clip082)\" cx=\"1841.36\" cy=\"1584.28\" r=\"14\" fill=\"#009af9\" fill-rule=\"evenodd\" fill-opacity=\"1\" stroke=\"#000000\" stroke-opacity=\"1\" stroke-width=\"4\"/>\n",
       "<circle clip-path=\"url(#clip082)\" cx=\"1617.9\" cy=\"1532.17\" r=\"14\" fill=\"#009af9\" fill-rule=\"evenodd\" fill-opacity=\"1\" stroke=\"#000000\" stroke-opacity=\"1\" stroke-width=\"4\"/>\n",
       "<circle clip-path=\"url(#clip082)\" cx=\"1546.42\" cy=\"1692.18\" r=\"14\" fill=\"#009af9\" fill-rule=\"evenodd\" fill-opacity=\"1\" stroke=\"#000000\" stroke-opacity=\"1\" stroke-width=\"4\"/>\n",
       "<circle clip-path=\"url(#clip082)\" cx=\"1422.49\" cy=\"1699.81\" r=\"14\" fill=\"#009af9\" fill-rule=\"evenodd\" fill-opacity=\"1\" stroke=\"#000000\" stroke-opacity=\"1\" stroke-width=\"4\"/>\n",
       "<circle clip-path=\"url(#clip082)\" cx=\"1883.91\" cy=\"1572.65\" r=\"14\" fill=\"#009af9\" fill-rule=\"evenodd\" fill-opacity=\"1\" stroke=\"#000000\" stroke-opacity=\"1\" stroke-width=\"4\"/>\n",
       "<circle clip-path=\"url(#clip082)\" cx=\"1296.14\" cy=\"1563.48\" r=\"14\" fill=\"#009af9\" fill-rule=\"evenodd\" fill-opacity=\"1\" stroke=\"#000000\" stroke-opacity=\"1\" stroke-width=\"4\"/>\n",
       "<circle clip-path=\"url(#clip082)\" cx=\"1607.63\" cy=\"1391.61\" r=\"14\" fill=\"#009af9\" fill-rule=\"evenodd\" fill-opacity=\"1\" stroke=\"#000000\" stroke-opacity=\"1\" stroke-width=\"4\"/>\n",
       "<circle clip-path=\"url(#clip082)\" cx=\"1539.8\" cy=\"1471.34\" r=\"14\" fill=\"#009af9\" fill-rule=\"evenodd\" fill-opacity=\"1\" stroke=\"#000000\" stroke-opacity=\"1\" stroke-width=\"4\"/>\n",
       "<circle clip-path=\"url(#clip082)\" cx=\"786.768\" cy=\"430.787\" r=\"14\" fill=\"#009af9\" fill-rule=\"evenodd\" fill-opacity=\"1\" stroke=\"#000000\" stroke-opacity=\"1\" stroke-width=\"4\"/>\n",
       "<circle clip-path=\"url(#clip082)\" cx=\"656.276\" cy=\"379.4\" r=\"14\" fill=\"#009af9\" fill-rule=\"evenodd\" fill-opacity=\"1\" stroke=\"#000000\" stroke-opacity=\"1\" stroke-width=\"4\"/>\n",
       "<circle clip-path=\"url(#clip082)\" cx=\"804.093\" cy=\"552.401\" r=\"14\" fill=\"#009af9\" fill-rule=\"evenodd\" fill-opacity=\"1\" stroke=\"#000000\" stroke-opacity=\"1\" stroke-width=\"4\"/>\n",
       "<circle clip-path=\"url(#clip082)\" cx=\"820.494\" cy=\"522.408\" r=\"14\" fill=\"#009af9\" fill-rule=\"evenodd\" fill-opacity=\"1\" stroke=\"#000000\" stroke-opacity=\"1\" stroke-width=\"4\"/>\n",
       "<circle clip-path=\"url(#clip082)\" cx=\"636.065\" cy=\"423.869\" r=\"14\" fill=\"#009af9\" fill-rule=\"evenodd\" fill-opacity=\"1\" stroke=\"#000000\" stroke-opacity=\"1\" stroke-width=\"4\"/>\n",
       "<circle clip-path=\"url(#clip082)\" cx=\"612.925\" cy=\"396.67\" r=\"14\" fill=\"#009af9\" fill-rule=\"evenodd\" fill-opacity=\"1\" stroke=\"#000000\" stroke-opacity=\"1\" stroke-width=\"4\"/>\n",
       "<circle clip-path=\"url(#clip082)\" cx=\"678.421\" cy=\"493.262\" r=\"14\" fill=\"#009af9\" fill-rule=\"evenodd\" fill-opacity=\"1\" stroke=\"#000000\" stroke-opacity=\"1\" stroke-width=\"4\"/>\n",
       "<circle clip-path=\"url(#clip082)\" cx=\"477.646\" cy=\"399.565\" r=\"14\" fill=\"#009af9\" fill-rule=\"evenodd\" fill-opacity=\"1\" stroke=\"#000000\" stroke-opacity=\"1\" stroke-width=\"4\"/>\n",
       "<circle clip-path=\"url(#clip082)\" cx=\"608.15\" cy=\"422.997\" r=\"14\" fill=\"#009af9\" fill-rule=\"evenodd\" fill-opacity=\"1\" stroke=\"#000000\" stroke-opacity=\"1\" stroke-width=\"4\"/>\n",
       "<circle clip-path=\"url(#clip082)\" cx=\"872.988\" cy=\"373.941\" r=\"14\" fill=\"#009af9\" fill-rule=\"evenodd\" fill-opacity=\"1\" stroke=\"#000000\" stroke-opacity=\"1\" stroke-width=\"4\"/>\n",
       "<circle clip-path=\"url(#clip082)\" cx=\"839.155\" cy=\"304.014\" r=\"14\" fill=\"#009af9\" fill-rule=\"evenodd\" fill-opacity=\"1\" stroke=\"#000000\" stroke-opacity=\"1\" stroke-width=\"4\"/>\n",
       "<circle clip-path=\"url(#clip082)\" cx=\"531.795\" cy=\"444.836\" r=\"14\" fill=\"#009af9\" fill-rule=\"evenodd\" fill-opacity=\"1\" stroke=\"#000000\" stroke-opacity=\"1\" stroke-width=\"4\"/>\n",
       "<circle clip-path=\"url(#clip082)\" cx=\"652.906\" cy=\"488.352\" r=\"14\" fill=\"#009af9\" fill-rule=\"evenodd\" fill-opacity=\"1\" stroke=\"#000000\" stroke-opacity=\"1\" stroke-width=\"4\"/>\n",
       "<circle clip-path=\"url(#clip082)\" cx=\"692.113\" cy=\"426.089\" r=\"14\" fill=\"#009af9\" fill-rule=\"evenodd\" fill-opacity=\"1\" stroke=\"#000000\" stroke-opacity=\"1\" stroke-width=\"4\"/>\n",
       "<circle clip-path=\"url(#clip082)\" cx=\"562.145\" cy=\"535.456\" r=\"14\" fill=\"#009af9\" fill-rule=\"evenodd\" fill-opacity=\"1\" stroke=\"#000000\" stroke-opacity=\"1\" stroke-width=\"4\"/>\n",
       "<circle clip-path=\"url(#clip082)\" cx=\"784.545\" cy=\"355.286\" r=\"14\" fill=\"#009af9\" fill-rule=\"evenodd\" fill-opacity=\"1\" stroke=\"#000000\" stroke-opacity=\"1\" stroke-width=\"4\"/>\n",
       "<circle clip-path=\"url(#clip082)\" cx=\"670.267\" cy=\"431.402\" r=\"14\" fill=\"#009af9\" fill-rule=\"evenodd\" fill-opacity=\"1\" stroke=\"#000000\" stroke-opacity=\"1\" stroke-width=\"4\"/>\n",
       "<circle clip-path=\"url(#clip082)\" cx=\"716.431\" cy=\"468.932\" r=\"14\" fill=\"#009af9\" fill-rule=\"evenodd\" fill-opacity=\"1\" stroke=\"#000000\" stroke-opacity=\"1\" stroke-width=\"4\"/>\n",
       "<circle clip-path=\"url(#clip082)\" cx=\"704.278\" cy=\"387.367\" r=\"14\" fill=\"#009af9\" fill-rule=\"evenodd\" fill-opacity=\"1\" stroke=\"#000000\" stroke-opacity=\"1\" stroke-width=\"4\"/>\n",
       "<circle clip-path=\"url(#clip082)\" cx=\"759.134\" cy=\"538.013\" r=\"14\" fill=\"#009af9\" fill-rule=\"evenodd\" fill-opacity=\"1\" stroke=\"#000000\" stroke-opacity=\"1\" stroke-width=\"4\"/>\n",
       "</svg>\n"
      ]
     },
     "execution_count": 3,
     "metadata": {},
     "output_type": "execute_result"
    }
   ],
   "source": [
    "Random.seed!(80)\n",
    "X = vcat( [ [0, -0.2] + 0.1*randn(2) for i = 1:30 ],\n",
    "\t\t[ [0.5, 0.5] + 0.1*randn(2) for i = 1:30 ],\n",
    "\t\t[ [0.5, -0.5] + 0.1*randn(2) for i = 1:20 ],\n",
    "\t\t[ [0, 0.4] + 0.06* randn(2) for i = 1:20])\n",
    "scatter([x[1] for x in X], [x[2] for x in X])\n",
    "plot!(legend = false, grid = false, size = (500,500),\n",
    "       xlims = (-0.25,0.75), ylims = (-0.7,0.7))"
   ]
  },
  {
   "cell_type": "code",
   "execution_count": 5,
   "id": "35cf4dde",
   "metadata": {},
   "outputs": [
    {
     "name": "stdout",
     "output_type": "stream",
     "text": [
      "Iteration 1: Jclust = 0.17042001437840845.\n",
      "Iteration 2: Jclust = 0.030932745932172816.\n",
      "Iteration 3: Jclust = 0.017346367918245634.\n",
      "Iteration 4: Jclust = 0.01680809465434592.\n",
      "Iteration 5: Jclust = 0.016747054195745868.\n",
      "Iteration 6: Jclust = 0.016747054195745868.\n"
     ]
    }
   ],
   "source": [
    "using LinearAlgebra\n",
    "assignment, reps = kmeans(X, 4)\n",
    "k = 4\n",
    "N = length(X)\n",
    "grps  = [[X[i] for i=1:N if assignment[i] == j] for j=1:k]\n",
    "c1 = [ [0, 0.2]]\n",
    "chelx = [x[1] for x in c1];\n",
    "chely = [x[2] for x in c1];"
   ]
  },
  {
   "cell_type": "code",
   "execution_count": 6,
   "id": "8ca74a36",
   "metadata": {},
   "outputs": [
    {
     "data": {
      "image/svg+xml": [
       "<?xml version=\"1.0\" encoding=\"utf-8\"?>\n",
       "<svg xmlns=\"http://www.w3.org/2000/svg\" xmlns:xlink=\"http://www.w3.org/1999/xlink\" width=\"500\" height=\"500\" viewBox=\"0 0 2000 2000\">\n",
       "<defs>\n",
       "  <clipPath id=\"clip120\">\n",
       "    <rect x=\"0\" y=\"0\" width=\"2000\" height=\"2000\"/>\n",
       "  </clipPath>\n",
       "</defs>\n",
       "<path clip-path=\"url(#clip120)\" d=\"\n",
       "M0 2000 L2000 2000 L2000 0 L0 0  Z\n",
       "  \" fill=\"#ffffff\" fill-rule=\"evenodd\" fill-opacity=\"1\"/>\n",
       "<defs>\n",
       "  <clipPath id=\"clip121\">\n",
       "    <rect x=\"400\" y=\"200\" width=\"1401\" height=\"1401\"/>\n",
       "  </clipPath>\n",
       "</defs>\n",
       "<path clip-path=\"url(#clip120)\" d=\"\n",
       "M220.098 1865.17 L1952.76 1865.17 L1952.76 47.2441 L220.098 47.2441  Z\n",
       "  \" fill=\"#ffffff\" fill-rule=\"evenodd\" fill-opacity=\"1\"/>\n",
       "<defs>\n",
       "  <clipPath id=\"clip122\">\n",
       "    <rect x=\"220\" y=\"47\" width=\"1734\" height=\"1819\"/>\n",
       "  </clipPath>\n",
       "</defs>\n",
       "<polyline clip-path=\"url(#clip122)\" style=\"stroke:#000000; stroke-linecap:butt; stroke-linejoin:round; stroke-width:2; stroke-opacity:0.1; fill:none\" points=\"\n",
       "  220.098,1865.17 220.098,47.2441 \n",
       "  \"/>\n",
       "<polyline clip-path=\"url(#clip122)\" style=\"stroke:#000000; stroke-linecap:butt; stroke-linejoin:round; stroke-width:2; stroke-opacity:0.1; fill:none\" points=\"\n",
       "  653.262,1865.17 653.262,47.2441 \n",
       "  \"/>\n",
       "<polyline clip-path=\"url(#clip122)\" style=\"stroke:#000000; stroke-linecap:butt; stroke-linejoin:round; stroke-width:2; stroke-opacity:0.1; fill:none\" points=\"\n",
       "  1086.43,1865.17 1086.43,47.2441 \n",
       "  \"/>\n",
       "<polyline clip-path=\"url(#clip122)\" style=\"stroke:#000000; stroke-linecap:butt; stroke-linejoin:round; stroke-width:2; stroke-opacity:0.1; fill:none\" points=\"\n",
       "  1519.59,1865.17 1519.59,47.2441 \n",
       "  \"/>\n",
       "<polyline clip-path=\"url(#clip122)\" style=\"stroke:#000000; stroke-linecap:butt; stroke-linejoin:round; stroke-width:2; stroke-opacity:0.1; fill:none\" points=\"\n",
       "  1952.76,1865.17 1952.76,47.2441 \n",
       "  \"/>\n",
       "<polyline clip-path=\"url(#clip120)\" style=\"stroke:#000000; stroke-linecap:butt; stroke-linejoin:round; stroke-width:4; stroke-opacity:1; fill:none\" points=\"\n",
       "  220.098,1865.17 1952.76,1865.17 \n",
       "  \"/>\n",
       "<polyline clip-path=\"url(#clip120)\" style=\"stroke:#000000; stroke-linecap:butt; stroke-linejoin:round; stroke-width:4; stroke-opacity:1; fill:none\" points=\"\n",
       "  220.098,1865.17 220.098,1846.27 \n",
       "  \"/>\n",
       "<polyline clip-path=\"url(#clip120)\" style=\"stroke:#000000; stroke-linecap:butt; stroke-linejoin:round; stroke-width:4; stroke-opacity:1; fill:none\" points=\"\n",
       "  653.262,1865.17 653.262,1846.27 \n",
       "  \"/>\n",
       "<polyline clip-path=\"url(#clip120)\" style=\"stroke:#000000; stroke-linecap:butt; stroke-linejoin:round; stroke-width:4; stroke-opacity:1; fill:none\" points=\"\n",
       "  1086.43,1865.17 1086.43,1846.27 \n",
       "  \"/>\n",
       "<polyline clip-path=\"url(#clip120)\" style=\"stroke:#000000; stroke-linecap:butt; stroke-linejoin:round; stroke-width:4; stroke-opacity:1; fill:none\" points=\"\n",
       "  1519.59,1865.17 1519.59,1846.27 \n",
       "  \"/>\n",
       "<polyline clip-path=\"url(#clip120)\" style=\"stroke:#000000; stroke-linecap:butt; stroke-linejoin:round; stroke-width:4; stroke-opacity:1; fill:none\" points=\"\n",
       "  1952.76,1865.17 1952.76,1846.27 \n",
       "  \"/>\n",
       "<path clip-path=\"url(#clip120)\" d=\"M152.043 1905.81 L181.718 1905.81 L181.718 1909.75 L152.043 1909.75 L152.043 1905.81 Z\" fill=\"#000000\" fill-rule=\"evenodd\" fill-opacity=\"1\" /><path clip-path=\"url(#clip120)\" d=\"M201.811 1891.16 Q198.2 1891.16 196.371 1894.72 Q194.566 1898.27 194.566 1905.39 Q194.566 1912.5 196.371 1916.07 Q198.2 1919.61 201.811 1919.61 Q205.445 1919.61 207.251 1916.07 Q209.079 1912.5 209.079 1905.39 Q209.079 1898.27 207.251 1894.72 Q205.445 1891.16 201.811 1891.16 M201.811 1887.45 Q207.621 1887.45 210.677 1892.06 Q213.755 1896.64 213.755 1905.39 Q213.755 1914.12 210.677 1918.73 Q207.621 1923.31 201.811 1923.31 Q196.001 1923.31 192.922 1918.73 Q189.867 1914.12 189.867 1905.39 Q189.867 1896.64 192.922 1892.06 Q196.001 1887.45 201.811 1887.45 Z\" fill=\"#000000\" fill-rule=\"evenodd\" fill-opacity=\"1\" /><path clip-path=\"url(#clip120)\" d=\"M221.973 1916.76 L226.857 1916.76 L226.857 1922.64 L221.973 1922.64 L221.973 1916.76 Z\" fill=\"#000000\" fill-rule=\"evenodd\" fill-opacity=\"1\" /><path clip-path=\"url(#clip120)\" d=\"M241.07 1918.7 L257.389 1918.7 L257.389 1922.64 L235.445 1922.64 L235.445 1918.7 Q238.107 1915.95 242.69 1911.32 Q247.297 1906.67 248.477 1905.33 Q250.723 1902.8 251.602 1901.07 Q252.505 1899.31 252.505 1897.62 Q252.505 1894.86 250.561 1893.13 Q248.639 1891.39 245.538 1891.39 Q243.338 1891.39 240.885 1892.15 Q238.454 1892.92 235.676 1894.47 L235.676 1889.75 Q238.501 1888.61 240.954 1888.03 Q243.408 1887.45 245.445 1887.45 Q250.815 1887.45 254.01 1890.14 Q257.204 1892.83 257.204 1897.32 Q257.204 1899.45 256.394 1901.37 Q255.607 1903.26 253.5 1905.86 Q252.922 1906.53 249.82 1909.75 Q246.718 1912.94 241.07 1918.7 Z\" fill=\"#000000\" fill-rule=\"evenodd\" fill-opacity=\"1\" /><path clip-path=\"url(#clip120)\" d=\"M267.25 1888.08 L285.607 1888.08 L285.607 1892.02 L271.533 1892.02 L271.533 1900.49 Q272.551 1900.14 273.57 1899.98 Q274.588 1899.79 275.607 1899.79 Q281.394 1899.79 284.773 1902.96 Q288.153 1906.14 288.153 1911.55 Q288.153 1917.13 284.681 1920.23 Q281.209 1923.31 274.889 1923.31 Q272.713 1923.31 270.445 1922.94 Q268.199 1922.57 265.792 1921.83 L265.792 1917.13 Q267.875 1918.26 270.098 1918.82 Q272.32 1919.38 274.797 1919.38 Q278.801 1919.38 281.139 1917.27 Q283.477 1915.16 283.477 1911.55 Q283.477 1907.94 281.139 1905.83 Q278.801 1903.73 274.797 1903.73 Q272.922 1903.73 271.047 1904.14 Q269.195 1904.56 267.25 1905.44 L267.25 1888.08 Z\" fill=\"#000000\" fill-rule=\"evenodd\" fill-opacity=\"1\" /><path clip-path=\"url(#clip120)\" d=\"M615.566 1891.16 Q611.955 1891.16 610.126 1894.72 Q608.32 1898.27 608.32 1905.39 Q608.32 1912.5 610.126 1916.07 Q611.955 1919.61 615.566 1919.61 Q619.2 1919.61 621.006 1916.07 Q622.834 1912.5 622.834 1905.39 Q622.834 1898.27 621.006 1894.72 Q619.2 1891.16 615.566 1891.16 M615.566 1887.45 Q621.376 1887.45 624.432 1892.06 Q627.51 1896.64 627.51 1905.39 Q627.51 1914.12 624.432 1918.73 Q621.376 1923.31 615.566 1923.31 Q609.756 1923.31 606.677 1918.73 Q603.621 1914.12 603.621 1905.39 Q603.621 1896.64 606.677 1892.06 Q609.756 1887.45 615.566 1887.45 Z\" fill=\"#000000\" fill-rule=\"evenodd\" fill-opacity=\"1\" /><path clip-path=\"url(#clip120)\" d=\"M635.728 1916.76 L640.612 1916.76 L640.612 1922.64 L635.728 1922.64 L635.728 1916.76 Z\" fill=\"#000000\" fill-rule=\"evenodd\" fill-opacity=\"1\" /><path clip-path=\"url(#clip120)\" d=\"M660.797 1891.16 Q657.186 1891.16 655.357 1894.72 Q653.552 1898.27 653.552 1905.39 Q653.552 1912.5 655.357 1916.07 Q657.186 1919.61 660.797 1919.61 Q664.431 1919.61 666.237 1916.07 Q668.066 1912.5 668.066 1905.39 Q668.066 1898.27 666.237 1894.72 Q664.431 1891.16 660.797 1891.16 M660.797 1887.45 Q666.607 1887.45 669.663 1892.06 Q672.741 1896.64 672.741 1905.39 Q672.741 1914.12 669.663 1918.73 Q666.607 1923.31 660.797 1923.31 Q654.987 1923.31 651.908 1918.73 Q648.853 1914.12 648.853 1905.39 Q648.853 1896.64 651.908 1892.06 Q654.987 1887.45 660.797 1887.45 Z\" fill=\"#000000\" fill-rule=\"evenodd\" fill-opacity=\"1\" /><path clip-path=\"url(#clip120)\" d=\"M690.959 1891.16 Q687.348 1891.16 685.519 1894.72 Q683.714 1898.27 683.714 1905.39 Q683.714 1912.5 685.519 1916.07 Q687.348 1919.61 690.959 1919.61 Q694.593 1919.61 696.399 1916.07 Q698.227 1912.5 698.227 1905.39 Q698.227 1898.27 696.399 1894.72 Q694.593 1891.16 690.959 1891.16 M690.959 1887.45 Q696.769 1887.45 699.825 1892.06 Q702.903 1896.64 702.903 1905.39 Q702.903 1914.12 699.825 1918.73 Q696.769 1923.31 690.959 1923.31 Q685.149 1923.31 682.07 1918.73 Q679.015 1914.12 679.015 1905.39 Q679.015 1896.64 682.07 1892.06 Q685.149 1887.45 690.959 1887.45 Z\" fill=\"#000000\" fill-rule=\"evenodd\" fill-opacity=\"1\" /><path clip-path=\"url(#clip120)\" d=\"M1049.23 1891.16 Q1045.62 1891.16 1043.79 1894.72 Q1041.98 1898.27 1041.98 1905.39 Q1041.98 1912.5 1043.79 1916.07 Q1045.62 1919.61 1049.23 1919.61 Q1052.86 1919.61 1054.67 1916.07 Q1056.5 1912.5 1056.5 1905.39 Q1056.5 1898.27 1054.67 1894.72 Q1052.86 1891.16 1049.23 1891.16 M1049.23 1887.45 Q1055.04 1887.45 1058.09 1892.06 Q1061.17 1896.64 1061.17 1905.39 Q1061.17 1914.12 1058.09 1918.73 Q1055.04 1923.31 1049.23 1923.31 Q1043.42 1923.31 1040.34 1918.73 Q1037.28 1914.12 1037.28 1905.39 Q1037.28 1896.64 1040.34 1892.06 Q1043.42 1887.45 1049.23 1887.45 Z\" fill=\"#000000\" fill-rule=\"evenodd\" fill-opacity=\"1\" /><path clip-path=\"url(#clip120)\" d=\"M1069.39 1916.76 L1074.27 1916.76 L1074.27 1922.64 L1069.39 1922.64 L1069.39 1916.76 Z\" fill=\"#000000\" fill-rule=\"evenodd\" fill-opacity=\"1\" /><path clip-path=\"url(#clip120)\" d=\"M1088.49 1918.7 L1104.81 1918.7 L1104.81 1922.64 L1082.86 1922.64 L1082.86 1918.7 Q1085.52 1915.95 1090.11 1911.32 Q1094.71 1906.67 1095.89 1905.33 Q1098.14 1902.8 1099.02 1901.07 Q1099.92 1899.31 1099.92 1897.62 Q1099.92 1894.86 1097.98 1893.13 Q1096.06 1891.39 1092.95 1891.39 Q1090.76 1891.39 1088.3 1892.15 Q1085.87 1892.92 1083.09 1894.47 L1083.09 1889.75 Q1085.92 1888.61 1088.37 1888.03 Q1090.83 1887.45 1092.86 1887.45 Q1098.23 1887.45 1101.43 1890.14 Q1104.62 1892.83 1104.62 1897.32 Q1104.62 1899.45 1103.81 1901.37 Q1103.02 1903.26 1100.92 1905.86 Q1100.34 1906.53 1097.24 1909.75 Q1094.14 1912.94 1088.49 1918.7 Z\" fill=\"#000000\" fill-rule=\"evenodd\" fill-opacity=\"1\" /><path clip-path=\"url(#clip120)\" d=\"M1114.67 1888.08 L1133.02 1888.08 L1133.02 1892.02 L1118.95 1892.02 L1118.95 1900.49 Q1119.97 1900.14 1120.99 1899.98 Q1122.01 1899.79 1123.02 1899.79 Q1128.81 1899.79 1132.19 1902.96 Q1135.57 1906.14 1135.57 1911.55 Q1135.57 1917.13 1132.1 1920.23 Q1128.63 1923.31 1122.31 1923.31 Q1120.13 1923.31 1117.86 1922.94 Q1115.62 1922.57 1113.21 1921.83 L1113.21 1917.13 Q1115.29 1918.26 1117.51 1918.82 Q1119.74 1919.38 1122.21 1919.38 Q1126.22 1919.38 1128.56 1917.27 Q1130.89 1915.16 1130.89 1911.55 Q1130.89 1907.94 1128.56 1905.83 Q1126.22 1903.73 1122.21 1903.73 Q1120.34 1903.73 1118.46 1904.14 Q1116.61 1904.56 1114.67 1905.44 L1114.67 1888.08 Z\" fill=\"#000000\" fill-rule=\"evenodd\" fill-opacity=\"1\" /><path clip-path=\"url(#clip120)\" d=\"M1481.89 1891.16 Q1478.28 1891.16 1476.46 1894.72 Q1474.65 1898.27 1474.65 1905.39 Q1474.65 1912.5 1476.46 1916.07 Q1478.28 1919.61 1481.89 1919.61 Q1485.53 1919.61 1487.33 1916.07 Q1489.16 1912.5 1489.16 1905.39 Q1489.16 1898.27 1487.33 1894.72 Q1485.53 1891.16 1481.89 1891.16 M1481.89 1887.45 Q1487.7 1887.45 1490.76 1892.06 Q1493.84 1896.64 1493.84 1905.39 Q1493.84 1914.12 1490.76 1918.73 Q1487.7 1923.31 1481.89 1923.31 Q1476.08 1923.31 1473.01 1918.73 Q1469.95 1914.12 1469.95 1905.39 Q1469.95 1896.64 1473.01 1892.06 Q1476.08 1887.45 1481.89 1887.45 Z\" fill=\"#000000\" fill-rule=\"evenodd\" fill-opacity=\"1\" /><path clip-path=\"url(#clip120)\" d=\"M1502.06 1916.76 L1506.94 1916.76 L1506.94 1922.64 L1502.06 1922.64 L1502.06 1916.76 Z\" fill=\"#000000\" fill-rule=\"evenodd\" fill-opacity=\"1\" /><path clip-path=\"url(#clip120)\" d=\"M1517.17 1888.08 L1535.53 1888.08 L1535.53 1892.02 L1521.45 1892.02 L1521.45 1900.49 Q1522.47 1900.14 1523.49 1899.98 Q1524.51 1899.79 1525.53 1899.79 Q1531.32 1899.79 1534.7 1902.96 Q1538.08 1906.14 1538.08 1911.55 Q1538.08 1917.13 1534.6 1920.23 Q1531.13 1923.31 1524.81 1923.31 Q1522.64 1923.31 1520.37 1922.94 Q1518.12 1922.57 1515.71 1921.83 L1515.71 1917.13 Q1517.8 1918.26 1520.02 1918.82 Q1522.24 1919.38 1524.72 1919.38 Q1528.72 1919.38 1531.06 1917.27 Q1533.4 1915.16 1533.4 1911.55 Q1533.4 1907.94 1531.06 1905.83 Q1528.72 1903.73 1524.72 1903.73 Q1522.84 1903.73 1520.97 1904.14 Q1519.12 1904.56 1517.17 1905.44 L1517.17 1888.08 Z\" fill=\"#000000\" fill-rule=\"evenodd\" fill-opacity=\"1\" /><path clip-path=\"url(#clip120)\" d=\"M1557.29 1891.16 Q1553.68 1891.16 1551.85 1894.72 Q1550.04 1898.27 1550.04 1905.39 Q1550.04 1912.5 1551.85 1916.07 Q1553.68 1919.61 1557.29 1919.61 Q1560.92 1919.61 1562.73 1916.07 Q1564.56 1912.5 1564.56 1905.39 Q1564.56 1898.27 1562.73 1894.72 Q1560.92 1891.16 1557.29 1891.16 M1557.29 1887.45 Q1563.1 1887.45 1566.15 1892.06 Q1569.23 1896.64 1569.23 1905.39 Q1569.23 1914.12 1566.15 1918.73 Q1563.1 1923.31 1557.29 1923.31 Q1551.48 1923.31 1548.4 1918.73 Q1545.34 1914.12 1545.34 1905.39 Q1545.34 1896.64 1548.4 1892.06 Q1551.48 1887.45 1557.29 1887.45 Z\" fill=\"#000000\" fill-rule=\"evenodd\" fill-opacity=\"1\" /><path clip-path=\"url(#clip120)\" d=\"M1915.56 1891.16 Q1911.95 1891.16 1910.12 1894.72 Q1908.31 1898.27 1908.31 1905.39 Q1908.31 1912.5 1910.12 1916.07 Q1911.95 1919.61 1915.56 1919.61 Q1919.19 1919.61 1921 1916.07 Q1922.83 1912.5 1922.83 1905.39 Q1922.83 1898.27 1921 1894.72 Q1919.19 1891.16 1915.56 1891.16 M1915.56 1887.45 Q1921.37 1887.45 1924.42 1892.06 Q1927.5 1896.64 1927.5 1905.39 Q1927.5 1914.12 1924.42 1918.73 Q1921.37 1923.31 1915.56 1923.31 Q1909.75 1923.31 1906.67 1918.73 Q1903.61 1914.12 1903.61 1905.39 Q1903.61 1896.64 1906.67 1892.06 Q1909.75 1887.45 1915.56 1887.45 Z\" fill=\"#000000\" fill-rule=\"evenodd\" fill-opacity=\"1\" /><path clip-path=\"url(#clip120)\" d=\"M1935.72 1916.76 L1940.6 1916.76 L1940.6 1922.64 L1935.72 1922.64 L1935.72 1916.76 Z\" fill=\"#000000\" fill-rule=\"evenodd\" fill-opacity=\"1\" /><path clip-path=\"url(#clip120)\" d=\"M1949.61 1888.08 L1971.83 1888.08 L1971.83 1890.07 L1959.28 1922.64 L1954.4 1922.64 L1966.2 1892.02 L1949.61 1892.02 L1949.61 1888.08 Z\" fill=\"#000000\" fill-rule=\"evenodd\" fill-opacity=\"1\" /><path clip-path=\"url(#clip120)\" d=\"M1981 1888.08 L1999.35 1888.08 L1999.35 1892.02 L1985.28 1892.02 L1985.28 1900.49 Q1986.3 1900.14 1987.32 1899.98 Q1988.33 1899.79 1989.35 1899.79 Q1995.14 1899.79 1998.52 1902.96 Q2001.9 1906.14 2001.9 1911.55 Q2001.9 1917.13 1998.43 1920.23 Q1994.95 1923.31 1988.64 1923.31 Q1986.46 1923.31 1984.19 1922.94 Q1981.95 1922.57 1979.54 1921.83 L1979.54 1917.13 Q1981.62 1918.26 1983.84 1918.82 Q1986.07 1919.38 1988.54 1919.38 Q1992.55 1919.38 1994.89 1917.27 Q1997.22 1915.16 1997.22 1911.55 Q1997.22 1907.94 1994.89 1905.83 Q1992.55 1903.73 1988.54 1903.73 Q1986.67 1903.73 1984.79 1904.14 Q1982.94 1904.56 1981 1905.44 L1981 1888.08 Z\" fill=\"#000000\" fill-rule=\"evenodd\" fill-opacity=\"1\" /><polyline clip-path=\"url(#clip122)\" style=\"stroke:#000000; stroke-linecap:butt; stroke-linejoin:round; stroke-width:2; stroke-opacity:0.1; fill:none\" points=\"\n",
       "  220.098,1865.17 1952.76,1865.17 \n",
       "  \"/>\n",
       "<polyline clip-path=\"url(#clip122)\" style=\"stroke:#000000; stroke-linecap:butt; stroke-linejoin:round; stroke-width:2; stroke-opacity:0.1; fill:none\" points=\"\n",
       "  220.098,1562.18 1952.76,1562.18 \n",
       "  \"/>\n",
       "<polyline clip-path=\"url(#clip122)\" style=\"stroke:#000000; stroke-linecap:butt; stroke-linejoin:round; stroke-width:2; stroke-opacity:0.1; fill:none\" points=\"\n",
       "  220.098,1259.19 1952.76,1259.19 \n",
       "  \"/>\n",
       "<polyline clip-path=\"url(#clip122)\" style=\"stroke:#000000; stroke-linecap:butt; stroke-linejoin:round; stroke-width:2; stroke-opacity:0.1; fill:none\" points=\"\n",
       "  220.098,956.206 1952.76,956.206 \n",
       "  \"/>\n",
       "<polyline clip-path=\"url(#clip122)\" style=\"stroke:#000000; stroke-linecap:butt; stroke-linejoin:round; stroke-width:2; stroke-opacity:0.1; fill:none\" points=\"\n",
       "  220.098,653.219 1952.76,653.219 \n",
       "  \"/>\n",
       "<polyline clip-path=\"url(#clip122)\" style=\"stroke:#000000; stroke-linecap:butt; stroke-linejoin:round; stroke-width:2; stroke-opacity:0.1; fill:none\" points=\"\n",
       "  220.098,350.231 1952.76,350.231 \n",
       "  \"/>\n",
       "<polyline clip-path=\"url(#clip122)\" style=\"stroke:#000000; stroke-linecap:butt; stroke-linejoin:round; stroke-width:2; stroke-opacity:0.1; fill:none\" points=\"\n",
       "  220.098,47.2441 1952.76,47.2441 \n",
       "  \"/>\n",
       "<polyline clip-path=\"url(#clip120)\" style=\"stroke:#000000; stroke-linecap:butt; stroke-linejoin:round; stroke-width:4; stroke-opacity:1; fill:none\" points=\"\n",
       "  220.098,1865.17 220.098,47.2441 \n",
       "  \"/>\n",
       "<polyline clip-path=\"url(#clip120)\" style=\"stroke:#000000; stroke-linecap:butt; stroke-linejoin:round; stroke-width:4; stroke-opacity:1; fill:none\" points=\"\n",
       "  220.098,1865.17 238.996,1865.17 \n",
       "  \"/>\n",
       "<polyline clip-path=\"url(#clip120)\" style=\"stroke:#000000; stroke-linecap:butt; stroke-linejoin:round; stroke-width:4; stroke-opacity:1; fill:none\" points=\"\n",
       "  220.098,1562.18 238.996,1562.18 \n",
       "  \"/>\n",
       "<polyline clip-path=\"url(#clip120)\" style=\"stroke:#000000; stroke-linecap:butt; stroke-linejoin:round; stroke-width:4; stroke-opacity:1; fill:none\" points=\"\n",
       "  220.098,1259.19 238.996,1259.19 \n",
       "  \"/>\n",
       "<polyline clip-path=\"url(#clip120)\" style=\"stroke:#000000; stroke-linecap:butt; stroke-linejoin:round; stroke-width:4; stroke-opacity:1; fill:none\" points=\"\n",
       "  220.098,956.206 238.996,956.206 \n",
       "  \"/>\n",
       "<polyline clip-path=\"url(#clip120)\" style=\"stroke:#000000; stroke-linecap:butt; stroke-linejoin:round; stroke-width:4; stroke-opacity:1; fill:none\" points=\"\n",
       "  220.098,653.219 238.996,653.219 \n",
       "  \"/>\n",
       "<polyline clip-path=\"url(#clip120)\" style=\"stroke:#000000; stroke-linecap:butt; stroke-linejoin:round; stroke-width:4; stroke-opacity:1; fill:none\" points=\"\n",
       "  220.098,350.231 238.996,350.231 \n",
       "  \"/>\n",
       "<polyline clip-path=\"url(#clip120)\" style=\"stroke:#000000; stroke-linecap:butt; stroke-linejoin:round; stroke-width:4; stroke-opacity:1; fill:none\" points=\"\n",
       "  220.098,47.2441 238.996,47.2441 \n",
       "  \"/>\n",
       "<path clip-path=\"url(#clip120)\" d=\"M53.9875 1865.62 L83.6633 1865.62 L83.6633 1869.55 L53.9875 1869.55 L53.9875 1865.62 Z\" fill=\"#000000\" fill-rule=\"evenodd\" fill-opacity=\"1\" /><path clip-path=\"url(#clip120)\" d=\"M103.756 1850.97 Q100.145 1850.97 98.316 1854.53 Q96.5104 1858.07 96.5104 1865.2 Q96.5104 1872.31 98.316 1875.87 Q100.145 1879.42 103.756 1879.42 Q107.39 1879.42 109.196 1875.87 Q111.024 1872.31 111.024 1865.2 Q111.024 1858.07 109.196 1854.53 Q107.39 1850.97 103.756 1850.97 M103.756 1847.26 Q109.566 1847.26 112.621 1851.87 Q115.7 1856.45 115.7 1865.2 Q115.7 1873.93 112.621 1878.54 Q109.566 1883.12 103.756 1883.12 Q97.9456 1883.12 94.8669 1878.54 Q91.8114 1873.93 91.8114 1865.2 Q91.8114 1856.45 94.8669 1851.87 Q97.9456 1847.26 103.756 1847.26 Z\" fill=\"#000000\" fill-rule=\"evenodd\" fill-opacity=\"1\" /><path clip-path=\"url(#clip120)\" d=\"M123.918 1876.57 L128.802 1876.57 L128.802 1882.45 L123.918 1882.45 L123.918 1876.57 Z\" fill=\"#000000\" fill-rule=\"evenodd\" fill-opacity=\"1\" /><path clip-path=\"url(#clip120)\" d=\"M137.806 1847.89 L160.029 1847.89 L160.029 1849.88 L147.482 1882.45 L142.598 1882.45 L154.404 1851.82 L137.806 1851.82 L137.806 1847.89 Z\" fill=\"#000000\" fill-rule=\"evenodd\" fill-opacity=\"1\" /><path clip-path=\"url(#clip120)\" d=\"M169.195 1847.89 L187.552 1847.89 L187.552 1851.82 L173.478 1851.82 L173.478 1860.3 Q174.496 1859.95 175.515 1859.79 Q176.533 1859.6 177.552 1859.6 Q183.339 1859.6 186.718 1862.77 Q190.098 1865.94 190.098 1871.36 Q190.098 1876.94 186.626 1880.04 Q183.153 1883.12 176.834 1883.12 Q174.658 1883.12 172.39 1882.75 Q170.144 1882.38 167.737 1881.64 L167.737 1876.94 Q169.82 1878.07 172.042 1878.63 Q174.265 1879.18 176.741 1879.18 Q180.746 1879.18 183.084 1877.08 Q185.422 1874.97 185.422 1871.36 Q185.422 1867.75 183.084 1865.64 Q180.746 1863.54 176.741 1863.54 Q174.866 1863.54 172.991 1863.95 Q171.14 1864.37 169.195 1865.25 L169.195 1847.89 Z\" fill=\"#000000\" fill-rule=\"evenodd\" fill-opacity=\"1\" /><path clip-path=\"url(#clip120)\" d=\"M52.9921 1562.63 L82.6679 1562.63 L82.6679 1566.57 L52.9921 1566.57 L52.9921 1562.63 Z\" fill=\"#000000\" fill-rule=\"evenodd\" fill-opacity=\"1\" /><path clip-path=\"url(#clip120)\" d=\"M102.76 1547.98 Q99.1493 1547.98 97.3206 1551.54 Q95.515 1555.09 95.515 1562.22 Q95.515 1569.32 97.3206 1572.89 Q99.1493 1576.43 102.76 1576.43 Q106.395 1576.43 108.2 1572.89 Q110.029 1569.32 110.029 1562.22 Q110.029 1555.09 108.2 1551.54 Q106.395 1547.98 102.76 1547.98 M102.76 1544.28 Q108.571 1544.28 111.626 1548.88 Q114.705 1553.47 114.705 1562.22 Q114.705 1570.94 111.626 1575.55 Q108.571 1580.13 102.76 1580.13 Q96.9502 1580.13 93.8715 1575.55 Q90.816 1570.94 90.816 1562.22 Q90.816 1553.47 93.8715 1548.88 Q96.9502 1544.28 102.76 1544.28 Z\" fill=\"#000000\" fill-rule=\"evenodd\" fill-opacity=\"1\" /><path clip-path=\"url(#clip120)\" d=\"M122.922 1573.58 L127.807 1573.58 L127.807 1579.46 L122.922 1579.46 L122.922 1573.58 Z\" fill=\"#000000\" fill-rule=\"evenodd\" fill-opacity=\"1\" /><path clip-path=\"url(#clip120)\" d=\"M138.038 1544.9 L156.394 1544.9 L156.394 1548.84 L142.32 1548.84 L142.32 1557.31 Q143.339 1556.96 144.357 1556.8 Q145.376 1556.61 146.394 1556.61 Q152.181 1556.61 155.561 1559.78 Q158.941 1562.96 158.941 1568.37 Q158.941 1573.95 155.468 1577.05 Q151.996 1580.13 145.677 1580.13 Q143.501 1580.13 141.232 1579.76 Q138.987 1579.39 136.58 1578.65 L136.58 1573.95 Q138.663 1575.09 140.885 1575.64 Q143.107 1576.2 145.584 1576.2 Q149.589 1576.2 151.927 1574.09 Q154.265 1571.98 154.265 1568.37 Q154.265 1564.76 151.927 1562.66 Q149.589 1560.55 145.584 1560.55 Q143.709 1560.55 141.834 1560.97 Q139.982 1561.38 138.038 1562.26 L138.038 1544.9 Z\" fill=\"#000000\" fill-rule=\"evenodd\" fill-opacity=\"1\" /><path clip-path=\"url(#clip120)\" d=\"M178.153 1547.98 Q174.542 1547.98 172.714 1551.54 Q170.908 1555.09 170.908 1562.22 Q170.908 1569.32 172.714 1572.89 Q174.542 1576.43 178.153 1576.43 Q181.788 1576.43 183.593 1572.89 Q185.422 1569.32 185.422 1562.22 Q185.422 1555.09 183.593 1551.54 Q181.788 1547.98 178.153 1547.98 M178.153 1544.28 Q183.964 1544.28 187.019 1548.88 Q190.098 1553.47 190.098 1562.22 Q190.098 1570.94 187.019 1575.55 Q183.964 1580.13 178.153 1580.13 Q172.343 1580.13 169.265 1575.55 Q166.209 1570.94 166.209 1562.22 Q166.209 1553.47 169.265 1548.88 Q172.343 1544.28 178.153 1544.28 Z\" fill=\"#000000\" fill-rule=\"evenodd\" fill-opacity=\"1\" /><path clip-path=\"url(#clip120)\" d=\"M53.9875 1259.64 L83.6633 1259.64 L83.6633 1263.58 L53.9875 1263.58 L53.9875 1259.64 Z\" fill=\"#000000\" fill-rule=\"evenodd\" fill-opacity=\"1\" /><path clip-path=\"url(#clip120)\" d=\"M103.756 1244.99 Q100.145 1244.99 98.316 1248.56 Q96.5104 1252.1 96.5104 1259.23 Q96.5104 1266.33 98.316 1269.9 Q100.145 1273.44 103.756 1273.44 Q107.39 1273.44 109.196 1269.9 Q111.024 1266.33 111.024 1259.23 Q111.024 1252.1 109.196 1248.56 Q107.39 1244.99 103.756 1244.99 M103.756 1241.29 Q109.566 1241.29 112.621 1245.89 Q115.7 1250.48 115.7 1259.23 Q115.7 1267.95 112.621 1272.56 Q109.566 1277.14 103.756 1277.14 Q97.9456 1277.14 94.8669 1272.56 Q91.8114 1267.95 91.8114 1259.23 Q91.8114 1250.48 94.8669 1245.89 Q97.9456 1241.29 103.756 1241.29 Z\" fill=\"#000000\" fill-rule=\"evenodd\" fill-opacity=\"1\" /><path clip-path=\"url(#clip120)\" d=\"M123.918 1270.59 L128.802 1270.59 L128.802 1276.47 L123.918 1276.47 L123.918 1270.59 Z\" fill=\"#000000\" fill-rule=\"evenodd\" fill-opacity=\"1\" /><path clip-path=\"url(#clip120)\" d=\"M143.015 1272.54 L159.334 1272.54 L159.334 1276.47 L137.39 1276.47 L137.39 1272.54 Q140.052 1269.78 144.635 1265.15 Q149.242 1260.5 150.422 1259.16 Q152.668 1256.64 153.547 1254.9 Q154.45 1253.14 154.45 1251.45 Q154.45 1248.7 152.505 1246.96 Q150.584 1245.22 147.482 1245.22 Q145.283 1245.22 142.83 1245.99 Q140.399 1246.75 137.621 1248.3 L137.621 1243.58 Q140.445 1242.45 142.899 1241.87 Q145.353 1241.29 147.39 1241.29 Q152.76 1241.29 155.955 1243.97 Q159.149 1246.66 159.149 1251.15 Q159.149 1253.28 158.339 1255.2 Q157.552 1257.1 155.445 1259.69 Q154.867 1260.36 151.765 1263.58 Q148.663 1266.77 143.015 1272.54 Z\" fill=\"#000000\" fill-rule=\"evenodd\" fill-opacity=\"1\" /><path clip-path=\"url(#clip120)\" d=\"M169.195 1241.91 L187.552 1241.91 L187.552 1245.85 L173.478 1245.85 L173.478 1254.32 Q174.496 1253.97 175.515 1253.81 Q176.533 1253.63 177.552 1253.63 Q183.339 1253.63 186.718 1256.8 Q190.098 1259.97 190.098 1265.39 Q190.098 1270.96 186.626 1274.07 Q183.153 1277.14 176.834 1277.14 Q174.658 1277.14 172.39 1276.77 Q170.144 1276.4 167.737 1275.66 L167.737 1270.96 Q169.82 1272.1 172.042 1272.65 Q174.265 1273.21 176.741 1273.21 Q180.746 1273.21 183.084 1271.1 Q185.422 1269 185.422 1265.39 Q185.422 1261.77 183.084 1259.67 Q180.746 1257.56 176.741 1257.56 Q174.866 1257.56 172.991 1257.98 Q171.14 1258.39 169.195 1259.27 L169.195 1241.91 Z\" fill=\"#000000\" fill-rule=\"evenodd\" fill-opacity=\"1\" /><path clip-path=\"url(#clip120)\" d=\"M102.76 942.005 Q99.1493 942.005 97.3206 945.569 Q95.515 949.111 95.515 956.241 Q95.515 963.347 97.3206 966.912 Q99.1493 970.454 102.76 970.454 Q106.395 970.454 108.2 966.912 Q110.029 963.347 110.029 956.241 Q110.029 949.111 108.2 945.569 Q106.395 942.005 102.76 942.005 M102.76 938.301 Q108.571 938.301 111.626 942.907 Q114.705 947.491 114.705 956.241 Q114.705 964.968 111.626 969.574 Q108.571 974.157 102.76 974.157 Q96.9502 974.157 93.8715 969.574 Q90.816 964.968 90.816 956.241 Q90.816 947.491 93.8715 942.907 Q96.9502 938.301 102.76 938.301 Z\" fill=\"#000000\" fill-rule=\"evenodd\" fill-opacity=\"1\" /><path clip-path=\"url(#clip120)\" d=\"M122.922 967.606 L127.807 967.606 L127.807 973.486 L122.922 973.486 L122.922 967.606 Z\" fill=\"#000000\" fill-rule=\"evenodd\" fill-opacity=\"1\" /><path clip-path=\"url(#clip120)\" d=\"M147.992 942.005 Q144.381 942.005 142.552 945.569 Q140.746 949.111 140.746 956.241 Q140.746 963.347 142.552 966.912 Q144.381 970.454 147.992 970.454 Q151.626 970.454 153.431 966.912 Q155.26 963.347 155.26 956.241 Q155.26 949.111 153.431 945.569 Q151.626 942.005 147.992 942.005 M147.992 938.301 Q153.802 938.301 156.857 942.907 Q159.936 947.491 159.936 956.241 Q159.936 964.968 156.857 969.574 Q153.802 974.157 147.992 974.157 Q142.181 974.157 139.103 969.574 Q136.047 964.968 136.047 956.241 Q136.047 947.491 139.103 942.907 Q142.181 938.301 147.992 938.301 Z\" fill=\"#000000\" fill-rule=\"evenodd\" fill-opacity=\"1\" /><path clip-path=\"url(#clip120)\" d=\"M178.153 942.005 Q174.542 942.005 172.714 945.569 Q170.908 949.111 170.908 956.241 Q170.908 963.347 172.714 966.912 Q174.542 970.454 178.153 970.454 Q181.788 970.454 183.593 966.912 Q185.422 963.347 185.422 956.241 Q185.422 949.111 183.593 945.569 Q181.788 942.005 178.153 942.005 M178.153 938.301 Q183.964 938.301 187.019 942.907 Q190.098 947.491 190.098 956.241 Q190.098 964.968 187.019 969.574 Q183.964 974.157 178.153 974.157 Q172.343 974.157 169.265 969.574 Q166.209 964.968 166.209 956.241 Q166.209 947.491 169.265 942.907 Q172.343 938.301 178.153 938.301 Z\" fill=\"#000000\" fill-rule=\"evenodd\" fill-opacity=\"1\" /><path clip-path=\"url(#clip120)\" d=\"M103.756 639.017 Q100.145 639.017 98.316 642.582 Q96.5104 646.124 96.5104 653.253 Q96.5104 660.36 98.316 663.925 Q100.145 667.466 103.756 667.466 Q107.39 667.466 109.196 663.925 Q111.024 660.36 111.024 653.253 Q111.024 646.124 109.196 642.582 Q107.39 639.017 103.756 639.017 M103.756 635.314 Q109.566 635.314 112.621 639.92 Q115.7 644.503 115.7 653.253 Q115.7 661.98 112.621 666.587 Q109.566 671.17 103.756 671.17 Q97.9456 671.17 94.8669 666.587 Q91.8114 661.98 91.8114 653.253 Q91.8114 644.503 94.8669 639.92 Q97.9456 635.314 103.756 635.314 Z\" fill=\"#000000\" fill-rule=\"evenodd\" fill-opacity=\"1\" /><path clip-path=\"url(#clip120)\" d=\"M123.918 664.619 L128.802 664.619 L128.802 670.499 L123.918 670.499 L123.918 664.619 Z\" fill=\"#000000\" fill-rule=\"evenodd\" fill-opacity=\"1\" /><path clip-path=\"url(#clip120)\" d=\"M143.015 666.564 L159.334 666.564 L159.334 670.499 L137.39 670.499 L137.39 666.564 Q140.052 663.809 144.635 659.179 Q149.242 654.527 150.422 653.184 Q152.668 650.661 153.547 648.925 Q154.45 647.165 154.45 645.476 Q154.45 642.721 152.505 640.985 Q150.584 639.249 147.482 639.249 Q145.283 639.249 142.83 640.013 Q140.399 640.777 137.621 642.328 L137.621 637.605 Q140.445 636.471 142.899 635.892 Q145.353 635.314 147.39 635.314 Q152.76 635.314 155.955 637.999 Q159.149 640.684 159.149 645.175 Q159.149 647.304 158.339 649.226 Q157.552 651.124 155.445 653.716 Q154.867 654.388 151.765 657.605 Q148.663 660.8 143.015 666.564 Z\" fill=\"#000000\" fill-rule=\"evenodd\" fill-opacity=\"1\" /><path clip-path=\"url(#clip120)\" d=\"M169.195 635.939 L187.552 635.939 L187.552 639.874 L173.478 639.874 L173.478 648.346 Q174.496 647.999 175.515 647.837 Q176.533 647.652 177.552 647.652 Q183.339 647.652 186.718 650.823 Q190.098 653.994 190.098 659.411 Q190.098 664.989 186.626 668.091 Q183.153 671.17 176.834 671.17 Q174.658 671.17 172.39 670.8 Q170.144 670.429 167.737 669.689 L167.737 664.989 Q169.82 666.124 172.042 666.679 Q174.265 667.235 176.741 667.235 Q180.746 667.235 183.084 665.128 Q185.422 663.022 185.422 659.411 Q185.422 655.8 183.084 653.693 Q180.746 651.587 176.741 651.587 Q174.866 651.587 172.991 652.003 Q171.14 652.42 169.195 653.3 L169.195 635.939 Z\" fill=\"#000000\" fill-rule=\"evenodd\" fill-opacity=\"1\" /><path clip-path=\"url(#clip120)\" d=\"M102.76 336.03 Q99.1493 336.03 97.3206 339.595 Q95.515 343.137 95.515 350.266 Q95.515 357.373 97.3206 360.937 Q99.1493 364.479 102.76 364.479 Q106.395 364.479 108.2 360.937 Q110.029 357.373 110.029 350.266 Q110.029 343.137 108.2 339.595 Q106.395 336.03 102.76 336.03 M102.76 332.326 Q108.571 332.326 111.626 336.933 Q114.705 341.516 114.705 350.266 Q114.705 358.993 111.626 363.599 Q108.571 368.183 102.76 368.183 Q96.9502 368.183 93.8715 363.599 Q90.816 358.993 90.816 350.266 Q90.816 341.516 93.8715 336.933 Q96.9502 332.326 102.76 332.326 Z\" fill=\"#000000\" fill-rule=\"evenodd\" fill-opacity=\"1\" /><path clip-path=\"url(#clip120)\" d=\"M122.922 361.632 L127.807 361.632 L127.807 367.511 L122.922 367.511 L122.922 361.632 Z\" fill=\"#000000\" fill-rule=\"evenodd\" fill-opacity=\"1\" /><path clip-path=\"url(#clip120)\" d=\"M138.038 332.951 L156.394 332.951 L156.394 336.887 L142.32 336.887 L142.32 345.359 Q143.339 345.012 144.357 344.849 Q145.376 344.664 146.394 344.664 Q152.181 344.664 155.561 347.836 Q158.941 351.007 158.941 356.423 Q158.941 362.002 155.468 365.104 Q151.996 368.183 145.677 368.183 Q143.501 368.183 141.232 367.812 Q138.987 367.442 136.58 366.701 L136.58 362.002 Q138.663 363.136 140.885 363.692 Q143.107 364.248 145.584 364.248 Q149.589 364.248 151.927 362.141 Q154.265 360.035 154.265 356.423 Q154.265 352.812 151.927 350.706 Q149.589 348.599 145.584 348.599 Q143.709 348.599 141.834 349.016 Q139.982 349.433 138.038 350.312 L138.038 332.951 Z\" fill=\"#000000\" fill-rule=\"evenodd\" fill-opacity=\"1\" /><path clip-path=\"url(#clip120)\" d=\"M178.153 336.03 Q174.542 336.03 172.714 339.595 Q170.908 343.137 170.908 350.266 Q170.908 357.373 172.714 360.937 Q174.542 364.479 178.153 364.479 Q181.788 364.479 183.593 360.937 Q185.422 357.373 185.422 350.266 Q185.422 343.137 183.593 339.595 Q181.788 336.03 178.153 336.03 M178.153 332.326 Q183.964 332.326 187.019 336.933 Q190.098 341.516 190.098 350.266 Q190.098 358.993 187.019 363.599 Q183.964 368.183 178.153 368.183 Q172.343 368.183 169.265 363.599 Q166.209 358.993 166.209 350.266 Q166.209 341.516 169.265 336.933 Q172.343 332.326 178.153 332.326 Z\" fill=\"#000000\" fill-rule=\"evenodd\" fill-opacity=\"1\" /><path clip-path=\"url(#clip120)\" d=\"M103.756 33.0428 Q100.145 33.0428 98.316 36.6076 Q96.5104 40.1492 96.5104 47.2788 Q96.5104 54.3853 98.316 57.9501 Q100.145 61.4917 103.756 61.4917 Q107.39 61.4917 109.196 57.9501 Q111.024 54.3853 111.024 47.2788 Q111.024 40.1492 109.196 36.6076 Q107.39 33.0428 103.756 33.0428 M103.756 29.3391 Q109.566 29.3391 112.621 33.9456 Q115.7 38.5289 115.7 47.2788 Q115.7 56.0056 112.621 60.6121 Q109.566 65.1954 103.756 65.1954 Q97.9456 65.1954 94.8669 60.6121 Q91.8114 56.0056 91.8114 47.2788 Q91.8114 38.5289 94.8669 33.9456 Q97.9456 29.3391 103.756 29.3391 Z\" fill=\"#000000\" fill-rule=\"evenodd\" fill-opacity=\"1\" /><path clip-path=\"url(#clip120)\" d=\"M123.918 58.6445 L128.802 58.6445 L128.802 64.5241 L123.918 64.5241 L123.918 58.6445 Z\" fill=\"#000000\" fill-rule=\"evenodd\" fill-opacity=\"1\" /><path clip-path=\"url(#clip120)\" d=\"M137.806 29.9641 L160.029 29.9641 L160.029 31.9548 L147.482 64.5241 L142.598 64.5241 L154.404 33.8993 L137.806 33.8993 L137.806 29.9641 Z\" fill=\"#000000\" fill-rule=\"evenodd\" fill-opacity=\"1\" /><path clip-path=\"url(#clip120)\" d=\"M169.195 29.9641 L187.552 29.9641 L187.552 33.8993 L173.478 33.8993 L173.478 42.3714 Q174.496 42.0242 175.515 41.8622 Q176.533 41.677 177.552 41.677 Q183.339 41.677 186.718 44.8483 Q190.098 48.0196 190.098 53.4362 Q190.098 59.0149 186.626 62.1167 Q183.153 65.1954 176.834 65.1954 Q174.658 65.1954 172.39 64.825 Q170.144 64.4547 167.737 63.7139 L167.737 59.0149 Q169.82 60.1491 172.042 60.7047 Q174.265 61.2602 176.741 61.2602 Q180.746 61.2602 183.084 59.1538 Q185.422 57.0473 185.422 53.4362 Q185.422 49.8251 183.084 47.7186 Q180.746 45.6122 176.741 45.6122 Q174.866 45.6122 172.991 46.0288 Q171.14 46.4455 169.195 47.3251 L169.195 29.9641 Z\" fill=\"#000000\" fill-rule=\"evenodd\" fill-opacity=\"1\" /><circle clip-path=\"url(#clip122)\" cx=\"1300.73\" cy=\"291.341\" r=\"14\" fill=\"#008000\" fill-rule=\"evenodd\" fill-opacity=\"1\" stroke=\"#000000\" stroke-opacity=\"1\" stroke-width=\"4\"/>\n",
       "<circle clip-path=\"url(#clip122)\" cx=\"1552.26\" cy=\"96.5105\" r=\"14\" fill=\"#008000\" fill-rule=\"evenodd\" fill-opacity=\"1\" stroke=\"#000000\" stroke-opacity=\"1\" stroke-width=\"4\"/>\n",
       "<circle clip-path=\"url(#clip122)\" cx=\"1241.98\" cy=\"339.821\" r=\"14\" fill=\"#008000\" fill-rule=\"evenodd\" fill-opacity=\"1\" stroke=\"#000000\" stroke-opacity=\"1\" stroke-width=\"4\"/>\n",
       "<circle clip-path=\"url(#clip122)\" cx=\"1558.69\" cy=\"433.274\" r=\"14\" fill=\"#008000\" fill-rule=\"evenodd\" fill-opacity=\"1\" stroke=\"#000000\" stroke-opacity=\"1\" stroke-width=\"4\"/>\n",
       "<circle clip-path=\"url(#clip122)\" cx=\"1534.5\" cy=\"360.959\" r=\"14\" fill=\"#008000\" fill-rule=\"evenodd\" fill-opacity=\"1\" stroke=\"#000000\" stroke-opacity=\"1\" stroke-width=\"4\"/>\n",
       "<circle clip-path=\"url(#clip122)\" cx=\"1517.84\" cy=\"338.313\" r=\"14\" fill=\"#008000\" fill-rule=\"evenodd\" fill-opacity=\"1\" stroke=\"#000000\" stroke-opacity=\"1\" stroke-width=\"4\"/>\n",
       "<circle clip-path=\"url(#clip122)\" cx=\"1391.32\" cy=\"476.07\" r=\"14\" fill=\"#008000\" fill-rule=\"evenodd\" fill-opacity=\"1\" stroke=\"#000000\" stroke-opacity=\"1\" stroke-width=\"4\"/>\n",
       "<circle clip-path=\"url(#clip122)\" cx=\"1719.75\" cy=\"388.406\" r=\"14\" fill=\"#008000\" fill-rule=\"evenodd\" fill-opacity=\"1\" stroke=\"#000000\" stroke-opacity=\"1\" stroke-width=\"4\"/>\n",
       "<circle clip-path=\"url(#clip122)\" cx=\"1839.43\" cy=\"319.297\" r=\"14\" fill=\"#008000\" fill-rule=\"evenodd\" fill-opacity=\"1\" stroke=\"#000000\" stroke-opacity=\"1\" stroke-width=\"4\"/>\n",
       "<circle clip-path=\"url(#clip122)\" cx=\"1231.78\" cy=\"274.725\" r=\"14\" fill=\"#008000\" fill-rule=\"evenodd\" fill-opacity=\"1\" stroke=\"#000000\" stroke-opacity=\"1\" stroke-width=\"4\"/>\n",
       "<circle clip-path=\"url(#clip122)\" cx=\"1469.23\" cy=\"379.017\" r=\"14\" fill=\"#008000\" fill-rule=\"evenodd\" fill-opacity=\"1\" stroke=\"#000000\" stroke-opacity=\"1\" stroke-width=\"4\"/>\n",
       "<circle clip-path=\"url(#clip122)\" cx=\"1367.08\" cy=\"293.563\" r=\"14\" fill=\"#008000\" fill-rule=\"evenodd\" fill-opacity=\"1\" stroke=\"#000000\" stroke-opacity=\"1\" stroke-width=\"4\"/>\n",
       "<circle clip-path=\"url(#clip122)\" cx=\"1443.29\" cy=\"407.111\" r=\"14\" fill=\"#008000\" fill-rule=\"evenodd\" fill-opacity=\"1\" stroke=\"#000000\" stroke-opacity=\"1\" stroke-width=\"4\"/>\n",
       "<circle clip-path=\"url(#clip122)\" cx=\"1906.8\" cy=\"368.031\" r=\"14\" fill=\"#008000\" fill-rule=\"evenodd\" fill-opacity=\"1\" stroke=\"#000000\" stroke-opacity=\"1\" stroke-width=\"4\"/>\n",
       "<circle clip-path=\"url(#clip122)\" cx=\"1635.33\" cy=\"438.334\" r=\"14\" fill=\"#008000\" fill-rule=\"evenodd\" fill-opacity=\"1\" stroke=\"#000000\" stroke-opacity=\"1\" stroke-width=\"4\"/>\n",
       "<circle clip-path=\"url(#clip122)\" cx=\"1565.94\" cy=\"219.425\" r=\"14\" fill=\"#008000\" fill-rule=\"evenodd\" fill-opacity=\"1\" stroke=\"#000000\" stroke-opacity=\"1\" stroke-width=\"4\"/>\n",
       "<circle clip-path=\"url(#clip122)\" cx=\"1700.28\" cy=\"240.387\" r=\"14\" fill=\"#008000\" fill-rule=\"evenodd\" fill-opacity=\"1\" stroke=\"#000000\" stroke-opacity=\"1\" stroke-width=\"4\"/>\n",
       "<circle clip-path=\"url(#clip122)\" cx=\"1614.54\" cy=\"403.885\" r=\"14\" fill=\"#008000\" fill-rule=\"evenodd\" fill-opacity=\"1\" stroke=\"#000000\" stroke-opacity=\"1\" stroke-width=\"4\"/>\n",
       "<circle clip-path=\"url(#clip122)\" cx=\"1692.16\" cy=\"212.678\" r=\"14\" fill=\"#008000\" fill-rule=\"evenodd\" fill-opacity=\"1\" stroke=\"#000000\" stroke-opacity=\"1\" stroke-width=\"4\"/>\n",
       "<circle clip-path=\"url(#clip122)\" cx=\"1357.75\" cy=\"194.968\" r=\"14\" fill=\"#008000\" fill-rule=\"evenodd\" fill-opacity=\"1\" stroke=\"#000000\" stroke-opacity=\"1\" stroke-width=\"4\"/>\n",
       "<circle clip-path=\"url(#clip122)\" cx=\"1619.85\" cy=\"286.935\" r=\"14\" fill=\"#008000\" fill-rule=\"evenodd\" fill-opacity=\"1\" stroke=\"#000000\" stroke-opacity=\"1\" stroke-width=\"4\"/>\n",
       "<circle clip-path=\"url(#clip122)\" cx=\"1187.17\" cy=\"529.309\" r=\"14\" fill=\"#008000\" fill-rule=\"evenodd\" fill-opacity=\"1\" stroke=\"#000000\" stroke-opacity=\"1\" stroke-width=\"4\"/>\n",
       "<circle clip-path=\"url(#clip122)\" cx=\"1513.41\" cy=\"233.192\" r=\"14\" fill=\"#008000\" fill-rule=\"evenodd\" fill-opacity=\"1\" stroke=\"#000000\" stroke-opacity=\"1\" stroke-width=\"4\"/>\n",
       "<circle clip-path=\"url(#clip122)\" cx=\"1492.51\" cy=\"340.246\" r=\"14\" fill=\"#008000\" fill-rule=\"evenodd\" fill-opacity=\"1\" stroke=\"#000000\" stroke-opacity=\"1\" stroke-width=\"4\"/>\n",
       "<circle clip-path=\"url(#clip122)\" cx=\"1424.62\" cy=\"408.574\" r=\"14\" fill=\"#008000\" fill-rule=\"evenodd\" fill-opacity=\"1\" stroke=\"#000000\" stroke-opacity=\"1\" stroke-width=\"4\"/>\n",
       "<circle clip-path=\"url(#clip122)\" cx=\"1566.58\" cy=\"256.278\" r=\"14\" fill=\"#008000\" fill-rule=\"evenodd\" fill-opacity=\"1\" stroke=\"#000000\" stroke-opacity=\"1\" stroke-width=\"4\"/>\n",
       "<circle clip-path=\"url(#clip122)\" cx=\"1423.75\" cy=\"255.321\" r=\"14\" fill=\"#008000\" fill-rule=\"evenodd\" fill-opacity=\"1\" stroke=\"#000000\" stroke-opacity=\"1\" stroke-width=\"4\"/>\n",
       "<circle clip-path=\"url(#clip122)\" cx=\"1375.75\" cy=\"147.359\" r=\"14\" fill=\"#008000\" fill-rule=\"evenodd\" fill-opacity=\"1\" stroke=\"#000000\" stroke-opacity=\"1\" stroke-width=\"4\"/>\n",
       "<circle clip-path=\"url(#clip122)\" cx=\"1590.8\" cy=\"453.572\" r=\"14\" fill=\"#008000\" fill-rule=\"evenodd\" fill-opacity=\"1\" stroke=\"#000000\" stroke-opacity=\"1\" stroke-width=\"4\"/>\n",
       "<circle clip-path=\"url(#clip122)\" cx=\"1539.58\" cy=\"209.244\" r=\"14\" fill=\"#008000\" fill-rule=\"evenodd\" fill-opacity=\"1\" stroke=\"#000000\" stroke-opacity=\"1\" stroke-width=\"4\"/>\n",
       "<circle clip-path=\"url(#clip122)\" cx=\"763.812\" cy=\"1368.19\" r=\"14\" fill=\"#0000ff\" fill-rule=\"evenodd\" fill-opacity=\"1\" stroke=\"#000000\" stroke-opacity=\"1\" stroke-width=\"4\"/>\n",
       "<circle clip-path=\"url(#clip122)\" cx=\"680.57\" cy=\"1055.3\" r=\"14\" fill=\"#0000ff\" fill-rule=\"evenodd\" fill-opacity=\"1\" stroke=\"#000000\" stroke-opacity=\"1\" stroke-width=\"4\"/>\n",
       "<circle clip-path=\"url(#clip122)\" cx=\"504.555\" cy=\"1298.16\" r=\"14\" fill=\"#0000ff\" fill-rule=\"evenodd\" fill-opacity=\"1\" stroke=\"#000000\" stroke-opacity=\"1\" stroke-width=\"4\"/>\n",
       "<circle clip-path=\"url(#clip122)\" cx=\"632.488\" cy=\"1114.25\" r=\"14\" fill=\"#0000ff\" fill-rule=\"evenodd\" fill-opacity=\"1\" stroke=\"#000000\" stroke-opacity=\"1\" stroke-width=\"4\"/>\n",
       "<circle clip-path=\"url(#clip122)\" cx=\"303.116\" cy=\"1074.67\" r=\"14\" fill=\"#0000ff\" fill-rule=\"evenodd\" fill-opacity=\"1\" stroke=\"#000000\" stroke-opacity=\"1\" stroke-width=\"4\"/>\n",
       "<circle clip-path=\"url(#clip122)\" cx=\"634.262\" cy=\"1132.65\" r=\"14\" fill=\"#0000ff\" fill-rule=\"evenodd\" fill-opacity=\"1\" stroke=\"#000000\" stroke-opacity=\"1\" stroke-width=\"4\"/>\n",
       "<circle clip-path=\"url(#clip122)\" cx=\"726.535\" cy=\"1400.03\" r=\"14\" fill=\"#0000ff\" fill-rule=\"evenodd\" fill-opacity=\"1\" stroke=\"#000000\" stroke-opacity=\"1\" stroke-width=\"4\"/>\n",
       "<circle clip-path=\"url(#clip122)\" cx=\"652.596\" cy=\"985.748\" r=\"14\" fill=\"#0000ff\" fill-rule=\"evenodd\" fill-opacity=\"1\" stroke=\"#000000\" stroke-opacity=\"1\" stroke-width=\"4\"/>\n",
       "<circle clip-path=\"url(#clip122)\" cx=\"737.034\" cy=\"1262.74\" r=\"14\" fill=\"#0000ff\" fill-rule=\"evenodd\" fill-opacity=\"1\" stroke=\"#000000\" stroke-opacity=\"1\" stroke-width=\"4\"/>\n",
       "<circle clip-path=\"url(#clip122)\" cx=\"792.82\" cy=\"1181.97\" r=\"14\" fill=\"#0000ff\" fill-rule=\"evenodd\" fill-opacity=\"1\" stroke=\"#000000\" stroke-opacity=\"1\" stroke-width=\"4\"/>\n",
       "<circle clip-path=\"url(#clip122)\" cx=\"671.761\" cy=\"1532.95\" r=\"14\" fill=\"#0000ff\" fill-rule=\"evenodd\" fill-opacity=\"1\" stroke=\"#000000\" stroke-opacity=\"1\" stroke-width=\"4\"/>\n",
       "<circle clip-path=\"url(#clip122)\" cx=\"376.631\" cy=\"1145.71\" r=\"14\" fill=\"#0000ff\" fill-rule=\"evenodd\" fill-opacity=\"1\" stroke=\"#000000\" stroke-opacity=\"1\" stroke-width=\"4\"/>\n",
       "<circle clip-path=\"url(#clip122)\" cx=\"733.324\" cy=\"1325.97\" r=\"14\" fill=\"#0000ff\" fill-rule=\"evenodd\" fill-opacity=\"1\" stroke=\"#000000\" stroke-opacity=\"1\" stroke-width=\"4\"/>\n",
       "<circle clip-path=\"url(#clip122)\" cx=\"455.622\" cy=\"989.852\" r=\"14\" fill=\"#0000ff\" fill-rule=\"evenodd\" fill-opacity=\"1\" stroke=\"#000000\" stroke-opacity=\"1\" stroke-width=\"4\"/>\n",
       "<circle clip-path=\"url(#clip122)\" cx=\"940.793\" cy=\"1170.13\" r=\"14\" fill=\"#0000ff\" fill-rule=\"evenodd\" fill-opacity=\"1\" stroke=\"#000000\" stroke-opacity=\"1\" stroke-width=\"4\"/>\n",
       "<circle clip-path=\"url(#clip122)\" cx=\"392.321\" cy=\"1308.91\" r=\"14\" fill=\"#0000ff\" fill-rule=\"evenodd\" fill-opacity=\"1\" stroke=\"#000000\" stroke-opacity=\"1\" stroke-width=\"4\"/>\n",
       "<circle clip-path=\"url(#clip122)\" cx=\"803.27\" cy=\"1008.24\" r=\"14\" fill=\"#0000ff\" fill-rule=\"evenodd\" fill-opacity=\"1\" stroke=\"#000000\" stroke-opacity=\"1\" stroke-width=\"4\"/>\n",
       "<circle clip-path=\"url(#clip122)\" cx=\"741.97\" cy=\"1126.25\" r=\"14\" fill=\"#0000ff\" fill-rule=\"evenodd\" fill-opacity=\"1\" stroke=\"#000000\" stroke-opacity=\"1\" stroke-width=\"4\"/>\n",
       "<circle clip-path=\"url(#clip122)\" cx=\"659.183\" cy=\"1217.25\" r=\"14\" fill=\"#0000ff\" fill-rule=\"evenodd\" fill-opacity=\"1\" stroke=\"#000000\" stroke-opacity=\"1\" stroke-width=\"4\"/>\n",
       "<circle clip-path=\"url(#clip122)\" cx=\"739.842\" cy=\"1284.44\" r=\"14\" fill=\"#0000ff\" fill-rule=\"evenodd\" fill-opacity=\"1\" stroke=\"#000000\" stroke-opacity=\"1\" stroke-width=\"4\"/>\n",
       "<circle clip-path=\"url(#clip122)\" cx=\"670.564\" cy=\"1120.14\" r=\"14\" fill=\"#0000ff\" fill-rule=\"evenodd\" fill-opacity=\"1\" stroke=\"#000000\" stroke-opacity=\"1\" stroke-width=\"4\"/>\n",
       "<circle clip-path=\"url(#clip122)\" cx=\"620.297\" cy=\"1184.73\" r=\"14\" fill=\"#0000ff\" fill-rule=\"evenodd\" fill-opacity=\"1\" stroke=\"#000000\" stroke-opacity=\"1\" stroke-width=\"4\"/>\n",
       "<circle clip-path=\"url(#clip122)\" cx=\"575.904\" cy=\"1352.91\" r=\"14\" fill=\"#0000ff\" fill-rule=\"evenodd\" fill-opacity=\"1\" stroke=\"#000000\" stroke-opacity=\"1\" stroke-width=\"4\"/>\n",
       "<circle clip-path=\"url(#clip122)\" cx=\"355.493\" cy=\"1363.19\" r=\"14\" fill=\"#0000ff\" fill-rule=\"evenodd\" fill-opacity=\"1\" stroke=\"#000000\" stroke-opacity=\"1\" stroke-width=\"4\"/>\n",
       "<circle clip-path=\"url(#clip122)\" cx=\"724.681\" cy=\"1004.3\" r=\"14\" fill=\"#0000ff\" fill-rule=\"evenodd\" fill-opacity=\"1\" stroke=\"#000000\" stroke-opacity=\"1\" stroke-width=\"4\"/>\n",
       "<circle clip-path=\"url(#clip122)\" cx=\"732.844\" cy=\"1319.15\" r=\"14\" fill=\"#0000ff\" fill-rule=\"evenodd\" fill-opacity=\"1\" stroke=\"#000000\" stroke-opacity=\"1\" stroke-width=\"4\"/>\n",
       "<circle clip-path=\"url(#clip122)\" cx=\"433.624\" cy=\"1045.54\" r=\"14\" fill=\"#0000ff\" fill-rule=\"evenodd\" fill-opacity=\"1\" stroke=\"#000000\" stroke-opacity=\"1\" stroke-width=\"4\"/>\n",
       "<circle clip-path=\"url(#clip122)\" cx=\"491.147\" cy=\"1229.4\" r=\"14\" fill=\"#0000ff\" fill-rule=\"evenodd\" fill-opacity=\"1\" stroke=\"#000000\" stroke-opacity=\"1\" stroke-width=\"4\"/>\n",
       "<circle clip-path=\"url(#clip122)\" cx=\"612.387\" cy=\"1335.06\" r=\"14\" fill=\"#0000ff\" fill-rule=\"evenodd\" fill-opacity=\"1\" stroke=\"#000000\" stroke-opacity=\"1\" stroke-width=\"4\"/>\n",
       "<circle clip-path=\"url(#clip122)\" cx=\"1181.48\" cy=\"1313.99\" r=\"14\" fill=\"#ffa500\" fill-rule=\"evenodd\" fill-opacity=\"1\" stroke=\"#000000\" stroke-opacity=\"1\" stroke-width=\"4\"/>\n",
       "<circle clip-path=\"url(#clip122)\" cx=\"1206.38\" cy=\"1653.09\" r=\"14\" fill=\"#ffa500\" fill-rule=\"evenodd\" fill-opacity=\"1\" stroke=\"#000000\" stroke-opacity=\"1\" stroke-width=\"4\"/>\n",
       "<circle clip-path=\"url(#clip122)\" cx=\"1319.03\" cy=\"1385.68\" r=\"14\" fill=\"#ffa500\" fill-rule=\"evenodd\" fill-opacity=\"1\" stroke=\"#000000\" stroke-opacity=\"1\" stroke-width=\"4\"/>\n",
       "<circle clip-path=\"url(#clip122)\" cx=\"1462.09\" cy=\"1547.17\" r=\"14\" fill=\"#ffa500\" fill-rule=\"evenodd\" fill-opacity=\"1\" stroke=\"#000000\" stroke-opacity=\"1\" stroke-width=\"4\"/>\n",
       "<circle clip-path=\"url(#clip122)\" cx=\"1248.4\" cy=\"1455.11\" r=\"14\" fill=\"#ffa500\" fill-rule=\"evenodd\" fill-opacity=\"1\" stroke=\"#000000\" stroke-opacity=\"1\" stroke-width=\"4\"/>\n",
       "<circle clip-path=\"url(#clip122)\" cx=\"1586\" cy=\"1587.72\" r=\"14\" fill=\"#ffa500\" fill-rule=\"evenodd\" fill-opacity=\"1\" stroke=\"#000000\" stroke-opacity=\"1\" stroke-width=\"4\"/>\n",
       "<circle clip-path=\"url(#clip122)\" cx=\"1614.66\" cy=\"1548.52\" r=\"14\" fill=\"#ffa500\" fill-rule=\"evenodd\" fill-opacity=\"1\" stroke=\"#000000\" stroke-opacity=\"1\" stroke-width=\"4\"/>\n",
       "<circle clip-path=\"url(#clip122)\" cx=\"1624.33\" cy=\"1560.87\" r=\"14\" fill=\"#ffa500\" fill-rule=\"evenodd\" fill-opacity=\"1\" stroke=\"#000000\" stroke-opacity=\"1\" stroke-width=\"4\"/>\n",
       "<circle clip-path=\"url(#clip122)\" cx=\"1601.94\" cy=\"1459.48\" r=\"14\" fill=\"#ffa500\" fill-rule=\"evenodd\" fill-opacity=\"1\" stroke=\"#000000\" stroke-opacity=\"1\" stroke-width=\"4\"/>\n",
       "<circle clip-path=\"url(#clip122)\" cx=\"1707.62\" cy=\"1532.95\" r=\"14\" fill=\"#ffa500\" fill-rule=\"evenodd\" fill-opacity=\"1\" stroke=\"#000000\" stroke-opacity=\"1\" stroke-width=\"4\"/>\n",
       "<circle clip-path=\"url(#clip122)\" cx=\"1230.94\" cy=\"1717.31\" r=\"14\" fill=\"#ffa500\" fill-rule=\"evenodd\" fill-opacity=\"1\" stroke=\"#000000\" stroke-opacity=\"1\" stroke-width=\"4\"/>\n",
       "<circle clip-path=\"url(#clip122)\" cx=\"1513.42\" cy=\"1555.11\" r=\"14\" fill=\"#ffa500\" fill-rule=\"evenodd\" fill-opacity=\"1\" stroke=\"#000000\" stroke-opacity=\"1\" stroke-width=\"4\"/>\n",
       "<circle clip-path=\"url(#clip122)\" cx=\"1190.81\" cy=\"1756.76\" r=\"14\" fill=\"#ffa500\" fill-rule=\"evenodd\" fill-opacity=\"1\" stroke=\"#000000\" stroke-opacity=\"1\" stroke-width=\"4\"/>\n",
       "<circle clip-path=\"url(#clip122)\" cx=\"1841.36\" cy=\"1542.41\" r=\"14\" fill=\"#ffa500\" fill-rule=\"evenodd\" fill-opacity=\"1\" stroke=\"#000000\" stroke-opacity=\"1\" stroke-width=\"4\"/>\n",
       "<circle clip-path=\"url(#clip122)\" cx=\"1617.9\" cy=\"1493.77\" r=\"14\" fill=\"#ffa500\" fill-rule=\"evenodd\" fill-opacity=\"1\" stroke=\"#000000\" stroke-opacity=\"1\" stroke-width=\"4\"/>\n",
       "<circle clip-path=\"url(#clip122)\" cx=\"1546.42\" cy=\"1643.11\" r=\"14\" fill=\"#ffa500\" fill-rule=\"evenodd\" fill-opacity=\"1\" stroke=\"#000000\" stroke-opacity=\"1\" stroke-width=\"4\"/>\n",
       "<circle clip-path=\"url(#clip122)\" cx=\"1422.49\" cy=\"1650.23\" r=\"14\" fill=\"#ffa500\" fill-rule=\"evenodd\" fill-opacity=\"1\" stroke=\"#000000\" stroke-opacity=\"1\" stroke-width=\"4\"/>\n",
       "<circle clip-path=\"url(#clip122)\" cx=\"1883.91\" cy=\"1531.55\" r=\"14\" fill=\"#ffa500\" fill-rule=\"evenodd\" fill-opacity=\"1\" stroke=\"#000000\" stroke-opacity=\"1\" stroke-width=\"4\"/>\n",
       "<circle clip-path=\"url(#clip122)\" cx=\"1296.14\" cy=\"1522.99\" r=\"14\" fill=\"#ffa500\" fill-rule=\"evenodd\" fill-opacity=\"1\" stroke=\"#000000\" stroke-opacity=\"1\" stroke-width=\"4\"/>\n",
       "<circle clip-path=\"url(#clip122)\" cx=\"1607.63\" cy=\"1362.59\" r=\"14\" fill=\"#ffa500\" fill-rule=\"evenodd\" fill-opacity=\"1\" stroke=\"#000000\" stroke-opacity=\"1\" stroke-width=\"4\"/>\n",
       "<circle clip-path=\"url(#clip122)\" cx=\"1539.8\" cy=\"1437\" r=\"14\" fill=\"#ffa500\" fill-rule=\"evenodd\" fill-opacity=\"1\" stroke=\"#000000\" stroke-opacity=\"1\" stroke-width=\"4\"/>\n",
       "<circle clip-path=\"url(#clip122)\" cx=\"786.768\" cy=\"465.815\" r=\"14\" fill=\"#800080\" fill-rule=\"evenodd\" fill-opacity=\"1\" stroke=\"#000000\" stroke-opacity=\"1\" stroke-width=\"4\"/>\n",
       "<circle clip-path=\"url(#clip122)\" cx=\"656.276\" cy=\"417.853\" r=\"14\" fill=\"#800080\" fill-rule=\"evenodd\" fill-opacity=\"1\" stroke=\"#000000\" stroke-opacity=\"1\" stroke-width=\"4\"/>\n",
       "<circle clip-path=\"url(#clip122)\" cx=\"804.093\" cy=\"579.321\" r=\"14\" fill=\"#800080\" fill-rule=\"evenodd\" fill-opacity=\"1\" stroke=\"#000000\" stroke-opacity=\"1\" stroke-width=\"4\"/>\n",
       "<circle clip-path=\"url(#clip122)\" cx=\"820.494\" cy=\"551.328\" r=\"14\" fill=\"#800080\" fill-rule=\"evenodd\" fill-opacity=\"1\" stroke=\"#000000\" stroke-opacity=\"1\" stroke-width=\"4\"/>\n",
       "<circle clip-path=\"url(#clip122)\" cx=\"636.065\" cy=\"459.358\" r=\"14\" fill=\"#800080\" fill-rule=\"evenodd\" fill-opacity=\"1\" stroke=\"#000000\" stroke-opacity=\"1\" stroke-width=\"4\"/>\n",
       "<circle clip-path=\"url(#clip122)\" cx=\"612.925\" cy=\"433.972\" r=\"14\" fill=\"#800080\" fill-rule=\"evenodd\" fill-opacity=\"1\" stroke=\"#000000\" stroke-opacity=\"1\" stroke-width=\"4\"/>\n",
       "<circle clip-path=\"url(#clip122)\" cx=\"678.421\" cy=\"524.125\" r=\"14\" fill=\"#800080\" fill-rule=\"evenodd\" fill-opacity=\"1\" stroke=\"#000000\" stroke-opacity=\"1\" stroke-width=\"4\"/>\n",
       "<circle clip-path=\"url(#clip122)\" cx=\"477.646\" cy=\"436.674\" r=\"14\" fill=\"#800080\" fill-rule=\"evenodd\" fill-opacity=\"1\" stroke=\"#000000\" stroke-opacity=\"1\" stroke-width=\"4\"/>\n",
       "<circle clip-path=\"url(#clip122)\" cx=\"608.15\" cy=\"458.544\" r=\"14\" fill=\"#800080\" fill-rule=\"evenodd\" fill-opacity=\"1\" stroke=\"#000000\" stroke-opacity=\"1\" stroke-width=\"4\"/>\n",
       "<circle clip-path=\"url(#clip122)\" cx=\"872.988\" cy=\"412.759\" r=\"14\" fill=\"#800080\" fill-rule=\"evenodd\" fill-opacity=\"1\" stroke=\"#000000\" stroke-opacity=\"1\" stroke-width=\"4\"/>\n",
       "<circle clip-path=\"url(#clip122)\" cx=\"839.155\" cy=\"347.493\" r=\"14\" fill=\"#800080\" fill-rule=\"evenodd\" fill-opacity=\"1\" stroke=\"#000000\" stroke-opacity=\"1\" stroke-width=\"4\"/>\n",
       "<circle clip-path=\"url(#clip122)\" cx=\"531.795\" cy=\"478.928\" r=\"14\" fill=\"#800080\" fill-rule=\"evenodd\" fill-opacity=\"1\" stroke=\"#000000\" stroke-opacity=\"1\" stroke-width=\"4\"/>\n",
       "<circle clip-path=\"url(#clip122)\" cx=\"652.906\" cy=\"519.542\" r=\"14\" fill=\"#800080\" fill-rule=\"evenodd\" fill-opacity=\"1\" stroke=\"#000000\" stroke-opacity=\"1\" stroke-width=\"4\"/>\n",
       "<circle clip-path=\"url(#clip122)\" cx=\"692.113\" cy=\"461.43\" r=\"14\" fill=\"#800080\" fill-rule=\"evenodd\" fill-opacity=\"1\" stroke=\"#000000\" stroke-opacity=\"1\" stroke-width=\"4\"/>\n",
       "<circle clip-path=\"url(#clip122)\" cx=\"562.145\" cy=\"563.506\" r=\"14\" fill=\"#800080\" fill-rule=\"evenodd\" fill-opacity=\"1\" stroke=\"#000000\" stroke-opacity=\"1\" stroke-width=\"4\"/>\n",
       "<circle clip-path=\"url(#clip122)\" cx=\"784.545\" cy=\"395.347\" r=\"14\" fill=\"#800080\" fill-rule=\"evenodd\" fill-opacity=\"1\" stroke=\"#000000\" stroke-opacity=\"1\" stroke-width=\"4\"/>\n",
       "<circle clip-path=\"url(#clip122)\" cx=\"670.267\" cy=\"466.389\" r=\"14\" fill=\"#800080\" fill-rule=\"evenodd\" fill-opacity=\"1\" stroke=\"#000000\" stroke-opacity=\"1\" stroke-width=\"4\"/>\n",
       "<circle clip-path=\"url(#clip122)\" cx=\"716.431\" cy=\"501.417\" r=\"14\" fill=\"#800080\" fill-rule=\"evenodd\" fill-opacity=\"1\" stroke=\"#000000\" stroke-opacity=\"1\" stroke-width=\"4\"/>\n",
       "<circle clip-path=\"url(#clip122)\" cx=\"704.278\" cy=\"425.289\" r=\"14\" fill=\"#800080\" fill-rule=\"evenodd\" fill-opacity=\"1\" stroke=\"#000000\" stroke-opacity=\"1\" stroke-width=\"4\"/>\n",
       "<circle clip-path=\"url(#clip122)\" cx=\"759.134\" cy=\"565.892\" r=\"14\" fill=\"#800080\" fill-rule=\"evenodd\" fill-opacity=\"1\" stroke=\"#000000\" stroke-opacity=\"1\" stroke-width=\"4\"/>\n",
       "<path clip-path=\"url(#clip122)\" d=\"M653.262 729.816 L648.734 718.344 L637.262 713.816 L648.734 709.288 L653.262 697.816 L657.79 709.288 L669.262 713.816 L657.79 718.344 L653.262 729.816 Z\" fill=\"#ff0000\" fill-rule=\"evenodd\" fill-opacity=\"1\" stroke=\"#000000\" stroke-opacity=\"1\" stroke-width=\"4\"/>\n",
       "</svg>\n"
      ]
     },
     "execution_count": 6,
     "metadata": {},
     "output_type": "execute_result"
    }
   ],
   "source": [
    "scatter([c[1] for c in grps[1]], [c[2] for c in grps[1]], markercolor = :green,label =\"cust_clus_1\")\n",
    "scatter!([c[1] for c in grps[2]], [c[2] for c in grps[2]], markercolor = :blue,label =\"cust_clus_2\")\n",
    "scatter!([c[1] for c in grps[3]], [c[2] for c in grps[3]], markercolor = :orange,label =\"cust_clus_3\")\n",
    "scatter!([c[1] for c in grps[4]], [c[2] for c in grps[4]], markercolor = :Purple,label =\"cust_clus_4\")\n",
    "scatter!(chelx ,chely, markercolor = :Red,markershape = :star4,label =\"Chelsea\")\n",
    "plot!(legend = false, grid = true, size = (500,500),\n",
    "       xlims = (-0.25,0.75), ylims = (-0.75,0.75))"
   ]
  },
  {
   "cell_type": "markdown",
   "id": "e60300ab",
   "metadata": {},
   "source": [
    "Q2 Following question1 ,help Chelsea with the following problems."
   ]
  },
  {
   "cell_type": "markdown",
   "id": "cb364603",
   "metadata": {},
   "source": [
    "since there is only one reps to match which is[0, 0.2] so the assignment should be 1 for the lenght of X"
   ]
  },
  {
   "cell_type": "code",
   "execution_count": 8,
   "id": "4d2baefa",
   "metadata": {
    "scrolled": true
   },
   "outputs": [
    {
     "data": {
      "text/plain": [
       "1-element Vector{Vector{Float64}}:\n",
       " [0.0, 0.2]"
      ]
     },
     "execution_count": 8,
     "metadata": {},
     "output_type": "execute_result"
    }
   ],
   "source": [
    "x = X\n",
    "assignment = [1 for x in X] #how many of l2-norm each point to chelsea\n",
    "reps = [[0, 0.2] ] #chelsea location\n"
   ]
  },
  {
   "cell_type": "code",
   "execution_count": 9,
   "id": "86aa6cfb",
   "metadata": {},
   "outputs": [
    {
     "data": {
      "text/plain": [
       "Jclustl2 (generic function with 1 method)"
      ]
     },
     "execution_count": 9,
     "metadata": {},
     "output_type": "execute_result"
    }
   ],
   "source": [
    "#l1\n",
    "Jclustl1(x,reps,assignment) =\n",
    "   [cityblock(x[i],reps[assignment[i]]) for i=1:length(x)]\n",
    "# %% codecell\n",
    "#l2\n",
    "Jclustl2(x,reps,assignment) =\n",
    "   [euclidean(x[i],reps[assignment[i]]) for i=1:length(x)]"
   ]
  },
  {
   "cell_type": "code",
   "execution_count": 10,
   "id": "ae0cc7ce",
   "metadata": {},
   "outputs": [
    {
     "data": {
      "text/plain": [
       "100-element Vector{Float64}:\n",
       " 0.6037405415742244\n",
       " 0.2975248195514337\n",
       " 0.8000729267562832\n",
       " 0.567981247309809\n",
       " 0.34239099525898076\n",
       " 0.4998323302857391\n",
       " 0.35655561873714\n",
       " 0.6084974419928058\n",
       " 0.22476065902644157\n",
       " 0.5012768021310703\n",
       " 0.4668277251532178\n",
       " 0.6865545740856729\n",
       " 0.5160176029526422\n",
       " ⋮\n",
       " 0.23666564134387297\n",
       " 0.37522160536323756\n",
       " 0.4095471420438517\n",
       " 0.2639149419491269\n",
       " 0.1605047590063114\n",
       " 0.23067100587382036\n",
       " 0.1766116819755589\n",
       " 0.3385438830965444\n",
       " 0.21397081078662103\n",
       " 0.21171139940736902\n",
       " 0.2675122059191885\n",
       " 0.1831578966108126"
      ]
     },
     "execution_count": 10,
     "metadata": {},
     "output_type": "execute_result"
    }
   ],
   "source": [
    "#distance l1 l2\n",
    "dist_chel_l2 = Jclustl2(x,reps,assignment)\n",
    "dist_chel_l1 = Jclustl1(x,reps,assignment)"
   ]
  },
  {
   "cell_type": "code",
   "execution_count": 11,
   "id": "9e468840",
   "metadata": {},
   "outputs": [
    {
     "data": {
      "text/plain": [
       "0.5182495858172949"
      ]
     },
     "execution_count": 11,
     "metadata": {},
     "output_type": "execute_result"
    }
   ],
   "source": [
    "twoa = mean(dist_chel_l2)"
   ]
  },
  {
   "cell_type": "markdown",
   "id": "b57b09c7",
   "metadata": {},
   "source": [
    "closest distance euclidean (L2) distance"
   ]
  },
  {
   "cell_type": "code",
   "execution_count": 12,
   "id": "959a23ed",
   "metadata": {},
   "outputs": [
    {
     "data": {
      "text/plain": [
       "(0.13471216806328742, 95)"
      ]
     },
     "execution_count": 12,
     "metadata": {},
     "output_type": "execute_result"
    }
   ],
   "source": [
    "twob = smallest_distance_l2 = findmin(dist_chel_l2)"
   ]
  },
  {
   "cell_type": "code",
   "execution_count": 13,
   "id": "43958bb0",
   "metadata": {},
   "outputs": [
    {
     "data": {
      "text/plain": [
       "95"
      ]
     },
     "execution_count": 13,
     "metadata": {},
     "output_type": "execute_result"
    }
   ],
   "source": [
    "smallest_distance_l2_argmin = argmin(dist_chel_l2)"
   ]
  },
  {
   "cell_type": "code",
   "execution_count": 14,
   "id": "ef7a41bb",
   "metadata": {},
   "outputs": [
    {
     "data": {
      "text/plain": [
       "0.13471216806328742"
      ]
     },
     "execution_count": 14,
     "metadata": {},
     "output_type": "execute_result"
    }
   ],
   "source": [
    "check_twob = euclidean([0, 0.2],X[smallest_distance_l2_argmin])"
   ]
  },
  {
   "cell_type": "markdown",
   "id": "0ca8df26",
   "metadata": {},
   "source": [
    "what is the farthest customer to Chelsea's restaurant in terms of 1-norm?"
   ]
  },
  {
   "cell_type": "code",
   "execution_count": 15,
   "id": "9528df2c",
   "metadata": {},
   "outputs": [
    {
     "data": {
      "text/plain": [
       "(1.3849899594784718, 77)"
      ]
     },
     "execution_count": 15,
     "metadata": {},
     "output_type": "execute_result"
    }
   ],
   "source": [
    "twoc = findmax(dist_chel_l1)"
   ]
  },
  {
   "cell_type": "markdown",
   "id": "3f286a15",
   "metadata": {},
   "source": [
    "2d Are the 5 closest customers to Chelsea's restaurant calculated using1-norm and 2-norm the same?"
   ]
  },
  {
   "cell_type": "code",
   "execution_count": 16,
   "id": "c28b2be0",
   "metadata": {},
   "outputs": [
    {
     "data": {
      "text/plain": [
       "small_value (generic function with 1 method)"
      ]
     },
     "execution_count": 16,
     "metadata": {},
     "output_type": "execute_result"
    }
   ],
   "source": [
    "function small_value(x,r)\n",
    "\t#x = dist_chel\n",
    "\tfor i=1:r\n",
    "\t\tb = findmin(x)\n",
    "\t\ta = deleteat!(x,argmin(x))\n",
    "\n",
    "\t\tprintln(b)\n",
    "\tend\n",
    "end"
   ]
  },
  {
   "cell_type": "markdown",
   "id": "38513c6a",
   "metadata": {},
   "source": [
    "5 closest customers"
   ]
  },
  {
   "cell_type": "code",
   "execution_count": 17,
   "id": "466b1643",
   "metadata": {},
   "outputs": [
    {
     "name": "stdout",
     "output_type": "stream",
     "text": [
      "(0.1605047590063114, 93)\n",
      "(0.17103784479677606, 87)\n",
      "(0.1766116819755589, 93)\n",
      "(0.1831578966108126, 97)\n",
      "(0.19802513956694254, 83)\n"
     ]
    }
   ],
   "source": [
    "l1_5_smallest = small_value(dist_chel_l1,5) #l1 5 smallest"
   ]
  },
  {
   "cell_type": "code",
   "execution_count": 18,
   "id": "c7250d7f",
   "metadata": {},
   "outputs": [
    {
     "name": "stdout",
     "output_type": "stream",
     "text": [
      "(0.13471216806328742, 95)\n",
      "(0.1364951197145926, 99)\n",
      "(0.14104298008700597, 83)\n",
      "(0.15718976804781376, 86)\n",
      "(0.1602991540513241, 91)\n"
     ]
    }
   ],
   "source": [
    "l2_5_smallest = small_value(dist_chel_l2,5) #l2 5 smallest"
   ]
  },
  {
   "cell_type": "markdown",
   "id": "a58ba04c",
   "metadata": {},
   "source": [
    "The answer is not all is the same"
   ]
  },
  {
   "cell_type": "markdown",
   "id": "538ac6f7",
   "metadata": {},
   "source": [
    "Plot the predicted price on the y-axis and the true price on the x-axis.\n",
    "Which data point is the farthest (in terms of 2-norm) to its prediction?\n",
    "price! = 𝛽quantity× 𝑞𝑢𝑎𝑙𝑖𝑡𝑦i + 𝛽𝑛𝑢𝑡𝑟𝑖𝑡𝑖𝑜𝑛i + 𝜐\n",
    "The parameters are 𝛽quantity'( = 0.5, 𝛽𝑛𝑢𝑡𝑟𝑖𝑡𝑖𝑜𝑛 = 7.1, and 𝜐 = 0.1. )"
   ]
  },
  {
   "cell_type": "code",
   "execution_count": 19,
   "id": "47ac527b",
   "metadata": {},
   "outputs": [
    {
     "data": {
      "text/plain": [
       "100-element Vector{Float64}:\n",
       " -0.000851516838157651\n",
       "  1.6235845696603337\n",
       "  2.5846052605028182\n",
       "  0.9414274099496751\n",
       "  0.8461935074630715\n",
       "  2.187696877681609\n",
       "  0.47637230397694386\n",
       "  1.408735754714744\n",
       " -0.21237690962130745\n",
       "  0.8003412498506579\n",
       "  0.40604368813399955\n",
       "  1.0406850459297647\n",
       "  1.7695374046991874\n",
       "  ⋮\n",
       "  0.026392846092910094\n",
       " -0.2788050730559315\n",
       "  1.585093458851335\n",
       "  2.8320382058495976\n",
       "  0.7505145088279714\n",
       "  1.3200552724372794\n",
       "  0.4790338793258766\n",
       "  1.2879753074206888\n",
       "  0.9524932549190859\n",
       "  0.8720287887882157\n",
       "  1.471984940256487\n",
       "  0.29868172574755997"
      ]
     },
     "execution_count": 19,
     "metadata": {},
     "output_type": "execute_result"
    }
   ],
   "source": [
    "Random.seed!(8)\n",
    "y = randn(100)\n",
    "Random.seed!(8)\n",
    "quality = y * 0.5 + rand(100) * 0.1\n",
    "Random.seed!(10)\n",
    "nutrition = y * 0.1 + rand(100) * 0.2\n",
    "price = quality * 1 + nutrition * 0.1 + rand(100) * 2"
   ]
  },
  {
   "cell_type": "code",
   "execution_count": 20,
   "id": "ea655fa2",
   "metadata": {},
   "outputs": [
    {
     "data": {
      "text/plain": [
       "100-element Vector{Float64}:\n",
       "  0.7173235511741521\n",
       "  1.0803127538307102\n",
       "  1.8163936703785228\n",
       "  0.3903592948230463\n",
       "  1.683788534628733\n",
       "  2.0733734685219045\n",
       " -0.14011481117988492\n",
       "  1.8356227492295751\n",
       "  0.7359367864847383\n",
       "  0.8175321751660211\n",
       "  1.6824995751182175\n",
       " -0.032165386955854136\n",
       "  0.8416559713167097\n",
       "  ⋮\n",
       "  0.7777161645214463\n",
       " -1.9713857711282077\n",
       "  1.5767146273409622\n",
       "  2.5791730763634653\n",
       "  0.7259812619780989\n",
       " -0.01819861318150806\n",
       "  0.9312579681140158\n",
       " -0.045879374490436636\n",
       " -0.6178279675056734\n",
       "  1.0770174305811908\n",
       "  1.1723378469696333\n",
       "  0.6153200637138181"
      ]
     },
     "execution_count": 20,
     "metadata": {},
     "output_type": "execute_result"
    }
   ],
   "source": [
    "bq = 0.5\n",
    "bn = 7.1\n",
    "v = 0.1\n",
    "pred_price = (bq * quality) + (bn * nutrition) .+ v"
   ]
  },
  {
   "cell_type": "code",
   "execution_count": 21,
   "id": "d75a8bd1",
   "metadata": {},
   "outputs": [
    {
     "data": {
      "image/svg+xml": [
       "<?xml version=\"1.0\" encoding=\"utf-8\"?>\n",
       "<svg xmlns=\"http://www.w3.org/2000/svg\" xmlns:xlink=\"http://www.w3.org/1999/xlink\" width=\"600\" height=\"400\" viewBox=\"0 0 2400 1600\">\n",
       "<defs>\n",
       "  <clipPath id=\"clip160\">\n",
       "    <rect x=\"0\" y=\"0\" width=\"2400\" height=\"1600\"/>\n",
       "  </clipPath>\n",
       "</defs>\n",
       "<path clip-path=\"url(#clip160)\" d=\"\n",
       "M0 1600 L2400 1600 L2400 0 L0 0  Z\n",
       "  \" fill=\"#ffffff\" fill-rule=\"evenodd\" fill-opacity=\"1\"/>\n",
       "<defs>\n",
       "  <clipPath id=\"clip161\">\n",
       "    <rect x=\"480\" y=\"0\" width=\"1681\" height=\"1600\"/>\n",
       "  </clipPath>\n",
       "</defs>\n",
       "<path clip-path=\"url(#clip160)\" d=\"\n",
       "M147.478 1486.45 L2352.76 1486.45 L2352.76 47.2441 L147.478 47.2441  Z\n",
       "  \" fill=\"#ffffff\" fill-rule=\"evenodd\" fill-opacity=\"1\"/>\n",
       "<defs>\n",
       "  <clipPath id=\"clip162\">\n",
       "    <rect x=\"147\" y=\"47\" width=\"2206\" height=\"1440\"/>\n",
       "  </clipPath>\n",
       "</defs>\n",
       "<polyline clip-path=\"url(#clip162)\" style=\"stroke:#000000; stroke-linecap:butt; stroke-linejoin:round; stroke-width:2; stroke-opacity:0.1; fill:none\" points=\"\n",
       "  447.877,1486.45 447.877,47.2441 \n",
       "  \"/>\n",
       "<polyline clip-path=\"url(#clip162)\" style=\"stroke:#000000; stroke-linecap:butt; stroke-linejoin:round; stroke-width:2; stroke-opacity:0.1; fill:none\" points=\"\n",
       "  773.167,1486.45 773.167,47.2441 \n",
       "  \"/>\n",
       "<polyline clip-path=\"url(#clip162)\" style=\"stroke:#000000; stroke-linecap:butt; stroke-linejoin:round; stroke-width:2; stroke-opacity:0.1; fill:none\" points=\"\n",
       "  1098.46,1486.45 1098.46,47.2441 \n",
       "  \"/>\n",
       "<polyline clip-path=\"url(#clip162)\" style=\"stroke:#000000; stroke-linecap:butt; stroke-linejoin:round; stroke-width:2; stroke-opacity:0.1; fill:none\" points=\"\n",
       "  1423.75,1486.45 1423.75,47.2441 \n",
       "  \"/>\n",
       "<polyline clip-path=\"url(#clip162)\" style=\"stroke:#000000; stroke-linecap:butt; stroke-linejoin:round; stroke-width:2; stroke-opacity:0.1; fill:none\" points=\"\n",
       "  1749.04,1486.45 1749.04,47.2441 \n",
       "  \"/>\n",
       "<polyline clip-path=\"url(#clip162)\" style=\"stroke:#000000; stroke-linecap:butt; stroke-linejoin:round; stroke-width:2; stroke-opacity:0.1; fill:none\" points=\"\n",
       "  2074.33,1486.45 2074.33,47.2441 \n",
       "  \"/>\n",
       "<polyline clip-path=\"url(#clip160)\" style=\"stroke:#000000; stroke-linecap:butt; stroke-linejoin:round; stroke-width:4; stroke-opacity:1; fill:none\" points=\"\n",
       "  147.478,1486.45 2352.76,1486.45 \n",
       "  \"/>\n",
       "<polyline clip-path=\"url(#clip160)\" style=\"stroke:#000000; stroke-linecap:butt; stroke-linejoin:round; stroke-width:4; stroke-opacity:1; fill:none\" points=\"\n",
       "  447.877,1486.45 447.877,1467.55 \n",
       "  \"/>\n",
       "<polyline clip-path=\"url(#clip160)\" style=\"stroke:#000000; stroke-linecap:butt; stroke-linejoin:round; stroke-width:4; stroke-opacity:1; fill:none\" points=\"\n",
       "  773.167,1486.45 773.167,1467.55 \n",
       "  \"/>\n",
       "<polyline clip-path=\"url(#clip160)\" style=\"stroke:#000000; stroke-linecap:butt; stroke-linejoin:round; stroke-width:4; stroke-opacity:1; fill:none\" points=\"\n",
       "  1098.46,1486.45 1098.46,1467.55 \n",
       "  \"/>\n",
       "<polyline clip-path=\"url(#clip160)\" style=\"stroke:#000000; stroke-linecap:butt; stroke-linejoin:round; stroke-width:4; stroke-opacity:1; fill:none\" points=\"\n",
       "  1423.75,1486.45 1423.75,1467.55 \n",
       "  \"/>\n",
       "<polyline clip-path=\"url(#clip160)\" style=\"stroke:#000000; stroke-linecap:butt; stroke-linejoin:round; stroke-width:4; stroke-opacity:1; fill:none\" points=\"\n",
       "  1749.04,1486.45 1749.04,1467.55 \n",
       "  \"/>\n",
       "<polyline clip-path=\"url(#clip160)\" style=\"stroke:#000000; stroke-linecap:butt; stroke-linejoin:round; stroke-width:4; stroke-opacity:1; fill:none\" points=\"\n",
       "  2074.33,1486.45 2074.33,1467.55 \n",
       "  \"/>\n",
       "<path clip-path=\"url(#clip160)\" d=\"M425.262 1515.64 Q421.651 1515.64 419.822 1519.2 Q418.016 1522.75 418.016 1529.87 Q418.016 1536.98 419.822 1540.55 Q421.651 1544.09 425.262 1544.09 Q428.896 1544.09 430.702 1540.55 Q432.53 1536.98 432.53 1529.87 Q432.53 1522.75 430.702 1519.2 Q428.896 1515.64 425.262 1515.64 M425.262 1511.93 Q431.072 1511.93 434.127 1516.54 Q437.206 1521.12 437.206 1529.87 Q437.206 1538.6 434.127 1543.21 Q431.072 1547.79 425.262 1547.79 Q419.452 1547.79 416.373 1543.21 Q413.317 1538.6 413.317 1529.87 Q413.317 1521.12 416.373 1516.54 Q419.452 1511.93 425.262 1511.93 Z\" fill=\"#000000\" fill-rule=\"evenodd\" fill-opacity=\"1\" /><path clip-path=\"url(#clip160)\" d=\"M445.424 1541.24 L450.308 1541.24 L450.308 1547.12 L445.424 1547.12 L445.424 1541.24 Z\" fill=\"#000000\" fill-rule=\"evenodd\" fill-opacity=\"1\" /><path clip-path=\"url(#clip160)\" d=\"M470.493 1515.64 Q466.882 1515.64 465.053 1519.2 Q463.248 1522.75 463.248 1529.87 Q463.248 1536.98 465.053 1540.55 Q466.882 1544.09 470.493 1544.09 Q474.127 1544.09 475.933 1540.55 Q477.762 1536.98 477.762 1529.87 Q477.762 1522.75 475.933 1519.2 Q474.127 1515.64 470.493 1515.64 M470.493 1511.93 Q476.303 1511.93 479.359 1516.54 Q482.437 1521.12 482.437 1529.87 Q482.437 1538.6 479.359 1543.21 Q476.303 1547.79 470.493 1547.79 Q464.683 1547.79 461.604 1543.21 Q458.549 1538.6 458.549 1529.87 Q458.549 1521.12 461.604 1516.54 Q464.683 1511.93 470.493 1511.93 Z\" fill=\"#000000\" fill-rule=\"evenodd\" fill-opacity=\"1\" /><path clip-path=\"url(#clip160)\" d=\"M751.049 1515.64 Q747.438 1515.64 745.609 1519.2 Q743.804 1522.75 743.804 1529.87 Q743.804 1536.98 745.609 1540.55 Q747.438 1544.09 751.049 1544.09 Q754.683 1544.09 756.489 1540.55 Q758.318 1536.98 758.318 1529.87 Q758.318 1522.75 756.489 1519.2 Q754.683 1515.64 751.049 1515.64 M751.049 1511.93 Q756.859 1511.93 759.915 1516.54 Q762.993 1521.12 762.993 1529.87 Q762.993 1538.6 759.915 1543.21 Q756.859 1547.79 751.049 1547.79 Q745.239 1547.79 742.16 1543.21 Q739.105 1538.6 739.105 1529.87 Q739.105 1521.12 742.16 1516.54 Q745.239 1511.93 751.049 1511.93 Z\" fill=\"#000000\" fill-rule=\"evenodd\" fill-opacity=\"1\" /><path clip-path=\"url(#clip160)\" d=\"M771.211 1541.24 L776.095 1541.24 L776.095 1547.12 L771.211 1547.12 L771.211 1541.24 Z\" fill=\"#000000\" fill-rule=\"evenodd\" fill-opacity=\"1\" /><path clip-path=\"url(#clip160)\" d=\"M786.327 1512.56 L804.683 1512.56 L804.683 1516.5 L790.609 1516.5 L790.609 1524.97 Q791.628 1524.62 792.646 1524.46 Q793.665 1524.27 794.683 1524.27 Q800.47 1524.27 803.85 1527.44 Q807.229 1530.62 807.229 1536.03 Q807.229 1541.61 803.757 1544.71 Q800.285 1547.79 793.965 1547.79 Q791.79 1547.79 789.521 1547.42 Q787.276 1547.05 784.868 1546.31 L784.868 1541.61 Q786.952 1542.74 789.174 1543.3 Q791.396 1543.86 793.873 1543.86 Q797.877 1543.86 800.215 1541.75 Q802.553 1539.64 802.553 1536.03 Q802.553 1532.42 800.215 1530.31 Q797.877 1528.21 793.873 1528.21 Q791.998 1528.21 790.123 1528.62 Q788.271 1529.04 786.327 1529.92 L786.327 1512.56 Z\" fill=\"#000000\" fill-rule=\"evenodd\" fill-opacity=\"1\" /><path clip-path=\"url(#clip160)\" d=\"M1065.61 1543.18 L1073.25 1543.18 L1073.25 1516.82 L1064.94 1518.49 L1064.94 1514.23 L1073.2 1512.56 L1077.88 1512.56 L1077.88 1543.18 L1085.52 1543.18 L1085.52 1547.12 L1065.61 1547.12 L1065.61 1543.18 Z\" fill=\"#000000\" fill-rule=\"evenodd\" fill-opacity=\"1\" /><path clip-path=\"url(#clip160)\" d=\"M1094.96 1541.24 L1099.85 1541.24 L1099.85 1547.12 L1094.96 1547.12 L1094.96 1541.24 Z\" fill=\"#000000\" fill-rule=\"evenodd\" fill-opacity=\"1\" /><path clip-path=\"url(#clip160)\" d=\"M1120.03 1515.64 Q1116.42 1515.64 1114.59 1519.2 Q1112.79 1522.75 1112.79 1529.87 Q1112.79 1536.98 1114.59 1540.55 Q1116.42 1544.09 1120.03 1544.09 Q1123.66 1544.09 1125.47 1540.55 Q1127.3 1536.98 1127.3 1529.87 Q1127.3 1522.75 1125.47 1519.2 Q1123.66 1515.64 1120.03 1515.64 M1120.03 1511.93 Q1125.84 1511.93 1128.9 1516.54 Q1131.97 1521.12 1131.97 1529.87 Q1131.97 1538.6 1128.9 1543.21 Q1125.84 1547.79 1120.03 1547.79 Q1114.22 1547.79 1111.14 1543.21 Q1108.09 1538.6 1108.09 1529.87 Q1108.09 1521.12 1111.14 1516.54 Q1114.22 1511.93 1120.03 1511.93 Z\" fill=\"#000000\" fill-rule=\"evenodd\" fill-opacity=\"1\" /><path clip-path=\"url(#clip160)\" d=\"M1391.4 1543.18 L1399.04 1543.18 L1399.04 1516.82 L1390.73 1518.49 L1390.73 1514.23 L1398.99 1512.56 L1403.67 1512.56 L1403.67 1543.18 L1411.3 1543.18 L1411.3 1547.12 L1391.4 1547.12 L1391.4 1543.18 Z\" fill=\"#000000\" fill-rule=\"evenodd\" fill-opacity=\"1\" /><path clip-path=\"url(#clip160)\" d=\"M1420.75 1541.24 L1425.63 1541.24 L1425.63 1547.12 L1420.75 1547.12 L1420.75 1541.24 Z\" fill=\"#000000\" fill-rule=\"evenodd\" fill-opacity=\"1\" /><path clip-path=\"url(#clip160)\" d=\"M1435.86 1512.56 L1454.22 1512.56 L1454.22 1516.5 L1440.15 1516.5 L1440.15 1524.97 Q1441.17 1524.62 1442.18 1524.46 Q1443.2 1524.27 1444.22 1524.27 Q1450.01 1524.27 1453.39 1527.44 Q1456.77 1530.62 1456.77 1536.03 Q1456.77 1541.61 1453.29 1544.71 Q1449.82 1547.79 1443.5 1547.79 Q1441.33 1547.79 1439.06 1547.42 Q1436.81 1547.05 1434.41 1546.31 L1434.41 1541.61 Q1436.49 1542.74 1438.71 1543.3 Q1440.93 1543.86 1443.41 1543.86 Q1447.41 1543.86 1449.75 1541.75 Q1452.09 1539.64 1452.09 1536.03 Q1452.09 1532.42 1449.75 1530.31 Q1447.41 1528.21 1443.41 1528.21 Q1441.54 1528.21 1439.66 1528.62 Q1437.81 1529.04 1435.86 1529.92 L1435.86 1512.56 Z\" fill=\"#000000\" fill-rule=\"evenodd\" fill-opacity=\"1\" /><path clip-path=\"url(#clip160)\" d=\"M1720.27 1543.18 L1736.59 1543.18 L1736.59 1547.12 L1714.65 1547.12 L1714.65 1543.18 Q1717.31 1540.43 1721.89 1535.8 Q1726.5 1531.15 1727.68 1529.81 Q1729.93 1527.28 1730.81 1525.55 Q1731.71 1523.79 1731.71 1522.1 Q1731.71 1519.34 1729.76 1517.61 Q1727.84 1515.87 1724.74 1515.87 Q1722.54 1515.87 1720.09 1516.63 Q1717.66 1517.4 1714.88 1518.95 L1714.88 1514.23 Q1717.7 1513.09 1720.16 1512.51 Q1722.61 1511.93 1724.65 1511.93 Q1730.02 1511.93 1733.21 1514.62 Q1736.41 1517.31 1736.41 1521.8 Q1736.41 1523.93 1735.6 1525.85 Q1734.81 1527.74 1732.7 1530.34 Q1732.13 1531.01 1729.02 1534.23 Q1725.92 1537.42 1720.27 1543.18 Z\" fill=\"#000000\" fill-rule=\"evenodd\" fill-opacity=\"1\" /><path clip-path=\"url(#clip160)\" d=\"M1746.41 1541.24 L1751.29 1541.24 L1751.29 1547.12 L1746.41 1547.12 L1746.41 1541.24 Z\" fill=\"#000000\" fill-rule=\"evenodd\" fill-opacity=\"1\" /><path clip-path=\"url(#clip160)\" d=\"M1771.48 1515.64 Q1767.87 1515.64 1766.04 1519.2 Q1764.23 1522.75 1764.23 1529.87 Q1764.23 1536.98 1766.04 1540.55 Q1767.87 1544.09 1771.48 1544.09 Q1775.11 1544.09 1776.92 1540.55 Q1778.75 1536.98 1778.75 1529.87 Q1778.75 1522.75 1776.92 1519.2 Q1775.11 1515.64 1771.48 1515.64 M1771.48 1511.93 Q1777.29 1511.93 1780.34 1516.54 Q1783.42 1521.12 1783.42 1529.87 Q1783.42 1538.6 1780.34 1543.21 Q1777.29 1547.79 1771.48 1547.79 Q1765.67 1547.79 1762.59 1543.21 Q1759.53 1538.6 1759.53 1529.87 Q1759.53 1521.12 1762.59 1516.54 Q1765.67 1511.93 1771.48 1511.93 Z\" fill=\"#000000\" fill-rule=\"evenodd\" fill-opacity=\"1\" /><path clip-path=\"url(#clip160)\" d=\"M2046.06 1543.18 L2062.38 1543.18 L2062.38 1547.12 L2040.44 1547.12 L2040.44 1543.18 Q2043.1 1540.43 2047.68 1535.8 Q2052.29 1531.15 2053.47 1529.81 Q2055.71 1527.28 2056.59 1525.55 Q2057.5 1523.79 2057.5 1522.1 Q2057.5 1519.34 2055.55 1517.61 Q2053.63 1515.87 2050.53 1515.87 Q2048.33 1515.87 2045.88 1516.63 Q2043.45 1517.4 2040.67 1518.95 L2040.67 1514.23 Q2043.49 1513.09 2045.95 1512.51 Q2048.4 1511.93 2050.44 1511.93 Q2055.81 1511.93 2059 1514.62 Q2062.2 1517.31 2062.2 1521.8 Q2062.2 1523.93 2061.39 1525.85 Q2060.6 1527.74 2058.49 1530.34 Q2057.91 1531.01 2054.81 1534.23 Q2051.71 1537.42 2046.06 1543.18 Z\" fill=\"#000000\" fill-rule=\"evenodd\" fill-opacity=\"1\" /><path clip-path=\"url(#clip160)\" d=\"M2072.2 1541.24 L2077.08 1541.24 L2077.08 1547.12 L2072.2 1547.12 L2072.2 1541.24 Z\" fill=\"#000000\" fill-rule=\"evenodd\" fill-opacity=\"1\" /><path clip-path=\"url(#clip160)\" d=\"M2087.31 1512.56 L2105.67 1512.56 L2105.67 1516.5 L2091.59 1516.5 L2091.59 1524.97 Q2092.61 1524.62 2093.63 1524.46 Q2094.65 1524.27 2095.67 1524.27 Q2101.45 1524.27 2104.83 1527.44 Q2108.21 1530.62 2108.21 1536.03 Q2108.21 1541.61 2104.74 1544.71 Q2101.27 1547.79 2094.95 1547.79 Q2092.77 1547.79 2090.51 1547.42 Q2088.26 1547.05 2085.85 1546.31 L2085.85 1541.61 Q2087.94 1542.74 2090.16 1543.3 Q2092.38 1543.86 2094.86 1543.86 Q2098.86 1543.86 2101.2 1541.75 Q2103.54 1539.64 2103.54 1536.03 Q2103.54 1532.42 2101.2 1530.31 Q2098.86 1528.21 2094.86 1528.21 Q2092.98 1528.21 2091.11 1528.62 Q2089.26 1529.04 2087.31 1529.92 L2087.31 1512.56 Z\" fill=\"#000000\" fill-rule=\"evenodd\" fill-opacity=\"1\" /><polyline clip-path=\"url(#clip162)\" style=\"stroke:#000000; stroke-linecap:butt; stroke-linejoin:round; stroke-width:2; stroke-opacity:0.1; fill:none\" points=\"\n",
       "  147.478,1452.22 2352.76,1452.22 \n",
       "  \"/>\n",
       "<polyline clip-path=\"url(#clip162)\" style=\"stroke:#000000; stroke-linecap:butt; stroke-linejoin:round; stroke-width:2; stroke-opacity:0.1; fill:none\" points=\"\n",
       "  147.478,1224.76 2352.76,1224.76 \n",
       "  \"/>\n",
       "<polyline clip-path=\"url(#clip162)\" style=\"stroke:#000000; stroke-linecap:butt; stroke-linejoin:round; stroke-width:2; stroke-opacity:0.1; fill:none\" points=\"\n",
       "  147.478,997.306 2352.76,997.306 \n",
       "  \"/>\n",
       "<polyline clip-path=\"url(#clip162)\" style=\"stroke:#000000; stroke-linecap:butt; stroke-linejoin:round; stroke-width:2; stroke-opacity:0.1; fill:none\" points=\"\n",
       "  147.478,769.846 2352.76,769.846 \n",
       "  \"/>\n",
       "<polyline clip-path=\"url(#clip162)\" style=\"stroke:#000000; stroke-linecap:butt; stroke-linejoin:round; stroke-width:2; stroke-opacity:0.1; fill:none\" points=\"\n",
       "  147.478,542.387 2352.76,542.387 \n",
       "  \"/>\n",
       "<polyline clip-path=\"url(#clip162)\" style=\"stroke:#000000; stroke-linecap:butt; stroke-linejoin:round; stroke-width:2; stroke-opacity:0.1; fill:none\" points=\"\n",
       "  147.478,314.927 2352.76,314.927 \n",
       "  \"/>\n",
       "<polyline clip-path=\"url(#clip162)\" style=\"stroke:#000000; stroke-linecap:butt; stroke-linejoin:round; stroke-width:2; stroke-opacity:0.1; fill:none\" points=\"\n",
       "  147.478,87.4681 2352.76,87.4681 \n",
       "  \"/>\n",
       "<polyline clip-path=\"url(#clip160)\" style=\"stroke:#000000; stroke-linecap:butt; stroke-linejoin:round; stroke-width:4; stroke-opacity:1; fill:none\" points=\"\n",
       "  147.478,1486.45 147.478,47.2441 \n",
       "  \"/>\n",
       "<polyline clip-path=\"url(#clip160)\" style=\"stroke:#000000; stroke-linecap:butt; stroke-linejoin:round; stroke-width:4; stroke-opacity:1; fill:none\" points=\"\n",
       "  147.478,1452.22 166.376,1452.22 \n",
       "  \"/>\n",
       "<polyline clip-path=\"url(#clip160)\" style=\"stroke:#000000; stroke-linecap:butt; stroke-linejoin:round; stroke-width:4; stroke-opacity:1; fill:none\" points=\"\n",
       "  147.478,1224.76 166.376,1224.76 \n",
       "  \"/>\n",
       "<polyline clip-path=\"url(#clip160)\" style=\"stroke:#000000; stroke-linecap:butt; stroke-linejoin:round; stroke-width:4; stroke-opacity:1; fill:none\" points=\"\n",
       "  147.478,997.306 166.376,997.306 \n",
       "  \"/>\n",
       "<polyline clip-path=\"url(#clip160)\" style=\"stroke:#000000; stroke-linecap:butt; stroke-linejoin:round; stroke-width:4; stroke-opacity:1; fill:none\" points=\"\n",
       "  147.478,769.846 166.376,769.846 \n",
       "  \"/>\n",
       "<polyline clip-path=\"url(#clip160)\" style=\"stroke:#000000; stroke-linecap:butt; stroke-linejoin:round; stroke-width:4; stroke-opacity:1; fill:none\" points=\"\n",
       "  147.478,542.387 166.376,542.387 \n",
       "  \"/>\n",
       "<polyline clip-path=\"url(#clip160)\" style=\"stroke:#000000; stroke-linecap:butt; stroke-linejoin:round; stroke-width:4; stroke-opacity:1; fill:none\" points=\"\n",
       "  147.478,314.927 166.376,314.927 \n",
       "  \"/>\n",
       "<polyline clip-path=\"url(#clip160)\" style=\"stroke:#000000; stroke-linecap:butt; stroke-linejoin:round; stroke-width:4; stroke-opacity:1; fill:none\" points=\"\n",
       "  147.478,87.4681 166.376,87.4681 \n",
       "  \"/>\n",
       "<path clip-path=\"url(#clip160)\" d=\"M51.3625 1452.68 L81.0383 1452.68 L81.0383 1456.61 L51.3625 1456.61 L51.3625 1452.68 Z\" fill=\"#000000\" fill-rule=\"evenodd\" fill-opacity=\"1\" /><path clip-path=\"url(#clip160)\" d=\"M95.1586 1465.57 L111.478 1465.57 L111.478 1469.5 L89.5336 1469.5 L89.5336 1465.57 Q92.1956 1462.81 96.7789 1458.18 Q101.385 1453.53 102.566 1452.19 Q104.811 1449.67 105.691 1447.93 Q106.594 1446.17 106.594 1444.48 Q106.594 1441.73 104.649 1439.99 Q102.728 1438.25 99.6261 1438.25 Q97.4271 1438.25 94.9734 1439.02 Q92.5428 1439.78 89.7651 1441.33 L89.7651 1436.61 Q92.5891 1435.48 95.0428 1434.9 Q97.4965 1434.32 99.5335 1434.32 Q104.904 1434.32 108.098 1437 Q111.293 1439.69 111.293 1444.18 Q111.293 1446.31 110.483 1448.23 Q109.696 1450.13 107.589 1452.72 Q107.01 1453.39 103.909 1456.61 Q100.807 1459.81 95.1586 1465.57 Z\" fill=\"#000000\" fill-rule=\"evenodd\" fill-opacity=\"1\" /><path clip-path=\"url(#clip160)\" d=\"M50.9921 1225.22 L80.6679 1225.22 L80.6679 1229.15 L50.9921 1229.15 L50.9921 1225.22 Z\" fill=\"#000000\" fill-rule=\"evenodd\" fill-opacity=\"1\" /><path clip-path=\"url(#clip160)\" d=\"M91.5706 1238.11 L99.2095 1238.11 L99.2095 1211.74 L90.8993 1213.41 L90.8993 1209.15 L99.1632 1207.48 L103.839 1207.48 L103.839 1238.11 L111.478 1238.11 L111.478 1242.04 L91.5706 1242.04 L91.5706 1238.11 Z\" fill=\"#000000\" fill-rule=\"evenodd\" fill-opacity=\"1\" /><path clip-path=\"url(#clip160)\" d=\"M99.5335 983.104 Q95.9224 983.104 94.0937 986.669 Q92.2882 990.211 92.2882 997.34 Q92.2882 1004.45 94.0937 1008.01 Q95.9224 1011.55 99.5335 1011.55 Q103.168 1011.55 104.973 1008.01 Q106.802 1004.45 106.802 997.34 Q106.802 990.211 104.973 986.669 Q103.168 983.104 99.5335 983.104 M99.5335 979.401 Q105.344 979.401 108.399 984.007 Q111.478 988.59 111.478 997.34 Q111.478 1006.07 108.399 1010.67 Q105.344 1015.26 99.5335 1015.26 Q93.7234 1015.26 90.6447 1010.67 Q87.5892 1006.07 87.5892 997.34 Q87.5892 988.59 90.6447 984.007 Q93.7234 979.401 99.5335 979.401 Z\" fill=\"#000000\" fill-rule=\"evenodd\" fill-opacity=\"1\" /><path clip-path=\"url(#clip160)\" d=\"M91.5706 783.191 L99.2095 783.191 L99.2095 756.825 L90.8993 758.492 L90.8993 754.233 L99.1632 752.566 L103.839 752.566 L103.839 783.191 L111.478 783.191 L111.478 787.126 L91.5706 787.126 L91.5706 783.191 Z\" fill=\"#000000\" fill-rule=\"evenodd\" fill-opacity=\"1\" /><path clip-path=\"url(#clip160)\" d=\"M95.1586 555.732 L111.478 555.732 L111.478 559.667 L89.5336 559.667 L89.5336 555.732 Q92.1956 552.977 96.7789 548.347 Q101.385 543.695 102.566 542.352 Q104.811 539.829 105.691 538.093 Q106.594 536.334 106.594 534.644 Q106.594 531.889 104.649 530.153 Q102.728 528.417 99.6261 528.417 Q97.4271 528.417 94.9734 529.181 Q92.5428 529.945 89.7651 531.496 L89.7651 526.773 Q92.5891 525.639 95.0428 525.061 Q97.4965 524.482 99.5335 524.482 Q104.904 524.482 108.098 527.167 Q111.293 529.852 111.293 534.343 Q111.293 536.472 110.483 538.394 Q109.696 540.292 107.589 542.884 Q107.01 543.556 103.909 546.773 Q100.807 549.968 95.1586 555.732 Z\" fill=\"#000000\" fill-rule=\"evenodd\" fill-opacity=\"1\" /><path clip-path=\"url(#clip160)\" d=\"M104.348 313.573 Q107.705 314.291 109.58 316.559 Q111.478 318.828 111.478 322.161 Q111.478 327.277 107.959 330.078 Q104.441 332.879 97.9595 332.879 Q95.7836 332.879 93.4688 332.439 Q91.1771 332.022 88.7234 331.166 L88.7234 326.652 Q90.6678 327.786 92.9826 328.365 Q95.2974 328.944 97.8206 328.944 Q102.219 328.944 104.51 327.207 Q106.825 325.471 106.825 322.161 Q106.825 319.106 104.672 317.393 Q102.543 315.657 98.7234 315.657 L94.6956 315.657 L94.6956 311.814 L98.9085 311.814 Q102.358 311.814 104.186 310.448 Q106.015 309.059 106.015 306.467 Q106.015 303.805 104.117 302.393 Q102.242 300.958 98.7234 300.958 Q96.8021 300.958 94.603 301.374 Q92.4039 301.791 89.7651 302.671 L89.7651 298.504 Q92.4271 297.763 94.7419 297.393 Q97.0798 297.022 99.14 297.022 Q104.464 297.022 107.566 299.453 Q110.668 301.86 110.668 305.981 Q110.668 308.851 109.024 310.842 Q107.381 312.809 104.348 313.573 Z\" fill=\"#000000\" fill-rule=\"evenodd\" fill-opacity=\"1\" /><path clip-path=\"url(#clip160)\" d=\"M101.895 74.2621 L90.0891 92.7111 L101.895 92.7111 L101.895 74.2621 M100.668 70.1881 L106.547 70.1881 L106.547 92.7111 L111.478 92.7111 L111.478 96.6 L106.547 96.6 L106.547 104.748 L101.895 104.748 L101.895 96.6 L86.2929 96.6 L86.2929 92.0861 L100.668 70.1881 Z\" fill=\"#000000\" fill-rule=\"evenodd\" fill-opacity=\"1\" /><circle clip-path=\"url(#clip162)\" cx=\"447.323\" cy=\"834.144\" r=\"14\" fill=\"#009af9\" fill-rule=\"evenodd\" fill-opacity=\"1\" stroke=\"#000000\" stroke-opacity=\"1\" stroke-width=\"3.2\"/>\n",
       "<circle clip-path=\"url(#clip162)\" cx=\"1504.15\" cy=\"751.578\" r=\"14\" fill=\"#009af9\" fill-rule=\"evenodd\" fill-opacity=\"1\" stroke=\"#000000\" stroke-opacity=\"1\" stroke-width=\"3.2\"/>\n",
       "<circle clip-path=\"url(#clip162)\" cx=\"2129.37\" cy=\"584.15\" r=\"14\" fill=\"#009af9\" fill-rule=\"evenodd\" fill-opacity=\"1\" stroke=\"#000000\" stroke-opacity=\"1\" stroke-width=\"3.2\"/>\n",
       "<circle clip-path=\"url(#clip162)\" cx=\"1060.35\" cy=\"908.515\" r=\"14\" fill=\"#009af9\" fill-rule=\"evenodd\" fill-opacity=\"1\" stroke=\"#000000\" stroke-opacity=\"1\" stroke-width=\"3.2\"/>\n",
       "<circle clip-path=\"url(#clip162)\" cx=\"998.393\" cy=\"614.312\" r=\"14\" fill=\"#009af9\" fill-rule=\"evenodd\" fill-opacity=\"1\" stroke=\"#000000\" stroke-opacity=\"1\" stroke-width=\"3.2\"/>\n",
       "<circle clip-path=\"url(#clip162)\" cx=\"1871.15\" cy=\"525.697\" r=\"14\" fill=\"#009af9\" fill-rule=\"evenodd\" fill-opacity=\"1\" stroke=\"#000000\" stroke-opacity=\"1\" stroke-width=\"3.2\"/>\n",
       "<circle clip-path=\"url(#clip162)\" cx=\"757.795\" cy=\"1029.18\" r=\"14\" fill=\"#009af9\" fill-rule=\"evenodd\" fill-opacity=\"1\" stroke=\"#000000\" stroke-opacity=\"1\" stroke-width=\"3.2\"/>\n",
       "<circle clip-path=\"url(#clip162)\" cx=\"1364.37\" cy=\"579.776\" r=\"14\" fill=\"#009af9\" fill-rule=\"evenodd\" fill-opacity=\"1\" stroke=\"#000000\" stroke-opacity=\"1\" stroke-width=\"3.2\"/>\n",
       "<circle clip-path=\"url(#clip162)\" cx=\"309.709\" cy=\"829.91\" r=\"14\" fill=\"#009af9\" fill-rule=\"evenodd\" fill-opacity=\"1\" stroke=\"#000000\" stroke-opacity=\"1\" stroke-width=\"3.2\"/>\n",
       "<circle clip-path=\"url(#clip162)\" cx=\"968.563\" cy=\"811.35\" r=\"14\" fill=\"#009af9\" fill-rule=\"evenodd\" fill-opacity=\"1\" stroke=\"#000000\" stroke-opacity=\"1\" stroke-width=\"3.2\"/>\n",
       "<circle clip-path=\"url(#clip162)\" cx=\"712.041\" cy=\"614.605\" r=\"14\" fill=\"#009af9\" fill-rule=\"evenodd\" fill-opacity=\"1\" stroke=\"#000000\" stroke-opacity=\"1\" stroke-width=\"3.2\"/>\n",
       "<circle clip-path=\"url(#clip162)\" cx=\"1124.93\" cy=\"1004.62\" r=\"14\" fill=\"#009af9\" fill-rule=\"evenodd\" fill-opacity=\"1\" stroke=\"#000000\" stroke-opacity=\"1\" stroke-width=\"3.2\"/>\n",
       "<circle clip-path=\"url(#clip162)\" cx=\"1599.1\" cy=\"805.863\" r=\"14\" fill=\"#009af9\" fill-rule=\"evenodd\" fill-opacity=\"1\" stroke=\"#000000\" stroke-opacity=\"1\" stroke-width=\"3.2\"/>\n",
       "<circle clip-path=\"url(#clip162)\" cx=\"700.878\" cy=\"1111.07\" r=\"14\" fill=\"#009af9\" fill-rule=\"evenodd\" fill-opacity=\"1\" stroke=\"#000000\" stroke-opacity=\"1\" stroke-width=\"3.2\"/>\n",
       "<circle clip-path=\"url(#clip162)\" cx=\"520.743\" cy=\"1184.26\" r=\"14\" fill=\"#009af9\" fill-rule=\"evenodd\" fill-opacity=\"1\" stroke=\"#000000\" stroke-opacity=\"1\" stroke-width=\"3.2\"/>\n",
       "<circle clip-path=\"url(#clip162)\" cx=\"550.452\" cy=\"943.294\" r=\"14\" fill=\"#009af9\" fill-rule=\"evenodd\" fill-opacity=\"1\" stroke=\"#000000\" stroke-opacity=\"1\" stroke-width=\"3.2\"/>\n",
       "<circle clip-path=\"url(#clip162)\" cx=\"1030.09\" cy=\"1185.71\" r=\"14\" fill=\"#009af9\" fill-rule=\"evenodd\" fill-opacity=\"1\" stroke=\"#000000\" stroke-opacity=\"1\" stroke-width=\"3.2\"/>\n",
       "<circle clip-path=\"url(#clip162)\" cx=\"537.397\" cy=\"778.391\" r=\"14\" fill=\"#009af9\" fill-rule=\"evenodd\" fill-opacity=\"1\" stroke=\"#000000\" stroke-opacity=\"1\" stroke-width=\"3.2\"/>\n",
       "<circle clip-path=\"url(#clip162)\" cx=\"919.03\" cy=\"504.413\" r=\"14\" fill=\"#009af9\" fill-rule=\"evenodd\" fill-opacity=\"1\" stroke=\"#000000\" stroke-opacity=\"1\" stroke-width=\"3.2\"/>\n",
       "<circle clip-path=\"url(#clip162)\" cx=\"890.244\" cy=\"730.166\" r=\"14\" fill=\"#009af9\" fill-rule=\"evenodd\" fill-opacity=\"1\" stroke=\"#000000\" stroke-opacity=\"1\" stroke-width=\"3.2\"/>\n",
       "<circle clip-path=\"url(#clip162)\" cx=\"659.933\" cy=\"1288.27\" r=\"14\" fill=\"#009af9\" fill-rule=\"evenodd\" fill-opacity=\"1\" stroke=\"#000000\" stroke-opacity=\"1\" stroke-width=\"3.2\"/>\n",
       "<circle clip-path=\"url(#clip162)\" cx=\"1039.68\" cy=\"950.182\" r=\"14\" fill=\"#009af9\" fill-rule=\"evenodd\" fill-opacity=\"1\" stroke=\"#000000\" stroke-opacity=\"1\" stroke-width=\"3.2\"/>\n",
       "<circle clip-path=\"url(#clip162)\" cx=\"1378.67\" cy=\"880.902\" r=\"14\" fill=\"#009af9\" fill-rule=\"evenodd\" fill-opacity=\"1\" stroke=\"#000000\" stroke-opacity=\"1\" stroke-width=\"3.2\"/>\n",
       "<circle clip-path=\"url(#clip162)\" cx=\"1529.92\" cy=\"950.738\" r=\"14\" fill=\"#009af9\" fill-rule=\"evenodd\" fill-opacity=\"1\" stroke=\"#000000\" stroke-opacity=\"1\" stroke-width=\"3.2\"/>\n",
       "<circle clip-path=\"url(#clip162)\" cx=\"1859.99\" cy=\"619.393\" r=\"14\" fill=\"#009af9\" fill-rule=\"evenodd\" fill-opacity=\"1\" stroke=\"#000000\" stroke-opacity=\"1\" stroke-width=\"3.2\"/>\n",
       "<circle clip-path=\"url(#clip162)\" cx=\"1393.26\" cy=\"711.412\" r=\"14\" fill=\"#009af9\" fill-rule=\"evenodd\" fill-opacity=\"1\" stroke=\"#000000\" stroke-opacity=\"1\" stroke-width=\"3.2\"/>\n",
       "<circle clip-path=\"url(#clip162)\" cx=\"1825.93\" cy=\"886.164\" r=\"14\" fill=\"#009af9\" fill-rule=\"evenodd\" fill-opacity=\"1\" stroke=\"#000000\" stroke-opacity=\"1\" stroke-width=\"3.2\"/>\n",
       "<circle clip-path=\"url(#clip162)\" cx=\"1344.22\" cy=\"939.09\" r=\"14\" fill=\"#009af9\" fill-rule=\"evenodd\" fill-opacity=\"1\" stroke=\"#000000\" stroke-opacity=\"1\" stroke-width=\"3.2\"/>\n",
       "<circle clip-path=\"url(#clip162)\" cx=\"1823.66\" cy=\"557.124\" r=\"14\" fill=\"#009af9\" fill-rule=\"evenodd\" fill-opacity=\"1\" stroke=\"#000000\" stroke-opacity=\"1\" stroke-width=\"3.2\"/>\n",
       "<circle clip-path=\"url(#clip162)\" cx=\"762.648\" cy=\"717.807\" r=\"14\" fill=\"#009af9\" fill-rule=\"evenodd\" fill-opacity=\"1\" stroke=\"#000000\" stroke-opacity=\"1\" stroke-width=\"3.2\"/>\n",
       "<circle clip-path=\"url(#clip162)\" cx=\"1341.47\" cy=\"988.717\" r=\"14\" fill=\"#009af9\" fill-rule=\"evenodd\" fill-opacity=\"1\" stroke=\"#000000\" stroke-opacity=\"1\" stroke-width=\"3.2\"/>\n",
       "<circle clip-path=\"url(#clip162)\" cx=\"1165.19\" cy=\"460.281\" r=\"14\" fill=\"#009af9\" fill-rule=\"evenodd\" fill-opacity=\"1\" stroke=\"#000000\" stroke-opacity=\"1\" stroke-width=\"3.2\"/>\n",
       "<circle clip-path=\"url(#clip162)\" cx=\"1025.33\" cy=\"952.616\" r=\"14\" fill=\"#009af9\" fill-rule=\"evenodd\" fill-opacity=\"1\" stroke=\"#000000\" stroke-opacity=\"1\" stroke-width=\"3.2\"/>\n",
       "<circle clip-path=\"url(#clip162)\" cx=\"1157.78\" cy=\"783.635\" r=\"14\" fill=\"#009af9\" fill-rule=\"evenodd\" fill-opacity=\"1\" stroke=\"#000000\" stroke-opacity=\"1\" stroke-width=\"3.2\"/>\n",
       "<circle clip-path=\"url(#clip162)\" cx=\"1824.11\" cy=\"87.9763\" r=\"14\" fill=\"#009af9\" fill-rule=\"evenodd\" fill-opacity=\"1\" stroke=\"#000000\" stroke-opacity=\"1\" stroke-width=\"3.2\"/>\n",
       "<circle clip-path=\"url(#clip162)\" cx=\"2059.36\" cy=\"446.633\" r=\"14\" fill=\"#009af9\" fill-rule=\"evenodd\" fill-opacity=\"1\" stroke=\"#000000\" stroke-opacity=\"1\" stroke-width=\"3.2\"/>\n",
       "<circle clip-path=\"url(#clip162)\" cx=\"505.363\" cy=\"849.514\" r=\"14\" fill=\"#009af9\" fill-rule=\"evenodd\" fill-opacity=\"1\" stroke=\"#000000\" stroke-opacity=\"1\" stroke-width=\"3.2\"/>\n",
       "<circle clip-path=\"url(#clip162)\" cx=\"1678.27\" cy=\"935.882\" r=\"14\" fill=\"#009af9\" fill-rule=\"evenodd\" fill-opacity=\"1\" stroke=\"#000000\" stroke-opacity=\"1\" stroke-width=\"3.2\"/>\n",
       "<circle clip-path=\"url(#clip162)\" cx=\"1190.32\" cy=\"631.796\" r=\"14\" fill=\"#009af9\" fill-rule=\"evenodd\" fill-opacity=\"1\" stroke=\"#000000\" stroke-opacity=\"1\" stroke-width=\"3.2\"/>\n",
       "<circle clip-path=\"url(#clip162)\" cx=\"1492.67\" cy=\"931.773\" r=\"14\" fill=\"#009af9\" fill-rule=\"evenodd\" fill-opacity=\"1\" stroke=\"#000000\" stroke-opacity=\"1\" stroke-width=\"3.2\"/>\n",
       "<circle clip-path=\"url(#clip162)\" cx=\"1371.01\" cy=\"870.358\" r=\"14\" fill=\"#009af9\" fill-rule=\"evenodd\" fill-opacity=\"1\" stroke=\"#000000\" stroke-opacity=\"1\" stroke-width=\"3.2\"/>\n",
       "<circle clip-path=\"url(#clip162)\" cx=\"2176.44\" cy=\"334.818\" r=\"14\" fill=\"#009af9\" fill-rule=\"evenodd\" fill-opacity=\"1\" stroke=\"#000000\" stroke-opacity=\"1\" stroke-width=\"3.2\"/>\n",
       "<circle clip-path=\"url(#clip162)\" cx=\"628.474\" cy=\"1018.21\" r=\"14\" fill=\"#009af9\" fill-rule=\"evenodd\" fill-opacity=\"1\" stroke=\"#000000\" stroke-opacity=\"1\" stroke-width=\"3.2\"/>\n",
       "<circle clip-path=\"url(#clip162)\" cx=\"608.25\" cy=\"1285.05\" r=\"14\" fill=\"#009af9\" fill-rule=\"evenodd\" fill-opacity=\"1\" stroke=\"#000000\" stroke-opacity=\"1\" stroke-width=\"3.2\"/>\n",
       "<circle clip-path=\"url(#clip162)\" cx=\"1403.95\" cy=\"546.849\" r=\"14\" fill=\"#009af9\" fill-rule=\"evenodd\" fill-opacity=\"1\" stroke=\"#000000\" stroke-opacity=\"1\" stroke-width=\"3.2\"/>\n",
       "<circle clip-path=\"url(#clip162)\" cx=\"1494.63\" cy=\"1023.49\" r=\"14\" fill=\"#009af9\" fill-rule=\"evenodd\" fill-opacity=\"1\" stroke=\"#000000\" stroke-opacity=\"1\" stroke-width=\"3.2\"/>\n",
       "<circle clip-path=\"url(#clip162)\" cx=\"2177.58\" cy=\"167.889\" r=\"14\" fill=\"#009af9\" fill-rule=\"evenodd\" fill-opacity=\"1\" stroke=\"#000000\" stroke-opacity=\"1\" stroke-width=\"3.2\"/>\n",
       "<circle clip-path=\"url(#clip162)\" cx=\"980.695\" cy=\"519.532\" r=\"14\" fill=\"#009af9\" fill-rule=\"evenodd\" fill-opacity=\"1\" stroke=\"#000000\" stroke-opacity=\"1\" stroke-width=\"3.2\"/>\n",
       "<circle clip-path=\"url(#clip162)\" cx=\"1265.06\" cy=\"839.915\" r=\"14\" fill=\"#009af9\" fill-rule=\"evenodd\" fill-opacity=\"1\" stroke=\"#000000\" stroke-opacity=\"1\" stroke-width=\"3.2\"/>\n",
       "<circle clip-path=\"url(#clip162)\" cx=\"974.627\" cy=\"825.287\" r=\"14\" fill=\"#009af9\" fill-rule=\"evenodd\" fill-opacity=\"1\" stroke=\"#000000\" stroke-opacity=\"1\" stroke-width=\"3.2\"/>\n",
       "<circle clip-path=\"url(#clip162)\" cx=\"1194.52\" cy=\"632.429\" r=\"14\" fill=\"#009af9\" fill-rule=\"evenodd\" fill-opacity=\"1\" stroke=\"#000000\" stroke-opacity=\"1\" stroke-width=\"3.2\"/>\n",
       "<circle clip-path=\"url(#clip162)\" cx=\"1605.76\" cy=\"465.507\" r=\"14\" fill=\"#009af9\" fill-rule=\"evenodd\" fill-opacity=\"1\" stroke=\"#000000\" stroke-opacity=\"1\" stroke-width=\"3.2\"/>\n",
       "<circle clip-path=\"url(#clip162)\" cx=\"1045.62\" cy=\"790.186\" r=\"14\" fill=\"#009af9\" fill-rule=\"evenodd\" fill-opacity=\"1\" stroke=\"#000000\" stroke-opacity=\"1\" stroke-width=\"3.2\"/>\n",
       "<circle clip-path=\"url(#clip162)\" cx=\"1196.57\" cy=\"551.984\" r=\"14\" fill=\"#009af9\" fill-rule=\"evenodd\" fill-opacity=\"1\" stroke=\"#000000\" stroke-opacity=\"1\" stroke-width=\"3.2\"/>\n",
       "<circle clip-path=\"url(#clip162)\" cx=\"1152.85\" cy=\"1003.34\" r=\"14\" fill=\"#009af9\" fill-rule=\"evenodd\" fill-opacity=\"1\" stroke=\"#000000\" stroke-opacity=\"1\" stroke-width=\"3.2\"/>\n",
       "<circle clip-path=\"url(#clip162)\" cx=\"209.891\" cy=\"1134.86\" r=\"14\" fill=\"#009af9\" fill-rule=\"evenodd\" fill-opacity=\"1\" stroke=\"#000000\" stroke-opacity=\"1\" stroke-width=\"3.2\"/>\n",
       "<circle clip-path=\"url(#clip162)\" cx=\"1172.64\" cy=\"680.698\" r=\"14\" fill=\"#009af9\" fill-rule=\"evenodd\" fill-opacity=\"1\" stroke=\"#000000\" stroke-opacity=\"1\" stroke-width=\"3.2\"/>\n",
       "<circle clip-path=\"url(#clip162)\" cx=\"1013.07\" cy=\"863.522\" r=\"14\" fill=\"#009af9\" fill-rule=\"evenodd\" fill-opacity=\"1\" stroke=\"#000000\" stroke-opacity=\"1\" stroke-width=\"3.2\"/>\n",
       "<circle clip-path=\"url(#clip162)\" cx=\"1326.89\" cy=\"519.173\" r=\"14\" fill=\"#009af9\" fill-rule=\"evenodd\" fill-opacity=\"1\" stroke=\"#000000\" stroke-opacity=\"1\" stroke-width=\"3.2\"/>\n",
       "<circle clip-path=\"url(#clip162)\" cx=\"441.808\" cy=\"899.365\" r=\"14\" fill=\"#009af9\" fill-rule=\"evenodd\" fill-opacity=\"1\" stroke=\"#000000\" stroke-opacity=\"1\" stroke-width=\"3.2\"/>\n",
       "<circle clip-path=\"url(#clip162)\" cx=\"589.888\" cy=\"769.314\" r=\"14\" fill=\"#009af9\" fill-rule=\"evenodd\" fill-opacity=\"1\" stroke=\"#000000\" stroke-opacity=\"1\" stroke-width=\"3.2\"/>\n",
       "<circle clip-path=\"url(#clip162)\" cx=\"591.013\" cy=\"940.149\" r=\"14\" fill=\"#009af9\" fill-rule=\"evenodd\" fill-opacity=\"1\" stroke=\"#000000\" stroke-opacity=\"1\" stroke-width=\"3.2\"/>\n",
       "<circle clip-path=\"url(#clip162)\" cx=\"1671.51\" cy=\"592.893\" r=\"14\" fill=\"#009af9\" fill-rule=\"evenodd\" fill-opacity=\"1\" stroke=\"#000000\" stroke-opacity=\"1\" stroke-width=\"3.2\"/>\n",
       "<circle clip-path=\"url(#clip162)\" cx=\"902.671\" cy=\"935.576\" r=\"14\" fill=\"#009af9\" fill-rule=\"evenodd\" fill-opacity=\"1\" stroke=\"#000000\" stroke-opacity=\"1\" stroke-width=\"3.2\"/>\n",
       "<circle clip-path=\"url(#clip162)\" cx=\"1368.46\" cy=\"727.573\" r=\"14\" fill=\"#009af9\" fill-rule=\"evenodd\" fill-opacity=\"1\" stroke=\"#000000\" stroke-opacity=\"1\" stroke-width=\"3.2\"/>\n",
       "<circle clip-path=\"url(#clip162)\" cx=\"1615.87\" cy=\"355.346\" r=\"14\" fill=\"#009af9\" fill-rule=\"evenodd\" fill-opacity=\"1\" stroke=\"#000000\" stroke-opacity=\"1\" stroke-width=\"3.2\"/>\n",
       "<circle clip-path=\"url(#clip162)\" cx=\"847.083\" cy=\"730.827\" r=\"14\" fill=\"#009af9\" fill-rule=\"evenodd\" fill-opacity=\"1\" stroke=\"#000000\" stroke-opacity=\"1\" stroke-width=\"3.2\"/>\n",
       "<circle clip-path=\"url(#clip162)\" cx=\"384.677\" cy=\"783.232\" r=\"14\" fill=\"#009af9\" fill-rule=\"evenodd\" fill-opacity=\"1\" stroke=\"#000000\" stroke-opacity=\"1\" stroke-width=\"3.2\"/>\n",
       "<circle clip-path=\"url(#clip162)\" cx=\"2020.61\" cy=\"709.508\" r=\"14\" fill=\"#009af9\" fill-rule=\"evenodd\" fill-opacity=\"1\" stroke=\"#000000\" stroke-opacity=\"1\" stroke-width=\"3.2\"/>\n",
       "<circle clip-path=\"url(#clip162)\" cx=\"878.833\" cy=\"492.656\" r=\"14\" fill=\"#009af9\" fill-rule=\"evenodd\" fill-opacity=\"1\" stroke=\"#000000\" stroke-opacity=\"1\" stroke-width=\"3.2\"/>\n",
       "<circle clip-path=\"url(#clip162)\" cx=\"359.626\" cy=\"1311.42\" r=\"14\" fill=\"#009af9\" fill-rule=\"evenodd\" fill-opacity=\"1\" stroke=\"#000000\" stroke-opacity=\"1\" stroke-width=\"3.2\"/>\n",
       "<circle clip-path=\"url(#clip162)\" cx=\"1302.55\" cy=\"878.275\" r=\"14\" fill=\"#009af9\" fill-rule=\"evenodd\" fill-opacity=\"1\" stroke=\"#000000\" stroke-opacity=\"1\" stroke-width=\"3.2\"/>\n",
       "<circle clip-path=\"url(#clip162)\" cx=\"391.027\" cy=\"1294.9\" r=\"14\" fill=\"#009af9\" fill-rule=\"evenodd\" fill-opacity=\"1\" stroke=\"#000000\" stroke-opacity=\"1\" stroke-width=\"3.2\"/>\n",
       "<circle clip-path=\"url(#clip162)\" cx=\"1161.4\" cy=\"563.65\" r=\"14\" fill=\"#009af9\" fill-rule=\"evenodd\" fill-opacity=\"1\" stroke=\"#000000\" stroke-opacity=\"1\" stroke-width=\"3.2\"/>\n",
       "<circle clip-path=\"url(#clip162)\" cx=\"347.348\" cy=\"1292.36\" r=\"14\" fill=\"#009af9\" fill-rule=\"evenodd\" fill-opacity=\"1\" stroke=\"#000000\" stroke-opacity=\"1\" stroke-width=\"3.2\"/>\n",
       "<circle clip-path=\"url(#clip162)\" cx=\"531.372\" cy=\"1244.47\" r=\"14\" fill=\"#009af9\" fill-rule=\"evenodd\" fill-opacity=\"1\" stroke=\"#000000\" stroke-opacity=\"1\" stroke-width=\"3.2\"/>\n",
       "<circle clip-path=\"url(#clip162)\" cx=\"854.073\" cy=\"1321.88\" r=\"14\" fill=\"#009af9\" fill-rule=\"evenodd\" fill-opacity=\"1\" stroke=\"#000000\" stroke-opacity=\"1\" stroke-width=\"3.2\"/>\n",
       "<circle clip-path=\"url(#clip162)\" cx=\"1727.14\" cy=\"459.706\" r=\"14\" fill=\"#009af9\" fill-rule=\"evenodd\" fill-opacity=\"1\" stroke=\"#000000\" stroke-opacity=\"1\" stroke-width=\"3.2\"/>\n",
       "<circle clip-path=\"url(#clip162)\" cx=\"1663.95\" cy=\"700.043\" r=\"14\" fill=\"#009af9\" fill-rule=\"evenodd\" fill-opacity=\"1\" stroke=\"#000000\" stroke-opacity=\"1\" stroke-width=\"3.2\"/>\n",
       "<circle clip-path=\"url(#clip162)\" cx=\"674.382\" cy=\"1061.07\" r=\"14\" fill=\"#009af9\" fill-rule=\"evenodd\" fill-opacity=\"1\" stroke=\"#000000\" stroke-opacity=\"1\" stroke-width=\"3.2\"/>\n",
       "<circle clip-path=\"url(#clip162)\" cx=\"1306.18\" cy=\"1189.08\" r=\"14\" fill=\"#009af9\" fill-rule=\"evenodd\" fill-opacity=\"1\" stroke=\"#000000\" stroke-opacity=\"1\" stroke-width=\"3.2\"/>\n",
       "<circle clip-path=\"url(#clip162)\" cx=\"1876.51\" cy=\"467.633\" r=\"14\" fill=\"#009af9\" fill-rule=\"evenodd\" fill-opacity=\"1\" stroke=\"#000000\" stroke-opacity=\"1\" stroke-width=\"3.2\"/>\n",
       "<circle clip-path=\"url(#clip162)\" cx=\"1064.18\" cy=\"993.47\" r=\"14\" fill=\"#009af9\" fill-rule=\"evenodd\" fill-opacity=\"1\" stroke=\"#000000\" stroke-opacity=\"1\" stroke-width=\"3.2\"/>\n",
       "<circle clip-path=\"url(#clip162)\" cx=\"1251.26\" cy=\"929.058\" r=\"14\" fill=\"#009af9\" fill-rule=\"evenodd\" fill-opacity=\"1\" stroke=\"#000000\" stroke-opacity=\"1\" stroke-width=\"3.2\"/>\n",
       "<circle clip-path=\"url(#clip162)\" cx=\"1141.5\" cy=\"788.383\" r=\"14\" fill=\"#009af9\" fill-rule=\"evenodd\" fill-opacity=\"1\" stroke=\"#000000\" stroke-opacity=\"1\" stroke-width=\"3.2\"/>\n",
       "<circle clip-path=\"url(#clip162)\" cx=\"594.024\" cy=\"995.465\" r=\"14\" fill=\"#009af9\" fill-rule=\"evenodd\" fill-opacity=\"1\" stroke=\"#000000\" stroke-opacity=\"1\" stroke-width=\"3.2\"/>\n",
       "<circle clip-path=\"url(#clip162)\" cx=\"853.315\" cy=\"857.287\" r=\"14\" fill=\"#009af9\" fill-rule=\"evenodd\" fill-opacity=\"1\" stroke=\"#000000\" stroke-opacity=\"1\" stroke-width=\"3.2\"/>\n",
       "<circle clip-path=\"url(#clip162)\" cx=\"713.854\" cy=\"1154.82\" r=\"14\" fill=\"#009af9\" fill-rule=\"evenodd\" fill-opacity=\"1\" stroke=\"#000000\" stroke-opacity=\"1\" stroke-width=\"3.2\"/>\n",
       "<circle clip-path=\"url(#clip162)\" cx=\"465.048\" cy=\"820.407\" r=\"14\" fill=\"#009af9\" fill-rule=\"evenodd\" fill-opacity=\"1\" stroke=\"#000000\" stroke-opacity=\"1\" stroke-width=\"3.2\"/>\n",
       "<circle clip-path=\"url(#clip162)\" cx=\"266.493\" cy=\"1445.72\" r=\"14\" fill=\"#009af9\" fill-rule=\"evenodd\" fill-opacity=\"1\" stroke=\"#000000\" stroke-opacity=\"1\" stroke-width=\"3.2\"/>\n",
       "<circle clip-path=\"url(#clip162)\" cx=\"1479.11\" cy=\"638.667\" r=\"14\" fill=\"#009af9\" fill-rule=\"evenodd\" fill-opacity=\"1\" stroke=\"#000000\" stroke-opacity=\"1\" stroke-width=\"3.2\"/>\n",
       "<circle clip-path=\"url(#clip162)\" cx=\"2290.34\" cy=\"410.648\" r=\"14\" fill=\"#009af9\" fill-rule=\"evenodd\" fill-opacity=\"1\" stroke=\"#000000\" stroke-opacity=\"1\" stroke-width=\"3.2\"/>\n",
       "<circle clip-path=\"url(#clip162)\" cx=\"936.146\" cy=\"832.174\" r=\"14\" fill=\"#009af9\" fill-rule=\"evenodd\" fill-opacity=\"1\" stroke=\"#000000\" stroke-opacity=\"1\" stroke-width=\"3.2\"/>\n",
       "<circle clip-path=\"url(#clip162)\" cx=\"1306.68\" cy=\"1001.44\" r=\"14\" fill=\"#009af9\" fill-rule=\"evenodd\" fill-opacity=\"1\" stroke=\"#000000\" stroke-opacity=\"1\" stroke-width=\"3.2\"/>\n",
       "<circle clip-path=\"url(#clip162)\" cx=\"759.527\" cy=\"785.482\" r=\"14\" fill=\"#009af9\" fill-rule=\"evenodd\" fill-opacity=\"1\" stroke=\"#000000\" stroke-opacity=\"1\" stroke-width=\"3.2\"/>\n",
       "<circle clip-path=\"url(#clip162)\" cx=\"1285.81\" cy=\"1007.74\" r=\"14\" fill=\"#009af9\" fill-rule=\"evenodd\" fill-opacity=\"1\" stroke=\"#000000\" stroke-opacity=\"1\" stroke-width=\"3.2\"/>\n",
       "<circle clip-path=\"url(#clip162)\" cx=\"1067.55\" cy=\"1137.84\" r=\"14\" fill=\"#009af9\" fill-rule=\"evenodd\" fill-opacity=\"1\" stroke=\"#000000\" stroke-opacity=\"1\" stroke-width=\"3.2\"/>\n",
       "<circle clip-path=\"url(#clip162)\" cx=\"1015.2\" cy=\"752.328\" r=\"14\" fill=\"#009af9\" fill-rule=\"evenodd\" fill-opacity=\"1\" stroke=\"#000000\" stroke-opacity=\"1\" stroke-width=\"3.2\"/>\n",
       "<circle clip-path=\"url(#clip162)\" cx=\"1405.52\" cy=\"730.646\" r=\"14\" fill=\"#009af9\" fill-rule=\"evenodd\" fill-opacity=\"1\" stroke=\"#000000\" stroke-opacity=\"1\" stroke-width=\"3.2\"/>\n",
       "<circle clip-path=\"url(#clip162)\" cx=\"642.194\" cy=\"857.345\" r=\"14\" fill=\"#009af9\" fill-rule=\"evenodd\" fill-opacity=\"1\" stroke=\"#000000\" stroke-opacity=\"1\" stroke-width=\"3.2\"/>\n",
       "<path clip-path=\"url(#clip160)\" d=\"\n",
       "M1923.06 198.898 L2279.25 198.898 L2279.25 95.2176 L1923.06 95.2176  Z\n",
       "  \" fill=\"#ffffff\" fill-rule=\"evenodd\" fill-opacity=\"1\"/>\n",
       "<polyline clip-path=\"url(#clip160)\" style=\"stroke:#000000; stroke-linecap:butt; stroke-linejoin:round; stroke-width:4; stroke-opacity:1; fill:none\" points=\"\n",
       "  1923.06,198.898 2279.25,198.898 2279.25,95.2176 1923.06,95.2176 1923.06,198.898 \n",
       "  \"/>\n",
       "<circle clip-path=\"url(#clip160)\" cx=\"2021.07\" cy=\"147.058\" r=\"23\" fill=\"#009af9\" fill-rule=\"evenodd\" fill-opacity=\"1\" stroke=\"#000000\" stroke-opacity=\"1\" stroke-width=\"5.12\"/>\n",
       "<path clip-path=\"url(#clip160)\" d=\"M2123.37 160.449 L2123.37 174.199 L2119.08 174.199 L2119.08 138.412 L2123.37 138.412 L2123.37 142.347 Q2124.71 140.032 2126.75 138.921 Q2128.81 137.787 2131.65 137.787 Q2136.38 137.787 2139.32 141.537 Q2142.28 145.287 2142.28 151.398 Q2142.28 157.509 2139.32 161.259 Q2136.38 165.009 2131.65 165.009 Q2128.81 165.009 2126.75 163.898 Q2124.71 162.763 2123.37 160.449 M2137.86 151.398 Q2137.86 146.699 2135.91 144.037 Q2133.99 141.352 2130.61 141.352 Q2127.23 141.352 2125.29 144.037 Q2123.37 146.699 2123.37 151.398 Q2123.37 156.097 2125.29 158.782 Q2127.23 161.444 2130.61 161.444 Q2133.99 161.444 2135.91 158.782 Q2137.86 156.097 2137.86 151.398 Z\" fill=\"#000000\" fill-rule=\"evenodd\" fill-opacity=\"1\" /><path clip-path=\"url(#clip160)\" d=\"M2164.36 142.393 Q2163.64 141.977 2162.79 141.791 Q2161.95 141.583 2160.94 141.583 Q2157.32 141.583 2155.38 143.944 Q2153.46 146.282 2153.46 150.68 L2153.46 164.338 L2149.18 164.338 L2149.18 138.412 L2153.46 138.412 L2153.46 142.44 Q2154.8 140.078 2156.95 138.944 Q2159.11 137.787 2162.19 137.787 Q2162.63 137.787 2163.16 137.856 Q2163.69 137.903 2164.34 138.018 L2164.36 142.393 Z\" fill=\"#000000\" fill-rule=\"evenodd\" fill-opacity=\"1\" /><path clip-path=\"url(#clip160)\" d=\"M2168.83 138.412 L2173.09 138.412 L2173.09 164.338 L2168.83 164.338 L2168.83 138.412 M2168.83 128.319 L2173.09 128.319 L2173.09 133.713 L2168.83 133.713 L2168.83 128.319 Z\" fill=\"#000000\" fill-rule=\"evenodd\" fill-opacity=\"1\" /><path clip-path=\"url(#clip160)\" d=\"M2200.66 139.407 L2200.66 143.389 Q2198.85 142.393 2197.02 141.907 Q2195.22 141.398 2193.37 141.398 Q2189.22 141.398 2186.93 144.037 Q2184.64 146.652 2184.64 151.398 Q2184.64 156.143 2186.93 158.782 Q2189.22 161.398 2193.37 161.398 Q2195.22 161.398 2197.02 160.912 Q2198.85 160.402 2200.66 159.407 L2200.66 163.342 Q2198.87 164.176 2196.95 164.592 Q2195.06 165.009 2192.9 165.009 Q2187.05 165.009 2183.6 161.328 Q2180.15 157.648 2180.15 151.398 Q2180.15 145.055 2183.62 141.421 Q2187.12 137.787 2193.18 137.787 Q2195.15 137.787 2197.02 138.203 Q2198.9 138.597 2200.66 139.407 Z\" fill=\"#000000\" fill-rule=\"evenodd\" fill-opacity=\"1\" /><path clip-path=\"url(#clip160)\" d=\"M2230.24 150.31 L2230.24 152.393 L2210.66 152.393 Q2210.94 156.791 2213.3 159.106 Q2215.68 161.398 2219.92 161.398 Q2222.37 161.398 2224.66 160.796 Q2226.98 160.194 2229.25 158.99 L2229.25 163.018 Q2226.95 163.99 2224.55 164.5 Q2222.14 165.009 2219.66 165.009 Q2213.46 165.009 2209.82 161.398 Q2206.21 157.787 2206.21 151.629 Q2206.21 145.264 2209.64 141.537 Q2213.09 137.787 2218.92 137.787 Q2224.15 137.787 2227.18 141.166 Q2230.24 144.523 2230.24 150.31 M2225.98 149.06 Q2225.93 145.565 2224.01 143.481 Q2222.12 141.398 2218.97 141.398 Q2215.4 141.398 2213.25 143.412 Q2211.12 145.426 2210.8 149.083 L2225.98 149.06 Z\" fill=\"#000000\" fill-rule=\"evenodd\" fill-opacity=\"1\" /></svg>\n"
      ]
     },
     "execution_count": 21,
     "metadata": {},
     "output_type": "execute_result"
    }
   ],
   "source": [
    "scatter(price,pred_price,label =\"price\")"
   ]
  },
  {
   "cell_type": "markdown",
   "id": "ba55054b",
   "metadata": {},
   "source": [
    "Which data point is the farthest (in terms of 2-norm) to its prediction?"
   ]
  },
  {
   "cell_type": "code",
   "execution_count": 22,
   "id": "a7ceb392",
   "metadata": {},
   "outputs": [
    {
     "data": {
      "text/plain": [
       "100-element Vector{Float64}:\n",
       " 0.7181750680123098\n",
       " 0.5432718158296235\n",
       " 0.7682115901242954\n",
       " 0.5510681151266288\n",
       " 0.8375950271656614\n",
       " 0.11432340915970451\n",
       " 0.6164871151568287\n",
       " 0.42688699451483103\n",
       " 0.9483136961060457\n",
       " 0.017190925315363148\n",
       " 1.276455886984218\n",
       " 1.0728504328856188\n",
       " 0.9278814333824777\n",
       " ⋮\n",
       " 0.7513233184285362\n",
       " 1.6925806980722762\n",
       " 0.008378831510372775\n",
       " 0.2528651294861324\n",
       " 0.02453324684987257\n",
       " 1.3382538856187876\n",
       " 0.45222408878813924\n",
       " 1.3338546819111254\n",
       " 1.5703212224247594\n",
       " 0.20498864179297516\n",
       " 0.2996470932868538\n",
       " 0.3166383379662581"
      ]
     },
     "execution_count": 22,
     "metadata": {},
     "output_type": "execute_result"
    }
   ],
   "source": [
    "Jclustl2(x,reps) =\n",
    "   [euclidean(x[i],reps[i]) for i=1:length(x)]\n",
    "x= price\n",
    "reps = pred_price\n",
    "dist_price_l2 = Jclustl2(x,reps)"
   ]
  },
  {
   "cell_type": "code",
   "execution_count": 23,
   "id": "6059c1da",
   "metadata": {},
   "outputs": [
    {
     "data": {
      "text/plain": [
       "(2.1624181222985337, 81)"
      ]
     },
     "execution_count": 23,
     "metadata": {},
     "output_type": "execute_result"
    }
   ],
   "source": [
    "farthest_distance = findmax(dist_price_l2)\n"
   ]
  },
  {
   "cell_type": "code",
   "execution_count": 24,
   "id": "701996a9",
   "metadata": {},
   "outputs": [
    {
     "data": {
      "text/plain": [
       "81"
      ]
     },
     "execution_count": 24,
     "metadata": {},
     "output_type": "execute_result"
    }
   ],
   "source": [
    "farthest_distance_argmax = argmax(dist_price_l2)\n"
   ]
  },
  {
   "cell_type": "code",
   "execution_count": 25,
   "id": "20d67aca",
   "metadata": {},
   "outputs": [
    {
     "data": {
      "text/plain": [
       "2.1624181222985337"
      ]
     },
     "execution_count": 25,
     "metadata": {},
     "output_type": "execute_result"
    }
   ],
   "source": [
    "farthest_distance_l2_check = euclidean(price[farthest_distance_argmax],pred_price[farthest_distance_argmax])\n"
   ]
  },
  {
   "cell_type": "markdown",
   "id": "2516a142",
   "metadata": {},
   "source": [
    "q4 What is best location to open these three(3) restaurants for Chelsea's franchisee\n",
    "    let's assume the first location is closed"
   ]
  },
  {
   "cell_type": "code",
   "execution_count": 26,
   "id": "5dd5e928",
   "metadata": {},
   "outputs": [
    {
     "name": "stdout",
     "output_type": "stream",
     "text": [
      "Iteration 1: Jclust = 0.1849968268499434.\n",
      "Iteration 2: Jclust = 0.05574755188184208.\n",
      "Iteration 3: Jclust = 0.04630689368265297.\n",
      "Iteration 4: Jclust = 0.045491126206254284.\n",
      "Iteration 5: Jclust = 0.045491126206254284.\n"
     ]
    },
    {
     "data": {
      "text/plain": [
       "([1, 1, 2, 1, 1, 1, 1, 1, 1, 1  …  3, 3, 3, 3, 3, 3, 3, 3, 3, 3], [[-0.0156260695213798, -0.20507992562840205], [0.481622334944703, -0.4784536466599418], [0.3067909052345134, 0.4744286672265481]])"
      ]
     },
     "execution_count": 26,
     "metadata": {},
     "output_type": "execute_result"
    }
   ],
   "source": [
    "Random.seed!(80)\n",
    "X = vcat( [ [0, -0.2] + 0.1*randn(2) for i = 1:30 ],\n",
    "\t\t[ [0.5, 0.5] + 0.1*randn(2) for i = 1:30 ],\n",
    "\t\t[ [0.5, -0.5] + 0.1*randn(2) for i = 1:20 ],\n",
    "\t\t[ [0, 0.4] + 0.06* randn(2) for i = 1:20])\n",
    "assignment, reps = kmeans(X, 3)"
   ]
  },
  {
   "cell_type": "code",
   "execution_count": 27,
   "id": "4dc378d6",
   "metadata": {},
   "outputs": [
    {
     "data": {
      "text/plain": [
       "3-element Vector{Vector{Vector{Float64}}}:\n",
       " [[0.06380351046867376, -0.33993703110555074], [0.015760604781896736, -0.08176421476953691], [-0.08582615487430792, -0.2821550924355011], [-0.011989920601035408, -0.13040107465794532], [-0.20208602369583528, -0.0977463065899038], [-0.010965765979349477, -0.1455898527577905], [0.04228924611100514, -0.36620819588180054], [-0.00038477057331151154, -0.024375888453130046], [0.048348440714758155, -0.25292836141631214], [0.08054535613113474, -0.18628236902208306]  …  [0.049969006395814475, -0.2708285458810901], [0.009985649206610337, -0.1352644951917898], [-0.0190256898577342, -0.1885626621096125], [-0.04464726456523704, -0.3273304459502331], [-0.17185690942930454, -0.33581097294815637], [0.041219325121722716, -0.03968204653782806], [0.04593016859766092, -0.2994721536101378], [-0.1267639515114295, -0.07370883697299038], [-0.09356469981176908, -0.22542085777058457], [-0.0235911054282832, -0.31259519501129174]]\n",
       " [[0.30485827042442804, -0.2952146563318551], [0.31922783128942356, -0.575014150067835], [0.3842468361526979, -0.3543628854940997], [0.46681045794388276, -0.48761636953153537], [0.34347985032169237, -0.41165567472928744], [0.5383288129712571, -0.521077035047463], [0.5548713398781417, -0.4887286197531036], [0.5604472107423055, -0.49891472489006916], [0.5475287185686607, -0.4152579502756996], [0.6085217341841759, -0.47588127050206336]  …  [0.49643553086138376, -0.4941665480989609], [0.31024544632873446, -0.660547102091307], [0.6857073842711754, -0.48368906114384563], [0.5567396821015518, -0.4435526505004759], [0.5154823348161125, -0.5667789294882837], [0.44396070210086525, -0.5726536610991075], [0.7102636601626897, -0.4747262993157822], [0.37103419381428626, -0.46766702319841774], [0.550811794188971, -0.3353122762485178], [0.5116639671509474, -0.3967087017358324]]\n",
       " [[0.3736871791410399, 0.548591877974777], [0.518855871804593, 0.7093494399914868], [0.33977634615270713, 0.508589612183677], [0.5225657474970661, 0.4314800062739155], [0.5086064042292293, 0.49114826978722265], [0.4989866232424618, 0.5098343588607916], [0.4259659590993544, 0.3961681444428998], [0.6155226268829705, 0.4685010675520822], [0.6845933026657671, 0.5255248532326086], [0.33389053101828425, 0.5623020002319503]  …  [0.1072876892077482, 0.5022594528361035], [-0.0701043888554336, 0.3938105530936933], [-0.0002057369822694941, 0.3602990220240419], [0.022422689751965343, 0.408248316121855], [-0.05258802247101238, 0.32402365950454654], [0.07576978042935423, 0.46277410266719016], [0.00981404581334714, 0.4041567649732739], [0.036457517560725045, 0.375253881846644], [0.029443650566829373, 0.43806855535235917], [0.06110346504055548, 0.32205443157025715]]"
      ]
     },
     "execution_count": 27,
     "metadata": {},
     "output_type": "execute_result"
    }
   ],
   "source": [
    "k = 3\n",
    "N = length(X)\n",
    "grps1  = [[X[i] for i=1:N if assignment[i] == j] for j=1:k]"
   ]
  },
  {
   "cell_type": "markdown",
   "id": "06a6452a",
   "metadata": {},
   "source": [
    "What is best location to open these three restaurants for Chelsea's franchisee, i.e., where are the three clustering centres?"
   ]
  },
  {
   "cell_type": "code",
   "execution_count": 28,
   "id": "4af396a8",
   "metadata": {},
   "outputs": [
    {
     "data": {
      "text/plain": [
       "1-element Vector{Float64}:\n",
       " 0.47442866722654814"
      ]
     },
     "execution_count": 28,
     "metadata": {},
     "output_type": "execute_result"
    }
   ],
   "source": [
    "center1x = [mean([c[1] for c in grps1[1]])]\n",
    "center1y = [mean([c[2] for c in grps1[1]])]\n",
    "center2x = [mean([c[1] for c in grps1[2]])]\n",
    "center2y = [mean([c[2] for c in grps1[2]])]\n",
    "center3x = [mean([c[1] for c in grps1[3]])]\n",
    "center3y = [mean([c[2] for c in grps1[3]])]"
   ]
  },
  {
   "cell_type": "code",
   "execution_count": 29,
   "id": "39d40cf9",
   "metadata": {},
   "outputs": [
    {
     "data": {
      "text/plain": [
       "2-element Vector{Vector{Float64}}:\n",
       " [-0.015626069521379796]\n",
       " [-0.2050799256284021]"
      ]
     },
     "execution_count": 29,
     "metadata": {},
     "output_type": "execute_result"
    }
   ],
   "source": [
    "center1 = [center1x,center1y]"
   ]
  },
  {
   "cell_type": "code",
   "execution_count": 30,
   "id": "759fb46d",
   "metadata": {},
   "outputs": [
    {
     "data": {
      "text/plain": [
       "2-element Vector{Vector{Float64}}:\n",
       " [0.481622334944703]\n",
       " [-0.4784536466599417]"
      ]
     },
     "execution_count": 30,
     "metadata": {},
     "output_type": "execute_result"
    }
   ],
   "source": [
    "center2 = [center2x,center2y]\n"
   ]
  },
  {
   "cell_type": "code",
   "execution_count": 31,
   "id": "7e3ae097",
   "metadata": {},
   "outputs": [
    {
     "data": {
      "text/plain": [
       "2-element Vector{Vector{Float64}}:\n",
       " [0.3067909052345134]\n",
       " [0.47442866722654814]"
      ]
     },
     "execution_count": 31,
     "metadata": {},
     "output_type": "execute_result"
    }
   ],
   "source": [
    "center3 = [center3x,center3y]"
   ]
  },
  {
   "cell_type": "markdown",
   "id": "2e963cf5",
   "metadata": {},
   "source": [
    "Mark these customers group with different colors and mark these new restaurants on the map."
   ]
  },
  {
   "cell_type": "code",
   "execution_count": 32,
   "id": "aeb5257e",
   "metadata": {},
   "outputs": [
    {
     "data": {
      "image/svg+xml": [
       "<?xml version=\"1.0\" encoding=\"utf-8\"?>\n",
       "<svg xmlns=\"http://www.w3.org/2000/svg\" xmlns:xlink=\"http://www.w3.org/1999/xlink\" width=\"500\" height=\"500\" viewBox=\"0 0 2000 2000\">\n",
       "<defs>\n",
       "  <clipPath id=\"clip200\">\n",
       "    <rect x=\"0\" y=\"0\" width=\"2000\" height=\"2000\"/>\n",
       "  </clipPath>\n",
       "</defs>\n",
       "<path clip-path=\"url(#clip200)\" d=\"\n",
       "M0 2000 L2000 2000 L2000 0 L0 0  Z\n",
       "  \" fill=\"#ffffff\" fill-rule=\"evenodd\" fill-opacity=\"1\"/>\n",
       "<defs>\n",
       "  <clipPath id=\"clip201\">\n",
       "    <rect x=\"400\" y=\"200\" width=\"1401\" height=\"1401\"/>\n",
       "  </clipPath>\n",
       "</defs>\n",
       "<path clip-path=\"url(#clip200)\" d=\"\n",
       "M220.098 1865.17 L1952.76 1865.17 L1952.76 47.2441 L220.098 47.2441  Z\n",
       "  \" fill=\"#ffffff\" fill-rule=\"evenodd\" fill-opacity=\"1\"/>\n",
       "<defs>\n",
       "  <clipPath id=\"clip202\">\n",
       "    <rect x=\"220\" y=\"47\" width=\"1734\" height=\"1819\"/>\n",
       "  </clipPath>\n",
       "</defs>\n",
       "<polyline clip-path=\"url(#clip202)\" style=\"stroke:#000000; stroke-linecap:butt; stroke-linejoin:round; stroke-width:2; stroke-opacity:0.1; fill:none\" points=\"\n",
       "  220.098,1865.17 220.098,47.2441 \n",
       "  \"/>\n",
       "<polyline clip-path=\"url(#clip202)\" style=\"stroke:#000000; stroke-linecap:butt; stroke-linejoin:round; stroke-width:2; stroke-opacity:0.1; fill:none\" points=\"\n",
       "  653.262,1865.17 653.262,47.2441 \n",
       "  \"/>\n",
       "<polyline clip-path=\"url(#clip202)\" style=\"stroke:#000000; stroke-linecap:butt; stroke-linejoin:round; stroke-width:2; stroke-opacity:0.1; fill:none\" points=\"\n",
       "  1086.43,1865.17 1086.43,47.2441 \n",
       "  \"/>\n",
       "<polyline clip-path=\"url(#clip202)\" style=\"stroke:#000000; stroke-linecap:butt; stroke-linejoin:round; stroke-width:2; stroke-opacity:0.1; fill:none\" points=\"\n",
       "  1519.59,1865.17 1519.59,47.2441 \n",
       "  \"/>\n",
       "<polyline clip-path=\"url(#clip202)\" style=\"stroke:#000000; stroke-linecap:butt; stroke-linejoin:round; stroke-width:2; stroke-opacity:0.1; fill:none\" points=\"\n",
       "  1952.76,1865.17 1952.76,47.2441 \n",
       "  \"/>\n",
       "<polyline clip-path=\"url(#clip200)\" style=\"stroke:#000000; stroke-linecap:butt; stroke-linejoin:round; stroke-width:4; stroke-opacity:1; fill:none\" points=\"\n",
       "  220.098,1865.17 1952.76,1865.17 \n",
       "  \"/>\n",
       "<polyline clip-path=\"url(#clip200)\" style=\"stroke:#000000; stroke-linecap:butt; stroke-linejoin:round; stroke-width:4; stroke-opacity:1; fill:none\" points=\"\n",
       "  220.098,1865.17 220.098,1846.27 \n",
       "  \"/>\n",
       "<polyline clip-path=\"url(#clip200)\" style=\"stroke:#000000; stroke-linecap:butt; stroke-linejoin:round; stroke-width:4; stroke-opacity:1; fill:none\" points=\"\n",
       "  653.262,1865.17 653.262,1846.27 \n",
       "  \"/>\n",
       "<polyline clip-path=\"url(#clip200)\" style=\"stroke:#000000; stroke-linecap:butt; stroke-linejoin:round; stroke-width:4; stroke-opacity:1; fill:none\" points=\"\n",
       "  1086.43,1865.17 1086.43,1846.27 \n",
       "  \"/>\n",
       "<polyline clip-path=\"url(#clip200)\" style=\"stroke:#000000; stroke-linecap:butt; stroke-linejoin:round; stroke-width:4; stroke-opacity:1; fill:none\" points=\"\n",
       "  1519.59,1865.17 1519.59,1846.27 \n",
       "  \"/>\n",
       "<polyline clip-path=\"url(#clip200)\" style=\"stroke:#000000; stroke-linecap:butt; stroke-linejoin:round; stroke-width:4; stroke-opacity:1; fill:none\" points=\"\n",
       "  1952.76,1865.17 1952.76,1846.27 \n",
       "  \"/>\n",
       "<path clip-path=\"url(#clip200)\" d=\"M152.043 1905.81 L181.718 1905.81 L181.718 1909.75 L152.043 1909.75 L152.043 1905.81 Z\" fill=\"#000000\" fill-rule=\"evenodd\" fill-opacity=\"1\" /><path clip-path=\"url(#clip200)\" d=\"M201.811 1891.16 Q198.2 1891.16 196.371 1894.72 Q194.566 1898.27 194.566 1905.39 Q194.566 1912.5 196.371 1916.07 Q198.2 1919.61 201.811 1919.61 Q205.445 1919.61 207.251 1916.07 Q209.079 1912.5 209.079 1905.39 Q209.079 1898.27 207.251 1894.72 Q205.445 1891.16 201.811 1891.16 M201.811 1887.45 Q207.621 1887.45 210.677 1892.06 Q213.755 1896.64 213.755 1905.39 Q213.755 1914.12 210.677 1918.73 Q207.621 1923.31 201.811 1923.31 Q196.001 1923.31 192.922 1918.73 Q189.867 1914.12 189.867 1905.39 Q189.867 1896.64 192.922 1892.06 Q196.001 1887.45 201.811 1887.45 Z\" fill=\"#000000\" fill-rule=\"evenodd\" fill-opacity=\"1\" /><path clip-path=\"url(#clip200)\" d=\"M221.973 1916.76 L226.857 1916.76 L226.857 1922.64 L221.973 1922.64 L221.973 1916.76 Z\" fill=\"#000000\" fill-rule=\"evenodd\" fill-opacity=\"1\" /><path clip-path=\"url(#clip200)\" d=\"M241.07 1918.7 L257.389 1918.7 L257.389 1922.64 L235.445 1922.64 L235.445 1918.7 Q238.107 1915.95 242.69 1911.32 Q247.297 1906.67 248.477 1905.33 Q250.723 1902.8 251.602 1901.07 Q252.505 1899.31 252.505 1897.62 Q252.505 1894.86 250.561 1893.13 Q248.639 1891.39 245.538 1891.39 Q243.338 1891.39 240.885 1892.15 Q238.454 1892.92 235.676 1894.47 L235.676 1889.75 Q238.501 1888.61 240.954 1888.03 Q243.408 1887.45 245.445 1887.45 Q250.815 1887.45 254.01 1890.14 Q257.204 1892.83 257.204 1897.32 Q257.204 1899.45 256.394 1901.37 Q255.607 1903.26 253.5 1905.86 Q252.922 1906.53 249.82 1909.75 Q246.718 1912.94 241.07 1918.7 Z\" fill=\"#000000\" fill-rule=\"evenodd\" fill-opacity=\"1\" /><path clip-path=\"url(#clip200)\" d=\"M267.25 1888.08 L285.607 1888.08 L285.607 1892.02 L271.533 1892.02 L271.533 1900.49 Q272.551 1900.14 273.57 1899.98 Q274.588 1899.79 275.607 1899.79 Q281.394 1899.79 284.773 1902.96 Q288.153 1906.14 288.153 1911.55 Q288.153 1917.13 284.681 1920.23 Q281.209 1923.31 274.889 1923.31 Q272.713 1923.31 270.445 1922.94 Q268.199 1922.57 265.792 1921.83 L265.792 1917.13 Q267.875 1918.26 270.098 1918.82 Q272.32 1919.38 274.797 1919.38 Q278.801 1919.38 281.139 1917.27 Q283.477 1915.16 283.477 1911.55 Q283.477 1907.94 281.139 1905.83 Q278.801 1903.73 274.797 1903.73 Q272.922 1903.73 271.047 1904.14 Q269.195 1904.56 267.25 1905.44 L267.25 1888.08 Z\" fill=\"#000000\" fill-rule=\"evenodd\" fill-opacity=\"1\" /><path clip-path=\"url(#clip200)\" d=\"M615.566 1891.16 Q611.955 1891.16 610.126 1894.72 Q608.32 1898.27 608.32 1905.39 Q608.32 1912.5 610.126 1916.07 Q611.955 1919.61 615.566 1919.61 Q619.2 1919.61 621.006 1916.07 Q622.834 1912.5 622.834 1905.39 Q622.834 1898.27 621.006 1894.72 Q619.2 1891.16 615.566 1891.16 M615.566 1887.45 Q621.376 1887.45 624.432 1892.06 Q627.51 1896.64 627.51 1905.39 Q627.51 1914.12 624.432 1918.73 Q621.376 1923.31 615.566 1923.31 Q609.756 1923.31 606.677 1918.73 Q603.621 1914.12 603.621 1905.39 Q603.621 1896.64 606.677 1892.06 Q609.756 1887.45 615.566 1887.45 Z\" fill=\"#000000\" fill-rule=\"evenodd\" fill-opacity=\"1\" /><path clip-path=\"url(#clip200)\" d=\"M635.728 1916.76 L640.612 1916.76 L640.612 1922.64 L635.728 1922.64 L635.728 1916.76 Z\" fill=\"#000000\" fill-rule=\"evenodd\" fill-opacity=\"1\" /><path clip-path=\"url(#clip200)\" d=\"M660.797 1891.16 Q657.186 1891.16 655.357 1894.72 Q653.552 1898.27 653.552 1905.39 Q653.552 1912.5 655.357 1916.07 Q657.186 1919.61 660.797 1919.61 Q664.431 1919.61 666.237 1916.07 Q668.066 1912.5 668.066 1905.39 Q668.066 1898.27 666.237 1894.72 Q664.431 1891.16 660.797 1891.16 M660.797 1887.45 Q666.607 1887.45 669.663 1892.06 Q672.741 1896.64 672.741 1905.39 Q672.741 1914.12 669.663 1918.73 Q666.607 1923.31 660.797 1923.31 Q654.987 1923.31 651.908 1918.73 Q648.853 1914.12 648.853 1905.39 Q648.853 1896.64 651.908 1892.06 Q654.987 1887.45 660.797 1887.45 Z\" fill=\"#000000\" fill-rule=\"evenodd\" fill-opacity=\"1\" /><path clip-path=\"url(#clip200)\" d=\"M690.959 1891.16 Q687.348 1891.16 685.519 1894.72 Q683.714 1898.27 683.714 1905.39 Q683.714 1912.5 685.519 1916.07 Q687.348 1919.61 690.959 1919.61 Q694.593 1919.61 696.399 1916.07 Q698.227 1912.5 698.227 1905.39 Q698.227 1898.27 696.399 1894.72 Q694.593 1891.16 690.959 1891.16 M690.959 1887.45 Q696.769 1887.45 699.825 1892.06 Q702.903 1896.64 702.903 1905.39 Q702.903 1914.12 699.825 1918.73 Q696.769 1923.31 690.959 1923.31 Q685.149 1923.31 682.07 1918.73 Q679.015 1914.12 679.015 1905.39 Q679.015 1896.64 682.07 1892.06 Q685.149 1887.45 690.959 1887.45 Z\" fill=\"#000000\" fill-rule=\"evenodd\" fill-opacity=\"1\" /><path clip-path=\"url(#clip200)\" d=\"M1049.23 1891.16 Q1045.62 1891.16 1043.79 1894.72 Q1041.98 1898.27 1041.98 1905.39 Q1041.98 1912.5 1043.79 1916.07 Q1045.62 1919.61 1049.23 1919.61 Q1052.86 1919.61 1054.67 1916.07 Q1056.5 1912.5 1056.5 1905.39 Q1056.5 1898.27 1054.67 1894.72 Q1052.86 1891.16 1049.23 1891.16 M1049.23 1887.45 Q1055.04 1887.45 1058.09 1892.06 Q1061.17 1896.64 1061.17 1905.39 Q1061.17 1914.12 1058.09 1918.73 Q1055.04 1923.31 1049.23 1923.31 Q1043.42 1923.31 1040.34 1918.73 Q1037.28 1914.12 1037.28 1905.39 Q1037.28 1896.64 1040.34 1892.06 Q1043.42 1887.45 1049.23 1887.45 Z\" fill=\"#000000\" fill-rule=\"evenodd\" fill-opacity=\"1\" /><path clip-path=\"url(#clip200)\" d=\"M1069.39 1916.76 L1074.27 1916.76 L1074.27 1922.64 L1069.39 1922.64 L1069.39 1916.76 Z\" fill=\"#000000\" fill-rule=\"evenodd\" fill-opacity=\"1\" /><path clip-path=\"url(#clip200)\" d=\"M1088.49 1918.7 L1104.81 1918.7 L1104.81 1922.64 L1082.86 1922.64 L1082.86 1918.7 Q1085.52 1915.95 1090.11 1911.32 Q1094.71 1906.67 1095.89 1905.33 Q1098.14 1902.8 1099.02 1901.07 Q1099.92 1899.31 1099.92 1897.62 Q1099.92 1894.86 1097.98 1893.13 Q1096.06 1891.39 1092.95 1891.39 Q1090.76 1891.39 1088.3 1892.15 Q1085.87 1892.92 1083.09 1894.47 L1083.09 1889.75 Q1085.92 1888.61 1088.37 1888.03 Q1090.83 1887.45 1092.86 1887.45 Q1098.23 1887.45 1101.43 1890.14 Q1104.62 1892.83 1104.62 1897.32 Q1104.62 1899.45 1103.81 1901.37 Q1103.02 1903.26 1100.92 1905.86 Q1100.34 1906.53 1097.24 1909.75 Q1094.14 1912.94 1088.49 1918.7 Z\" fill=\"#000000\" fill-rule=\"evenodd\" fill-opacity=\"1\" /><path clip-path=\"url(#clip200)\" d=\"M1114.67 1888.08 L1133.02 1888.08 L1133.02 1892.02 L1118.95 1892.02 L1118.95 1900.49 Q1119.97 1900.14 1120.99 1899.98 Q1122.01 1899.79 1123.02 1899.79 Q1128.81 1899.79 1132.19 1902.96 Q1135.57 1906.14 1135.57 1911.55 Q1135.57 1917.13 1132.1 1920.23 Q1128.63 1923.31 1122.31 1923.31 Q1120.13 1923.31 1117.86 1922.94 Q1115.62 1922.57 1113.21 1921.83 L1113.21 1917.13 Q1115.29 1918.26 1117.51 1918.82 Q1119.74 1919.38 1122.21 1919.38 Q1126.22 1919.38 1128.56 1917.27 Q1130.89 1915.16 1130.89 1911.55 Q1130.89 1907.94 1128.56 1905.83 Q1126.22 1903.73 1122.21 1903.73 Q1120.34 1903.73 1118.46 1904.14 Q1116.61 1904.56 1114.67 1905.44 L1114.67 1888.08 Z\" fill=\"#000000\" fill-rule=\"evenodd\" fill-opacity=\"1\" /><path clip-path=\"url(#clip200)\" d=\"M1481.89 1891.16 Q1478.28 1891.16 1476.46 1894.72 Q1474.65 1898.27 1474.65 1905.39 Q1474.65 1912.5 1476.46 1916.07 Q1478.28 1919.61 1481.89 1919.61 Q1485.53 1919.61 1487.33 1916.07 Q1489.16 1912.5 1489.16 1905.39 Q1489.16 1898.27 1487.33 1894.72 Q1485.53 1891.16 1481.89 1891.16 M1481.89 1887.45 Q1487.7 1887.45 1490.76 1892.06 Q1493.84 1896.64 1493.84 1905.39 Q1493.84 1914.12 1490.76 1918.73 Q1487.7 1923.31 1481.89 1923.31 Q1476.08 1923.31 1473.01 1918.73 Q1469.95 1914.12 1469.95 1905.39 Q1469.95 1896.64 1473.01 1892.06 Q1476.08 1887.45 1481.89 1887.45 Z\" fill=\"#000000\" fill-rule=\"evenodd\" fill-opacity=\"1\" /><path clip-path=\"url(#clip200)\" d=\"M1502.06 1916.76 L1506.94 1916.76 L1506.94 1922.64 L1502.06 1922.64 L1502.06 1916.76 Z\" fill=\"#000000\" fill-rule=\"evenodd\" fill-opacity=\"1\" /><path clip-path=\"url(#clip200)\" d=\"M1517.17 1888.08 L1535.53 1888.08 L1535.53 1892.02 L1521.45 1892.02 L1521.45 1900.49 Q1522.47 1900.14 1523.49 1899.98 Q1524.51 1899.79 1525.53 1899.79 Q1531.32 1899.79 1534.7 1902.96 Q1538.08 1906.14 1538.08 1911.55 Q1538.08 1917.13 1534.6 1920.23 Q1531.13 1923.31 1524.81 1923.31 Q1522.64 1923.31 1520.37 1922.94 Q1518.12 1922.57 1515.71 1921.83 L1515.71 1917.13 Q1517.8 1918.26 1520.02 1918.82 Q1522.24 1919.38 1524.72 1919.38 Q1528.72 1919.38 1531.06 1917.27 Q1533.4 1915.16 1533.4 1911.55 Q1533.4 1907.94 1531.06 1905.83 Q1528.72 1903.73 1524.72 1903.73 Q1522.84 1903.73 1520.97 1904.14 Q1519.12 1904.56 1517.17 1905.44 L1517.17 1888.08 Z\" fill=\"#000000\" fill-rule=\"evenodd\" fill-opacity=\"1\" /><path clip-path=\"url(#clip200)\" d=\"M1557.29 1891.16 Q1553.68 1891.16 1551.85 1894.72 Q1550.04 1898.27 1550.04 1905.39 Q1550.04 1912.5 1551.85 1916.07 Q1553.68 1919.61 1557.29 1919.61 Q1560.92 1919.61 1562.73 1916.07 Q1564.56 1912.5 1564.56 1905.39 Q1564.56 1898.27 1562.73 1894.72 Q1560.92 1891.16 1557.29 1891.16 M1557.29 1887.45 Q1563.1 1887.45 1566.15 1892.06 Q1569.23 1896.64 1569.23 1905.39 Q1569.23 1914.12 1566.15 1918.73 Q1563.1 1923.31 1557.29 1923.31 Q1551.48 1923.31 1548.4 1918.73 Q1545.34 1914.12 1545.34 1905.39 Q1545.34 1896.64 1548.4 1892.06 Q1551.48 1887.45 1557.29 1887.45 Z\" fill=\"#000000\" fill-rule=\"evenodd\" fill-opacity=\"1\" /><path clip-path=\"url(#clip200)\" d=\"M1915.56 1891.16 Q1911.95 1891.16 1910.12 1894.72 Q1908.31 1898.27 1908.31 1905.39 Q1908.31 1912.5 1910.12 1916.07 Q1911.95 1919.61 1915.56 1919.61 Q1919.19 1919.61 1921 1916.07 Q1922.83 1912.5 1922.83 1905.39 Q1922.83 1898.27 1921 1894.72 Q1919.19 1891.16 1915.56 1891.16 M1915.56 1887.45 Q1921.37 1887.45 1924.42 1892.06 Q1927.5 1896.64 1927.5 1905.39 Q1927.5 1914.12 1924.42 1918.73 Q1921.37 1923.31 1915.56 1923.31 Q1909.75 1923.31 1906.67 1918.73 Q1903.61 1914.12 1903.61 1905.39 Q1903.61 1896.64 1906.67 1892.06 Q1909.75 1887.45 1915.56 1887.45 Z\" fill=\"#000000\" fill-rule=\"evenodd\" fill-opacity=\"1\" /><path clip-path=\"url(#clip200)\" d=\"M1935.72 1916.76 L1940.6 1916.76 L1940.6 1922.64 L1935.72 1922.64 L1935.72 1916.76 Z\" fill=\"#000000\" fill-rule=\"evenodd\" fill-opacity=\"1\" /><path clip-path=\"url(#clip200)\" d=\"M1949.61 1888.08 L1971.83 1888.08 L1971.83 1890.07 L1959.28 1922.64 L1954.4 1922.64 L1966.2 1892.02 L1949.61 1892.02 L1949.61 1888.08 Z\" fill=\"#000000\" fill-rule=\"evenodd\" fill-opacity=\"1\" /><path clip-path=\"url(#clip200)\" d=\"M1981 1888.08 L1999.35 1888.08 L1999.35 1892.02 L1985.28 1892.02 L1985.28 1900.49 Q1986.3 1900.14 1987.32 1899.98 Q1988.33 1899.79 1989.35 1899.79 Q1995.14 1899.79 1998.52 1902.96 Q2001.9 1906.14 2001.9 1911.55 Q2001.9 1917.13 1998.43 1920.23 Q1994.95 1923.31 1988.64 1923.31 Q1986.46 1923.31 1984.19 1922.94 Q1981.95 1922.57 1979.54 1921.83 L1979.54 1917.13 Q1981.62 1918.26 1983.84 1918.82 Q1986.07 1919.38 1988.54 1919.38 Q1992.55 1919.38 1994.89 1917.27 Q1997.22 1915.16 1997.22 1911.55 Q1997.22 1907.94 1994.89 1905.83 Q1992.55 1903.73 1988.54 1903.73 Q1986.67 1903.73 1984.79 1904.14 Q1982.94 1904.56 1981 1905.44 L1981 1888.08 Z\" fill=\"#000000\" fill-rule=\"evenodd\" fill-opacity=\"1\" /><polyline clip-path=\"url(#clip202)\" style=\"stroke:#000000; stroke-linecap:butt; stroke-linejoin:round; stroke-width:2; stroke-opacity:0.1; fill:none\" points=\"\n",
       "  220.098,1865.17 1952.76,1865.17 \n",
       "  \"/>\n",
       "<polyline clip-path=\"url(#clip202)\" style=\"stroke:#000000; stroke-linecap:butt; stroke-linejoin:round; stroke-width:2; stroke-opacity:0.1; fill:none\" points=\"\n",
       "  220.098,1562.18 1952.76,1562.18 \n",
       "  \"/>\n",
       "<polyline clip-path=\"url(#clip202)\" style=\"stroke:#000000; stroke-linecap:butt; stroke-linejoin:round; stroke-width:2; stroke-opacity:0.1; fill:none\" points=\"\n",
       "  220.098,1259.19 1952.76,1259.19 \n",
       "  \"/>\n",
       "<polyline clip-path=\"url(#clip202)\" style=\"stroke:#000000; stroke-linecap:butt; stroke-linejoin:round; stroke-width:2; stroke-opacity:0.1; fill:none\" points=\"\n",
       "  220.098,956.206 1952.76,956.206 \n",
       "  \"/>\n",
       "<polyline clip-path=\"url(#clip202)\" style=\"stroke:#000000; stroke-linecap:butt; stroke-linejoin:round; stroke-width:2; stroke-opacity:0.1; fill:none\" points=\"\n",
       "  220.098,653.219 1952.76,653.219 \n",
       "  \"/>\n",
       "<polyline clip-path=\"url(#clip202)\" style=\"stroke:#000000; stroke-linecap:butt; stroke-linejoin:round; stroke-width:2; stroke-opacity:0.1; fill:none\" points=\"\n",
       "  220.098,350.231 1952.76,350.231 \n",
       "  \"/>\n",
       "<polyline clip-path=\"url(#clip202)\" style=\"stroke:#000000; stroke-linecap:butt; stroke-linejoin:round; stroke-width:2; stroke-opacity:0.1; fill:none\" points=\"\n",
       "  220.098,47.2441 1952.76,47.2441 \n",
       "  \"/>\n",
       "<polyline clip-path=\"url(#clip200)\" style=\"stroke:#000000; stroke-linecap:butt; stroke-linejoin:round; stroke-width:4; stroke-opacity:1; fill:none\" points=\"\n",
       "  220.098,1865.17 220.098,47.2441 \n",
       "  \"/>\n",
       "<polyline clip-path=\"url(#clip200)\" style=\"stroke:#000000; stroke-linecap:butt; stroke-linejoin:round; stroke-width:4; stroke-opacity:1; fill:none\" points=\"\n",
       "  220.098,1865.17 238.996,1865.17 \n",
       "  \"/>\n",
       "<polyline clip-path=\"url(#clip200)\" style=\"stroke:#000000; stroke-linecap:butt; stroke-linejoin:round; stroke-width:4; stroke-opacity:1; fill:none\" points=\"\n",
       "  220.098,1562.18 238.996,1562.18 \n",
       "  \"/>\n",
       "<polyline clip-path=\"url(#clip200)\" style=\"stroke:#000000; stroke-linecap:butt; stroke-linejoin:round; stroke-width:4; stroke-opacity:1; fill:none\" points=\"\n",
       "  220.098,1259.19 238.996,1259.19 \n",
       "  \"/>\n",
       "<polyline clip-path=\"url(#clip200)\" style=\"stroke:#000000; stroke-linecap:butt; stroke-linejoin:round; stroke-width:4; stroke-opacity:1; fill:none\" points=\"\n",
       "  220.098,956.206 238.996,956.206 \n",
       "  \"/>\n",
       "<polyline clip-path=\"url(#clip200)\" style=\"stroke:#000000; stroke-linecap:butt; stroke-linejoin:round; stroke-width:4; stroke-opacity:1; fill:none\" points=\"\n",
       "  220.098,653.219 238.996,653.219 \n",
       "  \"/>\n",
       "<polyline clip-path=\"url(#clip200)\" style=\"stroke:#000000; stroke-linecap:butt; stroke-linejoin:round; stroke-width:4; stroke-opacity:1; fill:none\" points=\"\n",
       "  220.098,350.231 238.996,350.231 \n",
       "  \"/>\n",
       "<polyline clip-path=\"url(#clip200)\" style=\"stroke:#000000; stroke-linecap:butt; stroke-linejoin:round; stroke-width:4; stroke-opacity:1; fill:none\" points=\"\n",
       "  220.098,47.2441 238.996,47.2441 \n",
       "  \"/>\n",
       "<path clip-path=\"url(#clip200)\" d=\"M53.9875 1865.62 L83.6633 1865.62 L83.6633 1869.55 L53.9875 1869.55 L53.9875 1865.62 Z\" fill=\"#000000\" fill-rule=\"evenodd\" fill-opacity=\"1\" /><path clip-path=\"url(#clip200)\" d=\"M103.756 1850.97 Q100.145 1850.97 98.316 1854.53 Q96.5104 1858.07 96.5104 1865.2 Q96.5104 1872.31 98.316 1875.87 Q100.145 1879.42 103.756 1879.42 Q107.39 1879.42 109.196 1875.87 Q111.024 1872.31 111.024 1865.2 Q111.024 1858.07 109.196 1854.53 Q107.39 1850.97 103.756 1850.97 M103.756 1847.26 Q109.566 1847.26 112.621 1851.87 Q115.7 1856.45 115.7 1865.2 Q115.7 1873.93 112.621 1878.54 Q109.566 1883.12 103.756 1883.12 Q97.9456 1883.12 94.8669 1878.54 Q91.8114 1873.93 91.8114 1865.2 Q91.8114 1856.45 94.8669 1851.87 Q97.9456 1847.26 103.756 1847.26 Z\" fill=\"#000000\" fill-rule=\"evenodd\" fill-opacity=\"1\" /><path clip-path=\"url(#clip200)\" d=\"M123.918 1876.57 L128.802 1876.57 L128.802 1882.45 L123.918 1882.45 L123.918 1876.57 Z\" fill=\"#000000\" fill-rule=\"evenodd\" fill-opacity=\"1\" /><path clip-path=\"url(#clip200)\" d=\"M137.806 1847.89 L160.029 1847.89 L160.029 1849.88 L147.482 1882.45 L142.598 1882.45 L154.404 1851.82 L137.806 1851.82 L137.806 1847.89 Z\" fill=\"#000000\" fill-rule=\"evenodd\" fill-opacity=\"1\" /><path clip-path=\"url(#clip200)\" d=\"M169.195 1847.89 L187.552 1847.89 L187.552 1851.82 L173.478 1851.82 L173.478 1860.3 Q174.496 1859.95 175.515 1859.79 Q176.533 1859.6 177.552 1859.6 Q183.339 1859.6 186.718 1862.77 Q190.098 1865.94 190.098 1871.36 Q190.098 1876.94 186.626 1880.04 Q183.153 1883.12 176.834 1883.12 Q174.658 1883.12 172.39 1882.75 Q170.144 1882.38 167.737 1881.64 L167.737 1876.94 Q169.82 1878.07 172.042 1878.63 Q174.265 1879.18 176.741 1879.18 Q180.746 1879.18 183.084 1877.08 Q185.422 1874.97 185.422 1871.36 Q185.422 1867.75 183.084 1865.64 Q180.746 1863.54 176.741 1863.54 Q174.866 1863.54 172.991 1863.95 Q171.14 1864.37 169.195 1865.25 L169.195 1847.89 Z\" fill=\"#000000\" fill-rule=\"evenodd\" fill-opacity=\"1\" /><path clip-path=\"url(#clip200)\" d=\"M52.9921 1562.63 L82.6679 1562.63 L82.6679 1566.57 L52.9921 1566.57 L52.9921 1562.63 Z\" fill=\"#000000\" fill-rule=\"evenodd\" fill-opacity=\"1\" /><path clip-path=\"url(#clip200)\" d=\"M102.76 1547.98 Q99.1493 1547.98 97.3206 1551.54 Q95.515 1555.09 95.515 1562.22 Q95.515 1569.32 97.3206 1572.89 Q99.1493 1576.43 102.76 1576.43 Q106.395 1576.43 108.2 1572.89 Q110.029 1569.32 110.029 1562.22 Q110.029 1555.09 108.2 1551.54 Q106.395 1547.98 102.76 1547.98 M102.76 1544.28 Q108.571 1544.28 111.626 1548.88 Q114.705 1553.47 114.705 1562.22 Q114.705 1570.94 111.626 1575.55 Q108.571 1580.13 102.76 1580.13 Q96.9502 1580.13 93.8715 1575.55 Q90.816 1570.94 90.816 1562.22 Q90.816 1553.47 93.8715 1548.88 Q96.9502 1544.28 102.76 1544.28 Z\" fill=\"#000000\" fill-rule=\"evenodd\" fill-opacity=\"1\" /><path clip-path=\"url(#clip200)\" d=\"M122.922 1573.58 L127.807 1573.58 L127.807 1579.46 L122.922 1579.46 L122.922 1573.58 Z\" fill=\"#000000\" fill-rule=\"evenodd\" fill-opacity=\"1\" /><path clip-path=\"url(#clip200)\" d=\"M138.038 1544.9 L156.394 1544.9 L156.394 1548.84 L142.32 1548.84 L142.32 1557.31 Q143.339 1556.96 144.357 1556.8 Q145.376 1556.61 146.394 1556.61 Q152.181 1556.61 155.561 1559.78 Q158.941 1562.96 158.941 1568.37 Q158.941 1573.95 155.468 1577.05 Q151.996 1580.13 145.677 1580.13 Q143.501 1580.13 141.232 1579.76 Q138.987 1579.39 136.58 1578.65 L136.58 1573.95 Q138.663 1575.09 140.885 1575.64 Q143.107 1576.2 145.584 1576.2 Q149.589 1576.2 151.927 1574.09 Q154.265 1571.98 154.265 1568.37 Q154.265 1564.76 151.927 1562.66 Q149.589 1560.55 145.584 1560.55 Q143.709 1560.55 141.834 1560.97 Q139.982 1561.38 138.038 1562.26 L138.038 1544.9 Z\" fill=\"#000000\" fill-rule=\"evenodd\" fill-opacity=\"1\" /><path clip-path=\"url(#clip200)\" d=\"M178.153 1547.98 Q174.542 1547.98 172.714 1551.54 Q170.908 1555.09 170.908 1562.22 Q170.908 1569.32 172.714 1572.89 Q174.542 1576.43 178.153 1576.43 Q181.788 1576.43 183.593 1572.89 Q185.422 1569.32 185.422 1562.22 Q185.422 1555.09 183.593 1551.54 Q181.788 1547.98 178.153 1547.98 M178.153 1544.28 Q183.964 1544.28 187.019 1548.88 Q190.098 1553.47 190.098 1562.22 Q190.098 1570.94 187.019 1575.55 Q183.964 1580.13 178.153 1580.13 Q172.343 1580.13 169.265 1575.55 Q166.209 1570.94 166.209 1562.22 Q166.209 1553.47 169.265 1548.88 Q172.343 1544.28 178.153 1544.28 Z\" fill=\"#000000\" fill-rule=\"evenodd\" fill-opacity=\"1\" /><path clip-path=\"url(#clip200)\" d=\"M53.9875 1259.64 L83.6633 1259.64 L83.6633 1263.58 L53.9875 1263.58 L53.9875 1259.64 Z\" fill=\"#000000\" fill-rule=\"evenodd\" fill-opacity=\"1\" /><path clip-path=\"url(#clip200)\" d=\"M103.756 1244.99 Q100.145 1244.99 98.316 1248.56 Q96.5104 1252.1 96.5104 1259.23 Q96.5104 1266.33 98.316 1269.9 Q100.145 1273.44 103.756 1273.44 Q107.39 1273.44 109.196 1269.9 Q111.024 1266.33 111.024 1259.23 Q111.024 1252.1 109.196 1248.56 Q107.39 1244.99 103.756 1244.99 M103.756 1241.29 Q109.566 1241.29 112.621 1245.89 Q115.7 1250.48 115.7 1259.23 Q115.7 1267.95 112.621 1272.56 Q109.566 1277.14 103.756 1277.14 Q97.9456 1277.14 94.8669 1272.56 Q91.8114 1267.95 91.8114 1259.23 Q91.8114 1250.48 94.8669 1245.89 Q97.9456 1241.29 103.756 1241.29 Z\" fill=\"#000000\" fill-rule=\"evenodd\" fill-opacity=\"1\" /><path clip-path=\"url(#clip200)\" d=\"M123.918 1270.59 L128.802 1270.59 L128.802 1276.47 L123.918 1276.47 L123.918 1270.59 Z\" fill=\"#000000\" fill-rule=\"evenodd\" fill-opacity=\"1\" /><path clip-path=\"url(#clip200)\" d=\"M143.015 1272.54 L159.334 1272.54 L159.334 1276.47 L137.39 1276.47 L137.39 1272.54 Q140.052 1269.78 144.635 1265.15 Q149.242 1260.5 150.422 1259.16 Q152.668 1256.64 153.547 1254.9 Q154.45 1253.14 154.45 1251.45 Q154.45 1248.7 152.505 1246.96 Q150.584 1245.22 147.482 1245.22 Q145.283 1245.22 142.83 1245.99 Q140.399 1246.75 137.621 1248.3 L137.621 1243.58 Q140.445 1242.45 142.899 1241.87 Q145.353 1241.29 147.39 1241.29 Q152.76 1241.29 155.955 1243.97 Q159.149 1246.66 159.149 1251.15 Q159.149 1253.28 158.339 1255.2 Q157.552 1257.1 155.445 1259.69 Q154.867 1260.36 151.765 1263.58 Q148.663 1266.77 143.015 1272.54 Z\" fill=\"#000000\" fill-rule=\"evenodd\" fill-opacity=\"1\" /><path clip-path=\"url(#clip200)\" d=\"M169.195 1241.91 L187.552 1241.91 L187.552 1245.85 L173.478 1245.85 L173.478 1254.32 Q174.496 1253.97 175.515 1253.81 Q176.533 1253.63 177.552 1253.63 Q183.339 1253.63 186.718 1256.8 Q190.098 1259.97 190.098 1265.39 Q190.098 1270.96 186.626 1274.07 Q183.153 1277.14 176.834 1277.14 Q174.658 1277.14 172.39 1276.77 Q170.144 1276.4 167.737 1275.66 L167.737 1270.96 Q169.82 1272.1 172.042 1272.65 Q174.265 1273.21 176.741 1273.21 Q180.746 1273.21 183.084 1271.1 Q185.422 1269 185.422 1265.39 Q185.422 1261.77 183.084 1259.67 Q180.746 1257.56 176.741 1257.56 Q174.866 1257.56 172.991 1257.98 Q171.14 1258.39 169.195 1259.27 L169.195 1241.91 Z\" fill=\"#000000\" fill-rule=\"evenodd\" fill-opacity=\"1\" /><path clip-path=\"url(#clip200)\" d=\"M102.76 942.005 Q99.1493 942.005 97.3206 945.569 Q95.515 949.111 95.515 956.241 Q95.515 963.347 97.3206 966.912 Q99.1493 970.454 102.76 970.454 Q106.395 970.454 108.2 966.912 Q110.029 963.347 110.029 956.241 Q110.029 949.111 108.2 945.569 Q106.395 942.005 102.76 942.005 M102.76 938.301 Q108.571 938.301 111.626 942.907 Q114.705 947.491 114.705 956.241 Q114.705 964.968 111.626 969.574 Q108.571 974.157 102.76 974.157 Q96.9502 974.157 93.8715 969.574 Q90.816 964.968 90.816 956.241 Q90.816 947.491 93.8715 942.907 Q96.9502 938.301 102.76 938.301 Z\" fill=\"#000000\" fill-rule=\"evenodd\" fill-opacity=\"1\" /><path clip-path=\"url(#clip200)\" d=\"M122.922 967.606 L127.807 967.606 L127.807 973.486 L122.922 973.486 L122.922 967.606 Z\" fill=\"#000000\" fill-rule=\"evenodd\" fill-opacity=\"1\" /><path clip-path=\"url(#clip200)\" d=\"M147.992 942.005 Q144.381 942.005 142.552 945.569 Q140.746 949.111 140.746 956.241 Q140.746 963.347 142.552 966.912 Q144.381 970.454 147.992 970.454 Q151.626 970.454 153.431 966.912 Q155.26 963.347 155.26 956.241 Q155.26 949.111 153.431 945.569 Q151.626 942.005 147.992 942.005 M147.992 938.301 Q153.802 938.301 156.857 942.907 Q159.936 947.491 159.936 956.241 Q159.936 964.968 156.857 969.574 Q153.802 974.157 147.992 974.157 Q142.181 974.157 139.103 969.574 Q136.047 964.968 136.047 956.241 Q136.047 947.491 139.103 942.907 Q142.181 938.301 147.992 938.301 Z\" fill=\"#000000\" fill-rule=\"evenodd\" fill-opacity=\"1\" /><path clip-path=\"url(#clip200)\" d=\"M178.153 942.005 Q174.542 942.005 172.714 945.569 Q170.908 949.111 170.908 956.241 Q170.908 963.347 172.714 966.912 Q174.542 970.454 178.153 970.454 Q181.788 970.454 183.593 966.912 Q185.422 963.347 185.422 956.241 Q185.422 949.111 183.593 945.569 Q181.788 942.005 178.153 942.005 M178.153 938.301 Q183.964 938.301 187.019 942.907 Q190.098 947.491 190.098 956.241 Q190.098 964.968 187.019 969.574 Q183.964 974.157 178.153 974.157 Q172.343 974.157 169.265 969.574 Q166.209 964.968 166.209 956.241 Q166.209 947.491 169.265 942.907 Q172.343 938.301 178.153 938.301 Z\" fill=\"#000000\" fill-rule=\"evenodd\" fill-opacity=\"1\" /><path clip-path=\"url(#clip200)\" d=\"M103.756 639.017 Q100.145 639.017 98.316 642.582 Q96.5104 646.124 96.5104 653.253 Q96.5104 660.36 98.316 663.925 Q100.145 667.466 103.756 667.466 Q107.39 667.466 109.196 663.925 Q111.024 660.36 111.024 653.253 Q111.024 646.124 109.196 642.582 Q107.39 639.017 103.756 639.017 M103.756 635.314 Q109.566 635.314 112.621 639.92 Q115.7 644.503 115.7 653.253 Q115.7 661.98 112.621 666.587 Q109.566 671.17 103.756 671.17 Q97.9456 671.17 94.8669 666.587 Q91.8114 661.98 91.8114 653.253 Q91.8114 644.503 94.8669 639.92 Q97.9456 635.314 103.756 635.314 Z\" fill=\"#000000\" fill-rule=\"evenodd\" fill-opacity=\"1\" /><path clip-path=\"url(#clip200)\" d=\"M123.918 664.619 L128.802 664.619 L128.802 670.499 L123.918 670.499 L123.918 664.619 Z\" fill=\"#000000\" fill-rule=\"evenodd\" fill-opacity=\"1\" /><path clip-path=\"url(#clip200)\" d=\"M143.015 666.564 L159.334 666.564 L159.334 670.499 L137.39 670.499 L137.39 666.564 Q140.052 663.809 144.635 659.179 Q149.242 654.527 150.422 653.184 Q152.668 650.661 153.547 648.925 Q154.45 647.165 154.45 645.476 Q154.45 642.721 152.505 640.985 Q150.584 639.249 147.482 639.249 Q145.283 639.249 142.83 640.013 Q140.399 640.777 137.621 642.328 L137.621 637.605 Q140.445 636.471 142.899 635.892 Q145.353 635.314 147.39 635.314 Q152.76 635.314 155.955 637.999 Q159.149 640.684 159.149 645.175 Q159.149 647.304 158.339 649.226 Q157.552 651.124 155.445 653.716 Q154.867 654.388 151.765 657.605 Q148.663 660.8 143.015 666.564 Z\" fill=\"#000000\" fill-rule=\"evenodd\" fill-opacity=\"1\" /><path clip-path=\"url(#clip200)\" d=\"M169.195 635.939 L187.552 635.939 L187.552 639.874 L173.478 639.874 L173.478 648.346 Q174.496 647.999 175.515 647.837 Q176.533 647.652 177.552 647.652 Q183.339 647.652 186.718 650.823 Q190.098 653.994 190.098 659.411 Q190.098 664.989 186.626 668.091 Q183.153 671.17 176.834 671.17 Q174.658 671.17 172.39 670.8 Q170.144 670.429 167.737 669.689 L167.737 664.989 Q169.82 666.124 172.042 666.679 Q174.265 667.235 176.741 667.235 Q180.746 667.235 183.084 665.128 Q185.422 663.022 185.422 659.411 Q185.422 655.8 183.084 653.693 Q180.746 651.587 176.741 651.587 Q174.866 651.587 172.991 652.003 Q171.14 652.42 169.195 653.3 L169.195 635.939 Z\" fill=\"#000000\" fill-rule=\"evenodd\" fill-opacity=\"1\" /><path clip-path=\"url(#clip200)\" d=\"M102.76 336.03 Q99.1493 336.03 97.3206 339.595 Q95.515 343.137 95.515 350.266 Q95.515 357.373 97.3206 360.937 Q99.1493 364.479 102.76 364.479 Q106.395 364.479 108.2 360.937 Q110.029 357.373 110.029 350.266 Q110.029 343.137 108.2 339.595 Q106.395 336.03 102.76 336.03 M102.76 332.326 Q108.571 332.326 111.626 336.933 Q114.705 341.516 114.705 350.266 Q114.705 358.993 111.626 363.599 Q108.571 368.183 102.76 368.183 Q96.9502 368.183 93.8715 363.599 Q90.816 358.993 90.816 350.266 Q90.816 341.516 93.8715 336.933 Q96.9502 332.326 102.76 332.326 Z\" fill=\"#000000\" fill-rule=\"evenodd\" fill-opacity=\"1\" /><path clip-path=\"url(#clip200)\" d=\"M122.922 361.632 L127.807 361.632 L127.807 367.511 L122.922 367.511 L122.922 361.632 Z\" fill=\"#000000\" fill-rule=\"evenodd\" fill-opacity=\"1\" /><path clip-path=\"url(#clip200)\" d=\"M138.038 332.951 L156.394 332.951 L156.394 336.887 L142.32 336.887 L142.32 345.359 Q143.339 345.012 144.357 344.849 Q145.376 344.664 146.394 344.664 Q152.181 344.664 155.561 347.836 Q158.941 351.007 158.941 356.423 Q158.941 362.002 155.468 365.104 Q151.996 368.183 145.677 368.183 Q143.501 368.183 141.232 367.812 Q138.987 367.442 136.58 366.701 L136.58 362.002 Q138.663 363.136 140.885 363.692 Q143.107 364.248 145.584 364.248 Q149.589 364.248 151.927 362.141 Q154.265 360.035 154.265 356.423 Q154.265 352.812 151.927 350.706 Q149.589 348.599 145.584 348.599 Q143.709 348.599 141.834 349.016 Q139.982 349.433 138.038 350.312 L138.038 332.951 Z\" fill=\"#000000\" fill-rule=\"evenodd\" fill-opacity=\"1\" /><path clip-path=\"url(#clip200)\" d=\"M178.153 336.03 Q174.542 336.03 172.714 339.595 Q170.908 343.137 170.908 350.266 Q170.908 357.373 172.714 360.937 Q174.542 364.479 178.153 364.479 Q181.788 364.479 183.593 360.937 Q185.422 357.373 185.422 350.266 Q185.422 343.137 183.593 339.595 Q181.788 336.03 178.153 336.03 M178.153 332.326 Q183.964 332.326 187.019 336.933 Q190.098 341.516 190.098 350.266 Q190.098 358.993 187.019 363.599 Q183.964 368.183 178.153 368.183 Q172.343 368.183 169.265 363.599 Q166.209 358.993 166.209 350.266 Q166.209 341.516 169.265 336.933 Q172.343 332.326 178.153 332.326 Z\" fill=\"#000000\" fill-rule=\"evenodd\" fill-opacity=\"1\" /><path clip-path=\"url(#clip200)\" d=\"M103.756 33.0428 Q100.145 33.0428 98.316 36.6076 Q96.5104 40.1492 96.5104 47.2788 Q96.5104 54.3853 98.316 57.9501 Q100.145 61.4917 103.756 61.4917 Q107.39 61.4917 109.196 57.9501 Q111.024 54.3853 111.024 47.2788 Q111.024 40.1492 109.196 36.6076 Q107.39 33.0428 103.756 33.0428 M103.756 29.3391 Q109.566 29.3391 112.621 33.9456 Q115.7 38.5289 115.7 47.2788 Q115.7 56.0056 112.621 60.6121 Q109.566 65.1954 103.756 65.1954 Q97.9456 65.1954 94.8669 60.6121 Q91.8114 56.0056 91.8114 47.2788 Q91.8114 38.5289 94.8669 33.9456 Q97.9456 29.3391 103.756 29.3391 Z\" fill=\"#000000\" fill-rule=\"evenodd\" fill-opacity=\"1\" /><path clip-path=\"url(#clip200)\" d=\"M123.918 58.6445 L128.802 58.6445 L128.802 64.5241 L123.918 64.5241 L123.918 58.6445 Z\" fill=\"#000000\" fill-rule=\"evenodd\" fill-opacity=\"1\" /><path clip-path=\"url(#clip200)\" d=\"M137.806 29.9641 L160.029 29.9641 L160.029 31.9548 L147.482 64.5241 L142.598 64.5241 L154.404 33.8993 L137.806 33.8993 L137.806 29.9641 Z\" fill=\"#000000\" fill-rule=\"evenodd\" fill-opacity=\"1\" /><path clip-path=\"url(#clip200)\" d=\"M169.195 29.9641 L187.552 29.9641 L187.552 33.8993 L173.478 33.8993 L173.478 42.3714 Q174.496 42.0242 175.515 41.8622 Q176.533 41.677 177.552 41.677 Q183.339 41.677 186.718 44.8483 Q190.098 48.0196 190.098 53.4362 Q190.098 59.0149 186.626 62.1167 Q183.153 65.1954 176.834 65.1954 Q174.658 65.1954 172.39 64.825 Q170.144 64.4547 167.737 63.7139 L167.737 59.0149 Q169.82 60.1491 172.042 60.7047 Q174.265 61.2602 176.741 61.2602 Q180.746 61.2602 183.084 59.1538 Q185.422 57.0473 185.422 53.4362 Q185.422 49.8251 183.084 47.7186 Q180.746 45.6122 176.741 45.6122 Q174.866 45.6122 172.991 46.0288 Q171.14 46.4455 169.195 47.3251 L169.195 29.9641 Z\" fill=\"#000000\" fill-rule=\"evenodd\" fill-opacity=\"1\" /><circle clip-path=\"url(#clip202)\" cx=\"1300.73\" cy=\"1368.19\" r=\"14\" fill=\"#008000\" fill-rule=\"evenodd\" fill-opacity=\"1\" stroke=\"#000000\" stroke-opacity=\"1\" stroke-width=\"4\"/>\n",
       "<circle clip-path=\"url(#clip202)\" cx=\"1552.26\" cy=\"1055.3\" r=\"14\" fill=\"#008000\" fill-rule=\"evenodd\" fill-opacity=\"1\" stroke=\"#000000\" stroke-opacity=\"1\" stroke-width=\"4\"/>\n",
       "<circle clip-path=\"url(#clip202)\" cx=\"1241.98\" cy=\"1298.16\" r=\"14\" fill=\"#008000\" fill-rule=\"evenodd\" fill-opacity=\"1\" stroke=\"#000000\" stroke-opacity=\"1\" stroke-width=\"4\"/>\n",
       "<circle clip-path=\"url(#clip202)\" cx=\"1558.69\" cy=\"1114.25\" r=\"14\" fill=\"#008000\" fill-rule=\"evenodd\" fill-opacity=\"1\" stroke=\"#000000\" stroke-opacity=\"1\" stroke-width=\"4\"/>\n",
       "<circle clip-path=\"url(#clip202)\" cx=\"1534.5\" cy=\"1074.67\" r=\"14\" fill=\"#008000\" fill-rule=\"evenodd\" fill-opacity=\"1\" stroke=\"#000000\" stroke-opacity=\"1\" stroke-width=\"4\"/>\n",
       "<circle clip-path=\"url(#clip202)\" cx=\"1517.84\" cy=\"1132.65\" r=\"14\" fill=\"#008000\" fill-rule=\"evenodd\" fill-opacity=\"1\" stroke=\"#000000\" stroke-opacity=\"1\" stroke-width=\"4\"/>\n",
       "<circle clip-path=\"url(#clip202)\" cx=\"1391.32\" cy=\"1400.03\" r=\"14\" fill=\"#008000\" fill-rule=\"evenodd\" fill-opacity=\"1\" stroke=\"#000000\" stroke-opacity=\"1\" stroke-width=\"4\"/>\n",
       "<circle clip-path=\"url(#clip202)\" cx=\"1719.75\" cy=\"985.748\" r=\"14\" fill=\"#008000\" fill-rule=\"evenodd\" fill-opacity=\"1\" stroke=\"#000000\" stroke-opacity=\"1\" stroke-width=\"4\"/>\n",
       "<circle clip-path=\"url(#clip202)\" cx=\"1839.43\" cy=\"1262.74\" r=\"14\" fill=\"#008000\" fill-rule=\"evenodd\" fill-opacity=\"1\" stroke=\"#000000\" stroke-opacity=\"1\" stroke-width=\"4\"/>\n",
       "<circle clip-path=\"url(#clip202)\" cx=\"1231.78\" cy=\"1181.97\" r=\"14\" fill=\"#008000\" fill-rule=\"evenodd\" fill-opacity=\"1\" stroke=\"#000000\" stroke-opacity=\"1\" stroke-width=\"4\"/>\n",
       "<circle clip-path=\"url(#clip202)\" cx=\"1469.23\" cy=\"1532.95\" r=\"14\" fill=\"#008000\" fill-rule=\"evenodd\" fill-opacity=\"1\" stroke=\"#000000\" stroke-opacity=\"1\" stroke-width=\"4\"/>\n",
       "<circle clip-path=\"url(#clip202)\" cx=\"1367.08\" cy=\"1145.71\" r=\"14\" fill=\"#008000\" fill-rule=\"evenodd\" fill-opacity=\"1\" stroke=\"#000000\" stroke-opacity=\"1\" stroke-width=\"4\"/>\n",
       "<circle clip-path=\"url(#clip202)\" cx=\"1443.29\" cy=\"1325.97\" r=\"14\" fill=\"#008000\" fill-rule=\"evenodd\" fill-opacity=\"1\" stroke=\"#000000\" stroke-opacity=\"1\" stroke-width=\"4\"/>\n",
       "<circle clip-path=\"url(#clip202)\" cx=\"1906.8\" cy=\"989.852\" r=\"14\" fill=\"#008000\" fill-rule=\"evenodd\" fill-opacity=\"1\" stroke=\"#000000\" stroke-opacity=\"1\" stroke-width=\"4\"/>\n",
       "<circle clip-path=\"url(#clip202)\" cx=\"1635.33\" cy=\"1170.13\" r=\"14\" fill=\"#008000\" fill-rule=\"evenodd\" fill-opacity=\"1\" stroke=\"#000000\" stroke-opacity=\"1\" stroke-width=\"4\"/>\n",
       "<circle clip-path=\"url(#clip202)\" cx=\"1565.94\" cy=\"1308.91\" r=\"14\" fill=\"#008000\" fill-rule=\"evenodd\" fill-opacity=\"1\" stroke=\"#000000\" stroke-opacity=\"1\" stroke-width=\"4\"/>\n",
       "<circle clip-path=\"url(#clip202)\" cx=\"1700.28\" cy=\"1008.24\" r=\"14\" fill=\"#008000\" fill-rule=\"evenodd\" fill-opacity=\"1\" stroke=\"#000000\" stroke-opacity=\"1\" stroke-width=\"4\"/>\n",
       "<circle clip-path=\"url(#clip202)\" cx=\"1614.54\" cy=\"1126.25\" r=\"14\" fill=\"#008000\" fill-rule=\"evenodd\" fill-opacity=\"1\" stroke=\"#000000\" stroke-opacity=\"1\" stroke-width=\"4\"/>\n",
       "<circle clip-path=\"url(#clip202)\" cx=\"1692.16\" cy=\"1217.25\" r=\"14\" fill=\"#008000\" fill-rule=\"evenodd\" fill-opacity=\"1\" stroke=\"#000000\" stroke-opacity=\"1\" stroke-width=\"4\"/>\n",
       "<circle clip-path=\"url(#clip202)\" cx=\"1357.75\" cy=\"1284.44\" r=\"14\" fill=\"#008000\" fill-rule=\"evenodd\" fill-opacity=\"1\" stroke=\"#000000\" stroke-opacity=\"1\" stroke-width=\"4\"/>\n",
       "<circle clip-path=\"url(#clip202)\" cx=\"1619.85\" cy=\"1120.14\" r=\"14\" fill=\"#008000\" fill-rule=\"evenodd\" fill-opacity=\"1\" stroke=\"#000000\" stroke-opacity=\"1\" stroke-width=\"4\"/>\n",
       "<circle clip-path=\"url(#clip202)\" cx=\"1187.17\" cy=\"1184.73\" r=\"14\" fill=\"#008000\" fill-rule=\"evenodd\" fill-opacity=\"1\" stroke=\"#000000\" stroke-opacity=\"1\" stroke-width=\"4\"/>\n",
       "<circle clip-path=\"url(#clip202)\" cx=\"1513.41\" cy=\"1352.91\" r=\"14\" fill=\"#008000\" fill-rule=\"evenodd\" fill-opacity=\"1\" stroke=\"#000000\" stroke-opacity=\"1\" stroke-width=\"4\"/>\n",
       "<circle clip-path=\"url(#clip202)\" cx=\"1492.51\" cy=\"1363.19\" r=\"14\" fill=\"#008000\" fill-rule=\"evenodd\" fill-opacity=\"1\" stroke=\"#000000\" stroke-opacity=\"1\" stroke-width=\"4\"/>\n",
       "<circle clip-path=\"url(#clip202)\" cx=\"1424.62\" cy=\"1004.3\" r=\"14\" fill=\"#008000\" fill-rule=\"evenodd\" fill-opacity=\"1\" stroke=\"#000000\" stroke-opacity=\"1\" stroke-width=\"4\"/>\n",
       "<circle clip-path=\"url(#clip202)\" cx=\"1566.58\" cy=\"1319.15\" r=\"14\" fill=\"#008000\" fill-rule=\"evenodd\" fill-opacity=\"1\" stroke=\"#000000\" stroke-opacity=\"1\" stroke-width=\"4\"/>\n",
       "<circle clip-path=\"url(#clip202)\" cx=\"1423.75\" cy=\"1045.54\" r=\"14\" fill=\"#008000\" fill-rule=\"evenodd\" fill-opacity=\"1\" stroke=\"#000000\" stroke-opacity=\"1\" stroke-width=\"4\"/>\n",
       "<circle clip-path=\"url(#clip202)\" cx=\"1375.75\" cy=\"1229.4\" r=\"14\" fill=\"#008000\" fill-rule=\"evenodd\" fill-opacity=\"1\" stroke=\"#000000\" stroke-opacity=\"1\" stroke-width=\"4\"/>\n",
       "<circle clip-path=\"url(#clip202)\" cx=\"1590.8\" cy=\"1335.06\" r=\"14\" fill=\"#008000\" fill-rule=\"evenodd\" fill-opacity=\"1\" stroke=\"#000000\" stroke-opacity=\"1\" stroke-width=\"4\"/>\n",
       "<circle clip-path=\"url(#clip202)\" cx=\"1539.58\" cy=\"1368.19\" r=\"14\" fill=\"#008000\" fill-rule=\"evenodd\" fill-opacity=\"1\" stroke=\"#000000\" stroke-opacity=\"1\" stroke-width=\"4\"/>\n",
       "<circle clip-path=\"url(#clip202)\" cx=\"763.812\" cy=\"1313.99\" r=\"14\" fill=\"#0000ff\" fill-rule=\"evenodd\" fill-opacity=\"1\" stroke=\"#000000\" stroke-opacity=\"1\" stroke-width=\"4\"/>\n",
       "<circle clip-path=\"url(#clip202)\" cx=\"680.57\" cy=\"1653.09\" r=\"14\" fill=\"#0000ff\" fill-rule=\"evenodd\" fill-opacity=\"1\" stroke=\"#000000\" stroke-opacity=\"1\" stroke-width=\"4\"/>\n",
       "<circle clip-path=\"url(#clip202)\" cx=\"504.555\" cy=\"1385.68\" r=\"14\" fill=\"#0000ff\" fill-rule=\"evenodd\" fill-opacity=\"1\" stroke=\"#000000\" stroke-opacity=\"1\" stroke-width=\"4\"/>\n",
       "<circle clip-path=\"url(#clip202)\" cx=\"632.488\" cy=\"1547.17\" r=\"14\" fill=\"#0000ff\" fill-rule=\"evenodd\" fill-opacity=\"1\" stroke=\"#000000\" stroke-opacity=\"1\" stroke-width=\"4\"/>\n",
       "<circle clip-path=\"url(#clip202)\" cx=\"303.116\" cy=\"1455.11\" r=\"14\" fill=\"#0000ff\" fill-rule=\"evenodd\" fill-opacity=\"1\" stroke=\"#000000\" stroke-opacity=\"1\" stroke-width=\"4\"/>\n",
       "<circle clip-path=\"url(#clip202)\" cx=\"634.262\" cy=\"1587.72\" r=\"14\" fill=\"#0000ff\" fill-rule=\"evenodd\" fill-opacity=\"1\" stroke=\"#000000\" stroke-opacity=\"1\" stroke-width=\"4\"/>\n",
       "<circle clip-path=\"url(#clip202)\" cx=\"726.535\" cy=\"1548.52\" r=\"14\" fill=\"#0000ff\" fill-rule=\"evenodd\" fill-opacity=\"1\" stroke=\"#000000\" stroke-opacity=\"1\" stroke-width=\"4\"/>\n",
       "<circle clip-path=\"url(#clip202)\" cx=\"652.596\" cy=\"1560.87\" r=\"14\" fill=\"#0000ff\" fill-rule=\"evenodd\" fill-opacity=\"1\" stroke=\"#000000\" stroke-opacity=\"1\" stroke-width=\"4\"/>\n",
       "<circle clip-path=\"url(#clip202)\" cx=\"737.034\" cy=\"1459.48\" r=\"14\" fill=\"#0000ff\" fill-rule=\"evenodd\" fill-opacity=\"1\" stroke=\"#000000\" stroke-opacity=\"1\" stroke-width=\"4\"/>\n",
       "<circle clip-path=\"url(#clip202)\" cx=\"792.82\" cy=\"1532.95\" r=\"14\" fill=\"#0000ff\" fill-rule=\"evenodd\" fill-opacity=\"1\" stroke=\"#000000\" stroke-opacity=\"1\" stroke-width=\"4\"/>\n",
       "<circle clip-path=\"url(#clip202)\" cx=\"671.761\" cy=\"1717.31\" r=\"14\" fill=\"#0000ff\" fill-rule=\"evenodd\" fill-opacity=\"1\" stroke=\"#000000\" stroke-opacity=\"1\" stroke-width=\"4\"/>\n",
       "<circle clip-path=\"url(#clip202)\" cx=\"376.631\" cy=\"1555.11\" r=\"14\" fill=\"#0000ff\" fill-rule=\"evenodd\" fill-opacity=\"1\" stroke=\"#000000\" stroke-opacity=\"1\" stroke-width=\"4\"/>\n",
       "<circle clip-path=\"url(#clip202)\" cx=\"733.324\" cy=\"1756.76\" r=\"14\" fill=\"#0000ff\" fill-rule=\"evenodd\" fill-opacity=\"1\" stroke=\"#000000\" stroke-opacity=\"1\" stroke-width=\"4\"/>\n",
       "<circle clip-path=\"url(#clip202)\" cx=\"455.622\" cy=\"1542.41\" r=\"14\" fill=\"#0000ff\" fill-rule=\"evenodd\" fill-opacity=\"1\" stroke=\"#000000\" stroke-opacity=\"1\" stroke-width=\"4\"/>\n",
       "<circle clip-path=\"url(#clip202)\" cx=\"940.793\" cy=\"1493.77\" r=\"14\" fill=\"#0000ff\" fill-rule=\"evenodd\" fill-opacity=\"1\" stroke=\"#000000\" stroke-opacity=\"1\" stroke-width=\"4\"/>\n",
       "<circle clip-path=\"url(#clip202)\" cx=\"392.321\" cy=\"1643.11\" r=\"14\" fill=\"#0000ff\" fill-rule=\"evenodd\" fill-opacity=\"1\" stroke=\"#000000\" stroke-opacity=\"1\" stroke-width=\"4\"/>\n",
       "<circle clip-path=\"url(#clip202)\" cx=\"803.27\" cy=\"1650.23\" r=\"14\" fill=\"#0000ff\" fill-rule=\"evenodd\" fill-opacity=\"1\" stroke=\"#000000\" stroke-opacity=\"1\" stroke-width=\"4\"/>\n",
       "<circle clip-path=\"url(#clip202)\" cx=\"741.97\" cy=\"1531.55\" r=\"14\" fill=\"#0000ff\" fill-rule=\"evenodd\" fill-opacity=\"1\" stroke=\"#000000\" stroke-opacity=\"1\" stroke-width=\"4\"/>\n",
       "<circle clip-path=\"url(#clip202)\" cx=\"659.183\" cy=\"1522.99\" r=\"14\" fill=\"#0000ff\" fill-rule=\"evenodd\" fill-opacity=\"1\" stroke=\"#000000\" stroke-opacity=\"1\" stroke-width=\"4\"/>\n",
       "<circle clip-path=\"url(#clip202)\" cx=\"739.842\" cy=\"1362.59\" r=\"14\" fill=\"#0000ff\" fill-rule=\"evenodd\" fill-opacity=\"1\" stroke=\"#000000\" stroke-opacity=\"1\" stroke-width=\"4\"/>\n",
       "<circle clip-path=\"url(#clip202)\" cx=\"670.564\" cy=\"1437\" r=\"14\" fill=\"#0000ff\" fill-rule=\"evenodd\" fill-opacity=\"1\" stroke=\"#000000\" stroke-opacity=\"1\" stroke-width=\"4\"/>\n",
       "<circle clip-path=\"url(#clip202)\" cx=\"620.297\" cy=\"1313.99\" r=\"14\" fill=\"#0000ff\" fill-rule=\"evenodd\" fill-opacity=\"1\" stroke=\"#000000\" stroke-opacity=\"1\" stroke-width=\"4\"/>\n",
       "<circle clip-path=\"url(#clip202)\" cx=\"575.904\" cy=\"1653.09\" r=\"14\" fill=\"#0000ff\" fill-rule=\"evenodd\" fill-opacity=\"1\" stroke=\"#000000\" stroke-opacity=\"1\" stroke-width=\"4\"/>\n",
       "<circle clip-path=\"url(#clip202)\" cx=\"355.493\" cy=\"1385.68\" r=\"14\" fill=\"#0000ff\" fill-rule=\"evenodd\" fill-opacity=\"1\" stroke=\"#000000\" stroke-opacity=\"1\" stroke-width=\"4\"/>\n",
       "<circle clip-path=\"url(#clip202)\" cx=\"724.681\" cy=\"1547.17\" r=\"14\" fill=\"#0000ff\" fill-rule=\"evenodd\" fill-opacity=\"1\" stroke=\"#000000\" stroke-opacity=\"1\" stroke-width=\"4\"/>\n",
       "<circle clip-path=\"url(#clip202)\" cx=\"732.844\" cy=\"1455.11\" r=\"14\" fill=\"#0000ff\" fill-rule=\"evenodd\" fill-opacity=\"1\" stroke=\"#000000\" stroke-opacity=\"1\" stroke-width=\"4\"/>\n",
       "<circle clip-path=\"url(#clip202)\" cx=\"433.624\" cy=\"1587.72\" r=\"14\" fill=\"#0000ff\" fill-rule=\"evenodd\" fill-opacity=\"1\" stroke=\"#000000\" stroke-opacity=\"1\" stroke-width=\"4\"/>\n",
       "<circle clip-path=\"url(#clip202)\" cx=\"491.147\" cy=\"1548.52\" r=\"14\" fill=\"#0000ff\" fill-rule=\"evenodd\" fill-opacity=\"1\" stroke=\"#000000\" stroke-opacity=\"1\" stroke-width=\"4\"/>\n",
       "<circle clip-path=\"url(#clip202)\" cx=\"612.387\" cy=\"1560.87\" r=\"14\" fill=\"#0000ff\" fill-rule=\"evenodd\" fill-opacity=\"1\" stroke=\"#000000\" stroke-opacity=\"1\" stroke-width=\"4\"/>\n",
       "<circle clip-path=\"url(#clip202)\" cx=\"1181.48\" cy=\"291.341\" r=\"14\" fill=\"#ffa500\" fill-rule=\"evenodd\" fill-opacity=\"1\" stroke=\"#000000\" stroke-opacity=\"1\" stroke-width=\"4\"/>\n",
       "<circle clip-path=\"url(#clip202)\" cx=\"1206.38\" cy=\"96.5105\" r=\"14\" fill=\"#ffa500\" fill-rule=\"evenodd\" fill-opacity=\"1\" stroke=\"#000000\" stroke-opacity=\"1\" stroke-width=\"4\"/>\n",
       "<circle clip-path=\"url(#clip202)\" cx=\"1319.03\" cy=\"339.821\" r=\"14\" fill=\"#ffa500\" fill-rule=\"evenodd\" fill-opacity=\"1\" stroke=\"#000000\" stroke-opacity=\"1\" stroke-width=\"4\"/>\n",
       "<circle clip-path=\"url(#clip202)\" cx=\"1462.09\" cy=\"433.274\" r=\"14\" fill=\"#ffa500\" fill-rule=\"evenodd\" fill-opacity=\"1\" stroke=\"#000000\" stroke-opacity=\"1\" stroke-width=\"4\"/>\n",
       "<circle clip-path=\"url(#clip202)\" cx=\"1248.4\" cy=\"360.959\" r=\"14\" fill=\"#ffa500\" fill-rule=\"evenodd\" fill-opacity=\"1\" stroke=\"#000000\" stroke-opacity=\"1\" stroke-width=\"4\"/>\n",
       "<circle clip-path=\"url(#clip202)\" cx=\"1586\" cy=\"338.313\" r=\"14\" fill=\"#ffa500\" fill-rule=\"evenodd\" fill-opacity=\"1\" stroke=\"#000000\" stroke-opacity=\"1\" stroke-width=\"4\"/>\n",
       "<circle clip-path=\"url(#clip202)\" cx=\"1614.66\" cy=\"476.07\" r=\"14\" fill=\"#ffa500\" fill-rule=\"evenodd\" fill-opacity=\"1\" stroke=\"#000000\" stroke-opacity=\"1\" stroke-width=\"4\"/>\n",
       "<circle clip-path=\"url(#clip202)\" cx=\"1624.33\" cy=\"388.406\" r=\"14\" fill=\"#ffa500\" fill-rule=\"evenodd\" fill-opacity=\"1\" stroke=\"#000000\" stroke-opacity=\"1\" stroke-width=\"4\"/>\n",
       "<circle clip-path=\"url(#clip202)\" cx=\"1601.94\" cy=\"319.297\" r=\"14\" fill=\"#ffa500\" fill-rule=\"evenodd\" fill-opacity=\"1\" stroke=\"#000000\" stroke-opacity=\"1\" stroke-width=\"4\"/>\n",
       "<circle clip-path=\"url(#clip202)\" cx=\"1707.62\" cy=\"274.725\" r=\"14\" fill=\"#ffa500\" fill-rule=\"evenodd\" fill-opacity=\"1\" stroke=\"#000000\" stroke-opacity=\"1\" stroke-width=\"4\"/>\n",
       "<circle clip-path=\"url(#clip202)\" cx=\"1230.94\" cy=\"379.017\" r=\"14\" fill=\"#ffa500\" fill-rule=\"evenodd\" fill-opacity=\"1\" stroke=\"#000000\" stroke-opacity=\"1\" stroke-width=\"4\"/>\n",
       "<circle clip-path=\"url(#clip202)\" cx=\"1513.42\" cy=\"293.563\" r=\"14\" fill=\"#ffa500\" fill-rule=\"evenodd\" fill-opacity=\"1\" stroke=\"#000000\" stroke-opacity=\"1\" stroke-width=\"4\"/>\n",
       "<circle clip-path=\"url(#clip202)\" cx=\"1190.81\" cy=\"407.111\" r=\"14\" fill=\"#ffa500\" fill-rule=\"evenodd\" fill-opacity=\"1\" stroke=\"#000000\" stroke-opacity=\"1\" stroke-width=\"4\"/>\n",
       "<circle clip-path=\"url(#clip202)\" cx=\"1841.36\" cy=\"368.031\" r=\"14\" fill=\"#ffa500\" fill-rule=\"evenodd\" fill-opacity=\"1\" stroke=\"#000000\" stroke-opacity=\"1\" stroke-width=\"4\"/>\n",
       "<circle clip-path=\"url(#clip202)\" cx=\"1617.9\" cy=\"438.334\" r=\"14\" fill=\"#ffa500\" fill-rule=\"evenodd\" fill-opacity=\"1\" stroke=\"#000000\" stroke-opacity=\"1\" stroke-width=\"4\"/>\n",
       "<circle clip-path=\"url(#clip202)\" cx=\"1546.42\" cy=\"219.425\" r=\"14\" fill=\"#ffa500\" fill-rule=\"evenodd\" fill-opacity=\"1\" stroke=\"#000000\" stroke-opacity=\"1\" stroke-width=\"4\"/>\n",
       "<circle clip-path=\"url(#clip202)\" cx=\"1422.49\" cy=\"240.387\" r=\"14\" fill=\"#ffa500\" fill-rule=\"evenodd\" fill-opacity=\"1\" stroke=\"#000000\" stroke-opacity=\"1\" stroke-width=\"4\"/>\n",
       "<circle clip-path=\"url(#clip202)\" cx=\"1883.91\" cy=\"403.885\" r=\"14\" fill=\"#ffa500\" fill-rule=\"evenodd\" fill-opacity=\"1\" stroke=\"#000000\" stroke-opacity=\"1\" stroke-width=\"4\"/>\n",
       "<circle clip-path=\"url(#clip202)\" cx=\"1296.14\" cy=\"212.678\" r=\"14\" fill=\"#ffa500\" fill-rule=\"evenodd\" fill-opacity=\"1\" stroke=\"#000000\" stroke-opacity=\"1\" stroke-width=\"4\"/>\n",
       "<circle clip-path=\"url(#clip202)\" cx=\"1607.63\" cy=\"194.968\" r=\"14\" fill=\"#ffa500\" fill-rule=\"evenodd\" fill-opacity=\"1\" stroke=\"#000000\" stroke-opacity=\"1\" stroke-width=\"4\"/>\n",
       "<circle clip-path=\"url(#clip202)\" cx=\"1539.8\" cy=\"286.935\" r=\"14\" fill=\"#ffa500\" fill-rule=\"evenodd\" fill-opacity=\"1\" stroke=\"#000000\" stroke-opacity=\"1\" stroke-width=\"4\"/>\n",
       "<path clip-path=\"url(#clip202)\" d=\"M626.188 1220.75 L621.66 1209.28 L610.188 1204.75 L621.66 1200.22 L626.188 1188.75 L630.716 1200.22 L642.188 1204.75 L630.716 1209.28 L626.188 1220.75 Z\" fill=\"#ffc0cb\" fill-rule=\"evenodd\" fill-opacity=\"1\" stroke=\"#000000\" stroke-opacity=\"1\" stroke-width=\"4\"/>\n",
       "<path clip-path=\"url(#clip202)\" d=\"M1487.75 1552.07 L1483.22 1540.6 L1471.75 1536.07 L1483.22 1531.54 L1487.75 1520.07 L1492.28 1531.54 L1503.75 1536.07 L1492.28 1540.6 L1487.75 1552.07 Z\" fill=\"#ffff00\" fill-rule=\"evenodd\" fill-opacity=\"1\" stroke=\"#000000\" stroke-opacity=\"1\" stroke-width=\"4\"/>\n",
       "<path clip-path=\"url(#clip202)\" d=\"M1184.83 397.223 L1180.3 385.751 L1168.83 381.223 L1180.3 376.695 L1184.83 365.223 L1189.35 376.695 L1200.83 381.223 L1189.35 385.751 L1184.83 397.223 Z\" fill=\"#000000\" fill-rule=\"evenodd\" fill-opacity=\"1\" stroke=\"none\"/>\n",
       "</svg>\n"
      ]
     },
     "execution_count": 32,
     "metadata": {},
     "output_type": "execute_result"
    }
   ],
   "source": [
    "scatter([c[1] for c in grps[1]], [c[2] for c in grps1[1]], markercolor = :green,label =\"cust_clus_1\")\n",
    "scatter!([c[1] for c in grps[2]], [c[2] for c in grps1[2]], markercolor = :blue,label =\"cust_clus_2\")\n",
    "scatter!([c[1] for c in grps[3]], [c[2] for c in grps1[3]], markercolor = :orange,label =\"cust_clus_3\")\n",
    "scatter!(center1x,center1y, markercolor = :pink,markershape = :star4, label =\"center1\")\n",
    "scatter!(center2x,center2y, markercolor = :yellow,markershape = :star4, label =\"center2\")\n",
    "scatter!(center3x,center3y, markercolor = :black,markershape = :star4, label =\"center3\")\n",
    "plot!(legend = false, grid = true, size = (500,500),\n",
    "       xlims = (-0.25,0.75), ylims = (-0.75,0.75))"
   ]
  },
  {
   "cell_type": "markdown",
   "id": "44934505",
   "metadata": {},
   "source": [
    "Use 1-norm to measure distance in the 𝑘-means algorithm. And plot the customers on the map. Are they the same as (b)?"
   ]
  },
  {
   "cell_type": "code",
   "execution_count": 33,
   "id": "b2851d6c",
   "metadata": {},
   "outputs": [
    {
     "data": {
      "text/plain": [
       "kmeans1 (generic function with 1 method)"
      ]
     },
     "execution_count": 33,
     "metadata": {},
     "output_type": "execute_result"
    }
   ],
   "source": [
    "function kmeans1(x, k; maxiters = 100, tol = 1e-5)\n",
    "\tN = length(x) #number point of cluster\n",
    "\tn = length(x[1]) # the dimention\n",
    "\tdistances = zeros(N)  # used to store the distance of each\n",
    "\treps1 = [zeros(n) for j=1:k]  # used to store representatives.\n",
    "\t# 'assignment1' is an array of N integers between 1 and k.\n",
    "\tassignment1 = [ rand(1:k) for i in 1:N ] # The initial assignment1 is chosen randomly.\n",
    "\tJprevious = Inf  # used in stopping condition\n",
    "\tfor iter = 1:maxiters\n",
    "    \t# Cluster j representative is average of points in cluster j.\n",
    "\t\tfor j = 1:k\n",
    "        group = [i for i=1:N if assignment1[i] == j]\n",
    "        reps1[j] = sum(x[group]) / length(group);\n",
    "    end;\n",
    "    # For each x[i], find distance to the nearest representative\n",
    "\t# and its group index.\n",
    "\tfor i=1:N\n",
    "\t(distances[i], assignment1[i]) =\n",
    "\tfindmin([cityblock(x[i],reps1[j]) for j = 1:k]) #change to l1\n",
    "\tend;\n",
    "\t# Compute clustering objective.\n",
    "\tJ = norm(distances)^2 / N \n",
    "\t# Show progress and terminate if J stopped decreasing.\n",
    "\tprintln(\"Iteration \", iter, \": Jclust = \", J, \".\")\n",
    "\tif iter>1&&abs(J-Jprevious)<tol*J\n",
    "\treturn assignment1, reps1\n",
    "\tend\n",
    "\tJprevious = J\n",
    "\tend\n",
    "end"
   ]
  },
  {
   "cell_type": "code",
   "execution_count": 38,
   "id": "075efd94",
   "metadata": {},
   "outputs": [
    {
     "name": "stdout",
     "output_type": "stream",
     "text": [
      "Iteration 1: Jclust = 0.33839061037078016.\n"
     ]
    },
    {
     "ename": "LoadError",
     "evalue": "MethodError: no method matching zero(::Type{Vector{Float64}})\n\u001b[0mClosest candidates are:\n\u001b[0m  zero(\u001b[91m::Union{Type{P}, P}\u001b[39m) where P<:Dates.Period at /Users/sabae/src/julia/usr/share/julia/stdlib/v1.7/Dates/src/periods.jl:53\n\u001b[0m  zero(\u001b[91m::AbstractIrrational\u001b[39m) at irrationals.jl:150\n\u001b[0m  zero(\u001b[91m::T\u001b[39m) where T<:Dates.TimeType at /Users/sabae/src/julia/usr/share/julia/stdlib/v1.7/Dates/src/types.jl:450\n\u001b[0m  ...",
     "output_type": "error",
     "traceback": [
      "MethodError: no method matching zero(::Type{Vector{Float64}})\n\u001b[0mClosest candidates are:\n\u001b[0m  zero(\u001b[91m::Union{Type{P}, P}\u001b[39m) where P<:Dates.Period at /Users/sabae/src/julia/usr/share/julia/stdlib/v1.7/Dates/src/periods.jl:53\n\u001b[0m  zero(\u001b[91m::AbstractIrrational\u001b[39m) at irrationals.jl:150\n\u001b[0m  zero(\u001b[91m::T\u001b[39m) where T<:Dates.TimeType at /Users/sabae/src/julia/usr/share/julia/stdlib/v1.7/Dates/src/types.jl:450\n\u001b[0m  ...",
      "",
      "Stacktrace:",
      "  [1] reduce_empty(#unused#::typeof(+), #unused#::Type{Vector{Float64}})",
      "    @ Base ./reduce.jl:313",
      "  [2] reduce_empty(#unused#::typeof(Base.add_sum), #unused#::Type{Vector{Float64}})",
      "    @ Base ./reduce.jl:322",
      "  [3] mapreduce_empty(#unused#::typeof(identity), op::Function, T::Type)",
      "    @ Base ./reduce.jl:345",
      "  [4] reduce_empty(op::Base.MappingRF{typeof(identity), typeof(Base.add_sum)}, #unused#::Type{Vector{Float64}})",
      "    @ Base ./reduce.jl:331",
      "  [5] reduce_empty_iter",
      "    @ ./reduce.jl:357 [inlined]",
      "  [6] mapreduce_empty_iter(f::Function, op::Function, itr::Vector{Vector{Float64}}, ItrEltype::Base.HasEltype)",
      "    @ Base ./reduce.jl:353",
      "  [7] _mapreduce(f::typeof(identity), op::typeof(Base.add_sum), #unused#::IndexLinear, A::Vector{Vector{Float64}})",
      "    @ Base ./reduce.jl:402",
      "  [8] _mapreduce_dim",
      "    @ ./reducedim.jl:330 [inlined]",
      "  [9] #mapreduce#725",
      "    @ ./reducedim.jl:322 [inlined]",
      " [10] mapreduce",
      "    @ ./reducedim.jl:322 [inlined]",
      " [11] #_sum#735",
      "    @ ./reducedim.jl:894 [inlined]",
      " [12] _sum",
      "    @ ./reducedim.jl:894 [inlined]",
      " [13] #_sum#734",
      "    @ ./reducedim.jl:893 [inlined]",
      " [14] _sum",
      "    @ ./reducedim.jl:893 [inlined]",
      " [15] #sum#732",
      "    @ ./reducedim.jl:889 [inlined]",
      " [16] sum",
      "    @ ./reducedim.jl:889 [inlined]",
      " [17] kmeans1(x::Vector{Vector{Float64}}, k::Int64; maxiters::Int64, tol::Float64)",
      "    @ Main ./In[33]:13",
      " [18] kmeans1(x::Vector{Vector{Float64}}, k::Int64)",
      "    @ Main ./In[33]:2",
      " [19] top-level scope",
      "    @ In[38]:1",
      " [20] eval",
      "    @ ./boot.jl:373 [inlined]",
      " [21] include_string(mapexpr::typeof(REPL.softscope), mod::Module, code::String, filename::String)",
      "    @ Base ./loading.jl:1196"
     ]
    }
   ],
   "source": [
    "assignment1, reps1 = kmeans1(X, 3)\n",
    "k = 3\n",
    "N = length(X)\n",
    "#idk why sometimes it error and sometime it dont"
   ]
  },
  {
   "cell_type": "markdown",
   "id": "917a38c6",
   "metadata": {},
   "source": [
    "2D Do you think 3 is a good clustering number? Why?\n"
   ]
  },
  {
   "cell_type": "markdown",
   "id": "b58d824d",
   "metadata": {},
   "source": [
    "No, because there is 4 cluster there so it wouldn't be equal to three of them"
   ]
  },
  {
   "cell_type": "markdown",
   "id": "faf2b869",
   "metadata": {},
   "source": [
    "(Ida the mathematician) \n",
    "Write a function Gram_Schmidt that takes the input of an array containing vectors. \n",
    "The function returns the orthonormal set of vectors when the input array contains vectors that are all linearly independent; \n",
    "otherwise, return “Vectors are linearly dependent.”."
   ]
  },
  {
   "cell_type": "code",
   "execution_count": 39,
   "id": "b89fea31",
   "metadata": {},
   "outputs": [
    {
     "data": {
      "text/plain": [
       "gram_schmidt (generic function with 1 method)"
      ]
     },
     "execution_count": 39,
     "metadata": {},
     "output_type": "execute_result"
    }
   ],
   "source": [
    "function gram_schmidt(a; tol = 1e-10)\n",
    "\tq=[]\n",
    "\tfor i = 1:length(a)\n",
    "    \tqtilde = a[i]\n",
    "\t\tfor j = 1:i-1\n",
    "    \t\tqtilde -= (q[j]'*a[i]) * q[j]\n",
    "\t\tend\n",
    "    if norm(qtilde) < tol\n",
    "       println(\"Vectors are linearly dependent.\")\n",
    "       return q\n",
    "\tend\n",
    "    push!(q, qtilde/norm(qtilde))\n",
    "\tend;\n",
    "\treturn q\n",
    "end"
   ]
  },
  {
   "cell_type": "code",
   "execution_count": 40,
   "id": "f3e43033",
   "metadata": {},
   "outputs": [
    {
     "data": {
      "text/plain": [
       "3-element Vector{Any}:\n",
       " [-0.5, 0.5, -0.5, 0.5]\n",
       " [0.5, 0.5, 0.5, 0.5]\n",
       " [-0.5, -0.5, 0.5, 0.5]"
      ]
     },
     "execution_count": 40,
     "metadata": {},
     "output_type": "execute_result"
    }
   ],
   "source": [
    "a = [ [-1, 1, -1, 1], [-1, 3, -1, 3], [1, 3, 5, 7] ]\n",
    "q = gram_schmidt(a)"
   ]
  },
  {
   "cell_type": "code",
   "execution_count": 41,
   "id": "63330402",
   "metadata": {},
   "outputs": [
    {
     "name": "stdout",
     "output_type": "stream",
     "text": [
      "Vectors are linearly dependent.\n"
     ]
    },
    {
     "data": {
      "text/plain": [
       "2-element Vector{Any}:\n",
       " [-0.5, 0.5, -0.5, 0.5]\n",
       " [0.5, 0.5, 0.5, 0.5]"
      ]
     },
     "execution_count": 41,
     "metadata": {},
     "output_type": "execute_result"
    }
   ],
   "source": [
    "# replace a3 with a linear combination of a1 and a2 it become linearly dependent\n",
    "b = [ a[1], a[2], 1.3*a[1] + 0.5*a[2] ]\n",
    "q = gram_schmidt(b)"
   ]
  },
  {
   "cell_type": "code",
   "execution_count": 42,
   "id": "9fa791f4",
   "metadata": {},
   "outputs": [
    {
     "name": "stdout",
     "output_type": "stream",
     "text": [
      "Vectors are linearly dependent.\n"
     ]
    },
    {
     "data": {
      "text/plain": [
       "2-element Vector{Any}:\n",
       " [0.7071067811865475, 0.7071067811865475]\n",
       " [-0.7071067811865471, 0.7071067811865478]"
      ]
     },
     "execution_count": 42,
     "metadata": {},
     "output_type": "execute_result"
    }
   ],
   "source": [
    "three_two_vectors = [ [1,1], [1,2], [-1,1] ]\n",
    "q = gram_schmidt(three_two_vectors)"
   ]
  }
 ],
 "metadata": {
  "@webio": {
   "lastCommId": null,
   "lastKernelId": null
  },
  "kernelspec": {
   "display_name": "Julia nteract 1.7.0-rc1",
   "language": "julia",
   "name": "julia-nteract-1.7"
  },
  "language_info": {
   "file_extension": ".jl",
   "mimetype": "application/julia",
   "name": "julia",
   "version": "1.7.0"
  }
 },
 "nbformat": 4,
 "nbformat_minor": 5
}
